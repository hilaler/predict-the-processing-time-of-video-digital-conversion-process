{
  "nbformat": 4,
  "nbformat_minor": 0,
  "metadata": {
    "colab": {
      "provenance": [],
      "collapsed_sections": []
    },
    "kernelspec": {
      "name": "python3",
      "display_name": "Python 3"
    },
    "language_info": {
      "name": "python"
    }
  },
  "cells": [
    {
      "cell_type": "code",
      "execution_count": 2,
      "metadata": {
        "colab": {
          "base_uri": "https://localhost:8080/"
        },
        "id": "LhiH4qTLCSgX",
        "outputId": "60b7d5ee-3ca6-471e-ef95-0a9737956543"
      },
      "outputs": [
        {
          "output_type": "stream",
          "name": "stdout",
          "text": [
            "Mounted at /content/drive\n"
          ]
        }
      ],
      "source": [
        "from google.colab import drive\n",
        "drive.mount('/content/drive')"
      ]
    },
    {
      "cell_type": "code",
      "source": [
        "import pandas as pd\n",
        "import numpy as np\n",
        "from keras.models import Sequential\n",
        "import tensorflow as tf\n",
        "from keras.layers import Dense,Dropout\n",
        "from xgboost import XGBClassifier\n",
        "from sklearn.neighbors import KNeighborsClassifier\n",
        "from sklearn.metrics import classification_report\n",
        "from sklearn.model_selection import RandomizedSearchCV\n",
        "from sklearn.model_selection import train_test_split\n",
        "from sklearn.tree import DecisionTreeRegressor\n",
        "\n",
        "\n",
        "import warnings\n",
        "warnings.filterwarnings(\"ignore\")"
      ],
      "metadata": {
        "id": "l1W3s-6nFNhZ"
      },
      "execution_count": 3,
      "outputs": []
    },
    {
      "cell_type": "code",
      "source": [
        "df_train = pd.read_csv('/content/drive/MyDrive/dana_assignment/train.csv')\n",
        "df_test = pd.read_csv('/content/drive/MyDrive/dana_assignment/test.csv')"
      ],
      "metadata": {
        "id": "rO-WXATRD3vm"
      },
      "execution_count": 4,
      "outputs": []
    },
    {
      "cell_type": "code",
      "source": [
        "df_train"
      ],
      "metadata": {
        "colab": {
          "base_uri": "https://localhost:8080/",
          "height": 424
        },
        "id": "4-sIZ0J7TD6Y",
        "outputId": "db63428a-9c79-4cd9-b576-db0ab404a12b"
      },
      "execution_count": 5,
      "outputs": [
        {
          "output_type": "execute_result",
          "data": {
            "text/plain": [
              "       frame_class     codec  tc_frame_class  duration     width    height  \\\n",
              "0        -0.012136 -0.003760        0.266388 -0.578253 -0.233065  0.130536   \n",
              "1         0.215067 -0.003760        0.266388 -0.578253 -0.233065  1.011278   \n",
              "2        -0.185225 -0.356859       -0.247993 -0.578253 -0.219027 -0.015070   \n",
              "3         1.706016  1.408634        1.295149 -0.578253 -0.081711  0.525890   \n",
              "4         1.433054 -0.709958       -0.762374 -0.578253 -0.583888  0.462023   \n",
              "...            ...       ...             ...       ...       ...       ...   \n",
              "37950    -0.829433 -0.356859       -0.247993 -0.578253 -0.325280 -0.623713   \n",
              "37951     0.393329  0.230399        0.266388 -0.578253 -0.087057  1.317838   \n",
              "37952     4.121638  1.408634        1.295149 -0.578253  1.490621  2.888962   \n",
              "37953     0.745474 -0.036090       -0.020173 -0.578253 -0.044687 -0.015070   \n",
              "37954    -0.829433 -0.356859       -0.247993 -0.578253 -0.325280 -0.652212   \n",
              "\n",
              "        bitrate  intracoded_frame  predicted_frame  total_frame  \\\n",
              "0      0.055739          0.060733         0.496059    -0.154455   \n",
              "1      0.585648          0.590640        -0.011273    -0.429946   \n",
              "2     -0.124670         -0.123155        -0.352876    -0.179299   \n",
              "3     -0.015054         -0.005229         2.780378     0.415053   \n",
              "4      1.614256          1.600107        -0.431438    -0.314903   \n",
              "...         ...               ...              ...          ...   \n",
              "37950 -0.742555         -0.743959        -0.645165    -0.376966   \n",
              "37951  0.809960          0.816435        -0.010756     0.109780   \n",
              "37952  4.679157          4.661903         4.199842     5.873819   \n",
              "37953  0.880784          0.867798        -0.349876    -0.287594   \n",
              "37954 -0.742555         -0.743959        -0.645165    -0.376966   \n",
              "\n",
              "       intracoded_size  predicted_size  total_size  tc_width  tc_height  \\\n",
              "0            -0.107233       -0.870877   -0.457940 -0.459726   1.353451   \n",
              "1            -0.406999        1.114894    1.870629  1.860771  -0.738852   \n",
              "2            -0.196931       -0.870877   -0.267669 -0.072735   1.353451   \n",
              "3             0.608696        0.122008    0.801480  0.701245  -0.738852   \n",
              "4            -0.331076        0.122008   -0.802244 -0.846716  -0.738852   \n",
              "...                ...             ...         ...       ...        ...   \n",
              "37950        -0.406427       -0.870877   -1.042802 -1.156309  -0.738852   \n",
              "37951         0.102856       -0.870877   -1.151872 -1.156309   1.353451   \n",
              "37952         5.875610        0.122008   -0.802244 -0.846716   1.353451   \n",
              "37953        -0.294698       -0.870877    0.801480  0.701245  -0.738852   \n",
              "37954        -0.406352       -0.870877    1.870629  1.862217  -0.738852   \n",
              "\n",
              "       tc_bitrate  label  \n",
              "0        0.917145      1  \n",
              "1       -0.328746      2  \n",
              "2       -0.489340      0  \n",
              "3        2.060164      2  \n",
              "4       -0.765379      1  \n",
              "...           ...    ...  \n",
              "37950   -0.489340      0  \n",
              "37951    2.060164      1  \n",
              "37952   -0.765379      0  \n",
              "37953    2.060164      0  \n",
              "37954   -0.328746      2  \n",
              "\n",
              "[37955 rows x 17 columns]"
            ],
            "text/html": [
              "\n",
              "  <div id=\"df-a706f1fa-d59e-4145-912f-ceda4123de2b\">\n",
              "    <div class=\"colab-df-container\">\n",
              "      <div>\n",
              "<style scoped>\n",
              "    .dataframe tbody tr th:only-of-type {\n",
              "        vertical-align: middle;\n",
              "    }\n",
              "\n",
              "    .dataframe tbody tr th {\n",
              "        vertical-align: top;\n",
              "    }\n",
              "\n",
              "    .dataframe thead th {\n",
              "        text-align: right;\n",
              "    }\n",
              "</style>\n",
              "<table border=\"1\" class=\"dataframe\">\n",
              "  <thead>\n",
              "    <tr style=\"text-align: right;\">\n",
              "      <th></th>\n",
              "      <th>frame_class</th>\n",
              "      <th>codec</th>\n",
              "      <th>tc_frame_class</th>\n",
              "      <th>duration</th>\n",
              "      <th>width</th>\n",
              "      <th>height</th>\n",
              "      <th>bitrate</th>\n",
              "      <th>intracoded_frame</th>\n",
              "      <th>predicted_frame</th>\n",
              "      <th>total_frame</th>\n",
              "      <th>intracoded_size</th>\n",
              "      <th>predicted_size</th>\n",
              "      <th>total_size</th>\n",
              "      <th>tc_width</th>\n",
              "      <th>tc_height</th>\n",
              "      <th>tc_bitrate</th>\n",
              "      <th>label</th>\n",
              "    </tr>\n",
              "  </thead>\n",
              "  <tbody>\n",
              "    <tr>\n",
              "      <th>0</th>\n",
              "      <td>-0.012136</td>\n",
              "      <td>-0.003760</td>\n",
              "      <td>0.266388</td>\n",
              "      <td>-0.578253</td>\n",
              "      <td>-0.233065</td>\n",
              "      <td>0.130536</td>\n",
              "      <td>0.055739</td>\n",
              "      <td>0.060733</td>\n",
              "      <td>0.496059</td>\n",
              "      <td>-0.154455</td>\n",
              "      <td>-0.107233</td>\n",
              "      <td>-0.870877</td>\n",
              "      <td>-0.457940</td>\n",
              "      <td>-0.459726</td>\n",
              "      <td>1.353451</td>\n",
              "      <td>0.917145</td>\n",
              "      <td>1</td>\n",
              "    </tr>\n",
              "    <tr>\n",
              "      <th>1</th>\n",
              "      <td>0.215067</td>\n",
              "      <td>-0.003760</td>\n",
              "      <td>0.266388</td>\n",
              "      <td>-0.578253</td>\n",
              "      <td>-0.233065</td>\n",
              "      <td>1.011278</td>\n",
              "      <td>0.585648</td>\n",
              "      <td>0.590640</td>\n",
              "      <td>-0.011273</td>\n",
              "      <td>-0.429946</td>\n",
              "      <td>-0.406999</td>\n",
              "      <td>1.114894</td>\n",
              "      <td>1.870629</td>\n",
              "      <td>1.860771</td>\n",
              "      <td>-0.738852</td>\n",
              "      <td>-0.328746</td>\n",
              "      <td>2</td>\n",
              "    </tr>\n",
              "    <tr>\n",
              "      <th>2</th>\n",
              "      <td>-0.185225</td>\n",
              "      <td>-0.356859</td>\n",
              "      <td>-0.247993</td>\n",
              "      <td>-0.578253</td>\n",
              "      <td>-0.219027</td>\n",
              "      <td>-0.015070</td>\n",
              "      <td>-0.124670</td>\n",
              "      <td>-0.123155</td>\n",
              "      <td>-0.352876</td>\n",
              "      <td>-0.179299</td>\n",
              "      <td>-0.196931</td>\n",
              "      <td>-0.870877</td>\n",
              "      <td>-0.267669</td>\n",
              "      <td>-0.072735</td>\n",
              "      <td>1.353451</td>\n",
              "      <td>-0.489340</td>\n",
              "      <td>0</td>\n",
              "    </tr>\n",
              "    <tr>\n",
              "      <th>3</th>\n",
              "      <td>1.706016</td>\n",
              "      <td>1.408634</td>\n",
              "      <td>1.295149</td>\n",
              "      <td>-0.578253</td>\n",
              "      <td>-0.081711</td>\n",
              "      <td>0.525890</td>\n",
              "      <td>-0.015054</td>\n",
              "      <td>-0.005229</td>\n",
              "      <td>2.780378</td>\n",
              "      <td>0.415053</td>\n",
              "      <td>0.608696</td>\n",
              "      <td>0.122008</td>\n",
              "      <td>0.801480</td>\n",
              "      <td>0.701245</td>\n",
              "      <td>-0.738852</td>\n",
              "      <td>2.060164</td>\n",
              "      <td>2</td>\n",
              "    </tr>\n",
              "    <tr>\n",
              "      <th>4</th>\n",
              "      <td>1.433054</td>\n",
              "      <td>-0.709958</td>\n",
              "      <td>-0.762374</td>\n",
              "      <td>-0.578253</td>\n",
              "      <td>-0.583888</td>\n",
              "      <td>0.462023</td>\n",
              "      <td>1.614256</td>\n",
              "      <td>1.600107</td>\n",
              "      <td>-0.431438</td>\n",
              "      <td>-0.314903</td>\n",
              "      <td>-0.331076</td>\n",
              "      <td>0.122008</td>\n",
              "      <td>-0.802244</td>\n",
              "      <td>-0.846716</td>\n",
              "      <td>-0.738852</td>\n",
              "      <td>-0.765379</td>\n",
              "      <td>1</td>\n",
              "    </tr>\n",
              "    <tr>\n",
              "      <th>...</th>\n",
              "      <td>...</td>\n",
              "      <td>...</td>\n",
              "      <td>...</td>\n",
              "      <td>...</td>\n",
              "      <td>...</td>\n",
              "      <td>...</td>\n",
              "      <td>...</td>\n",
              "      <td>...</td>\n",
              "      <td>...</td>\n",
              "      <td>...</td>\n",
              "      <td>...</td>\n",
              "      <td>...</td>\n",
              "      <td>...</td>\n",
              "      <td>...</td>\n",
              "      <td>...</td>\n",
              "      <td>...</td>\n",
              "      <td>...</td>\n",
              "    </tr>\n",
              "    <tr>\n",
              "      <th>37950</th>\n",
              "      <td>-0.829433</td>\n",
              "      <td>-0.356859</td>\n",
              "      <td>-0.247993</td>\n",
              "      <td>-0.578253</td>\n",
              "      <td>-0.325280</td>\n",
              "      <td>-0.623713</td>\n",
              "      <td>-0.742555</td>\n",
              "      <td>-0.743959</td>\n",
              "      <td>-0.645165</td>\n",
              "      <td>-0.376966</td>\n",
              "      <td>-0.406427</td>\n",
              "      <td>-0.870877</td>\n",
              "      <td>-1.042802</td>\n",
              "      <td>-1.156309</td>\n",
              "      <td>-0.738852</td>\n",
              "      <td>-0.489340</td>\n",
              "      <td>0</td>\n",
              "    </tr>\n",
              "    <tr>\n",
              "      <th>37951</th>\n",
              "      <td>0.393329</td>\n",
              "      <td>0.230399</td>\n",
              "      <td>0.266388</td>\n",
              "      <td>-0.578253</td>\n",
              "      <td>-0.087057</td>\n",
              "      <td>1.317838</td>\n",
              "      <td>0.809960</td>\n",
              "      <td>0.816435</td>\n",
              "      <td>-0.010756</td>\n",
              "      <td>0.109780</td>\n",
              "      <td>0.102856</td>\n",
              "      <td>-0.870877</td>\n",
              "      <td>-1.151872</td>\n",
              "      <td>-1.156309</td>\n",
              "      <td>1.353451</td>\n",
              "      <td>2.060164</td>\n",
              "      <td>1</td>\n",
              "    </tr>\n",
              "    <tr>\n",
              "      <th>37952</th>\n",
              "      <td>4.121638</td>\n",
              "      <td>1.408634</td>\n",
              "      <td>1.295149</td>\n",
              "      <td>-0.578253</td>\n",
              "      <td>1.490621</td>\n",
              "      <td>2.888962</td>\n",
              "      <td>4.679157</td>\n",
              "      <td>4.661903</td>\n",
              "      <td>4.199842</td>\n",
              "      <td>5.873819</td>\n",
              "      <td>5.875610</td>\n",
              "      <td>0.122008</td>\n",
              "      <td>-0.802244</td>\n",
              "      <td>-0.846716</td>\n",
              "      <td>1.353451</td>\n",
              "      <td>-0.765379</td>\n",
              "      <td>0</td>\n",
              "    </tr>\n",
              "    <tr>\n",
              "      <th>37953</th>\n",
              "      <td>0.745474</td>\n",
              "      <td>-0.036090</td>\n",
              "      <td>-0.020173</td>\n",
              "      <td>-0.578253</td>\n",
              "      <td>-0.044687</td>\n",
              "      <td>-0.015070</td>\n",
              "      <td>0.880784</td>\n",
              "      <td>0.867798</td>\n",
              "      <td>-0.349876</td>\n",
              "      <td>-0.287594</td>\n",
              "      <td>-0.294698</td>\n",
              "      <td>-0.870877</td>\n",
              "      <td>0.801480</td>\n",
              "      <td>0.701245</td>\n",
              "      <td>-0.738852</td>\n",
              "      <td>2.060164</td>\n",
              "      <td>0</td>\n",
              "    </tr>\n",
              "    <tr>\n",
              "      <th>37954</th>\n",
              "      <td>-0.829433</td>\n",
              "      <td>-0.356859</td>\n",
              "      <td>-0.247993</td>\n",
              "      <td>-0.578253</td>\n",
              "      <td>-0.325280</td>\n",
              "      <td>-0.652212</td>\n",
              "      <td>-0.742555</td>\n",
              "      <td>-0.743959</td>\n",
              "      <td>-0.645165</td>\n",
              "      <td>-0.376966</td>\n",
              "      <td>-0.406352</td>\n",
              "      <td>-0.870877</td>\n",
              "      <td>1.870629</td>\n",
              "      <td>1.862217</td>\n",
              "      <td>-0.738852</td>\n",
              "      <td>-0.328746</td>\n",
              "      <td>2</td>\n",
              "    </tr>\n",
              "  </tbody>\n",
              "</table>\n",
              "<p>37955 rows × 17 columns</p>\n",
              "</div>\n",
              "      <button class=\"colab-df-convert\" onclick=\"convertToInteractive('df-a706f1fa-d59e-4145-912f-ceda4123de2b')\"\n",
              "              title=\"Convert this dataframe to an interactive table.\"\n",
              "              style=\"display:none;\">\n",
              "        \n",
              "  <svg xmlns=\"http://www.w3.org/2000/svg\" height=\"24px\"viewBox=\"0 0 24 24\"\n",
              "       width=\"24px\">\n",
              "    <path d=\"M0 0h24v24H0V0z\" fill=\"none\"/>\n",
              "    <path d=\"M18.56 5.44l.94 2.06.94-2.06 2.06-.94-2.06-.94-.94-2.06-.94 2.06-2.06.94zm-11 1L8.5 8.5l.94-2.06 2.06-.94-2.06-.94L8.5 2.5l-.94 2.06-2.06.94zm10 10l.94 2.06.94-2.06 2.06-.94-2.06-.94-.94-2.06-.94 2.06-2.06.94z\"/><path d=\"M17.41 7.96l-1.37-1.37c-.4-.4-.92-.59-1.43-.59-.52 0-1.04.2-1.43.59L10.3 9.45l-7.72 7.72c-.78.78-.78 2.05 0 2.83L4 21.41c.39.39.9.59 1.41.59.51 0 1.02-.2 1.41-.59l7.78-7.78 2.81-2.81c.8-.78.8-2.07 0-2.86zM5.41 20L4 18.59l7.72-7.72 1.47 1.35L5.41 20z\"/>\n",
              "  </svg>\n",
              "      </button>\n",
              "      \n",
              "  <style>\n",
              "    .colab-df-container {\n",
              "      display:flex;\n",
              "      flex-wrap:wrap;\n",
              "      gap: 12px;\n",
              "    }\n",
              "\n",
              "    .colab-df-convert {\n",
              "      background-color: #E8F0FE;\n",
              "      border: none;\n",
              "      border-radius: 50%;\n",
              "      cursor: pointer;\n",
              "      display: none;\n",
              "      fill: #1967D2;\n",
              "      height: 32px;\n",
              "      padding: 0 0 0 0;\n",
              "      width: 32px;\n",
              "    }\n",
              "\n",
              "    .colab-df-convert:hover {\n",
              "      background-color: #E2EBFA;\n",
              "      box-shadow: 0px 1px 2px rgba(60, 64, 67, 0.3), 0px 1px 3px 1px rgba(60, 64, 67, 0.15);\n",
              "      fill: #174EA6;\n",
              "    }\n",
              "\n",
              "    [theme=dark] .colab-df-convert {\n",
              "      background-color: #3B4455;\n",
              "      fill: #D2E3FC;\n",
              "    }\n",
              "\n",
              "    [theme=dark] .colab-df-convert:hover {\n",
              "      background-color: #434B5C;\n",
              "      box-shadow: 0px 1px 3px 1px rgba(0, 0, 0, 0.15);\n",
              "      filter: drop-shadow(0px 1px 2px rgba(0, 0, 0, 0.3));\n",
              "      fill: #FFFFFF;\n",
              "    }\n",
              "  </style>\n",
              "\n",
              "      <script>\n",
              "        const buttonEl =\n",
              "          document.querySelector('#df-a706f1fa-d59e-4145-912f-ceda4123de2b button.colab-df-convert');\n",
              "        buttonEl.style.display =\n",
              "          google.colab.kernel.accessAllowed ? 'block' : 'none';\n",
              "\n",
              "        async function convertToInteractive(key) {\n",
              "          const element = document.querySelector('#df-a706f1fa-d59e-4145-912f-ceda4123de2b');\n",
              "          const dataTable =\n",
              "            await google.colab.kernel.invokeFunction('convertToInteractive',\n",
              "                                                     [key], {});\n",
              "          if (!dataTable) return;\n",
              "\n",
              "          const docLinkHtml = 'Like what you see? Visit the ' +\n",
              "            '<a target=\"_blank\" href=https://colab.research.google.com/notebooks/data_table.ipynb>data table notebook</a>'\n",
              "            + ' to learn more about interactive tables.';\n",
              "          element.innerHTML = '';\n",
              "          dataTable['output_type'] = 'display_data';\n",
              "          await google.colab.output.renderOutput(dataTable, element);\n",
              "          const docLink = document.createElement('div');\n",
              "          docLink.innerHTML = docLinkHtml;\n",
              "          element.appendChild(docLink);\n",
              "        }\n",
              "      </script>\n",
              "    </div>\n",
              "  </div>\n",
              "  "
            ]
          },
          "metadata": {},
          "execution_count": 5
        }
      ]
    },
    {
      "cell_type": "code",
      "source": [
        "X = df_train.drop(columns=['label'])\n",
        "y = df_train['label']"
      ],
      "metadata": {
        "id": "r8eDSBRcFfFd"
      },
      "execution_count": 6,
      "outputs": []
    },
    {
      "cell_type": "code",
      "source": [
        "x_train, x_test, y_train, y_test = train_test_split(X, y, test_size=0.20, random_state=42)"
      ],
      "metadata": {
        "id": "B8rWvUAiFJVf"
      },
      "execution_count": 7,
      "outputs": []
    },
    {
      "cell_type": "code",
      "source": [
        "np.where(np.isnan(x_train))"
      ],
      "metadata": {
        "colab": {
          "base_uri": "https://localhost:8080/"
        },
        "id": "f1Aba_qbRiqV",
        "outputId": "97ddbd31-a301-4d0e-b50a-e86526a1694a"
      },
      "execution_count": 8,
      "outputs": [
        {
          "output_type": "execute_result",
          "data": {
            "text/plain": [
              "(array([], dtype=int64), array([], dtype=int64))"
            ]
          },
          "metadata": {},
          "execution_count": 8
        }
      ]
    },
    {
      "cell_type": "code",
      "source": [],
      "metadata": {
        "id": "B_KdVrYDgY4g"
      },
      "execution_count": 8,
      "outputs": []
    },
    {
      "cell_type": "markdown",
      "source": [
        "#KNN"
      ],
      "metadata": {
        "id": "oiUbKQ9pgZV_"
      }
    },
    {
      "cell_type": "code",
      "source": [
        "model = KNeighborsClassifier(n_neighbors=21)\n",
        "model.fit(x_train,y_train)\n",
        "\n",
        "y_predict = model.predict(x_test)\n",
        "y_predict_train = model.predict(x_train)\n",
        "\n",
        "print(classification_report(y_train,y_predict_train),'\\n')\n",
        "print(classification_report(y_test,y_predict))"
      ],
      "metadata": {
        "colab": {
          "base_uri": "https://localhost:8080/"
        },
        "id": "R2HRuCKgI8SW",
        "outputId": "d487e7e6-045b-404f-f1b9-b5e892c3f2a8"
      },
      "execution_count": 9,
      "outputs": [
        {
          "output_type": "stream",
          "name": "stdout",
          "text": [
            "              precision    recall  f1-score   support\n",
            "\n",
            "           0       0.80      0.85      0.82     15227\n",
            "           1       0.82      0.78      0.80      7497\n",
            "           2       0.85      0.79      0.82      7640\n",
            "\n",
            "    accuracy                           0.82     30364\n",
            "   macro avg       0.82      0.80      0.81     30364\n",
            "weighted avg       0.82      0.82      0.81     30364\n",
            " \n",
            "\n",
            "              precision    recall  f1-score   support\n",
            "\n",
            "           0       0.79      0.82      0.81      3925\n",
            "           1       0.79      0.77      0.78      1802\n",
            "           2       0.81      0.77      0.79      1864\n",
            "\n",
            "    accuracy                           0.79      7591\n",
            "   macro avg       0.80      0.78      0.79      7591\n",
            "weighted avg       0.80      0.79      0.79      7591\n",
            "\n"
          ]
        }
      ]
    },
    {
      "cell_type": "markdown",
      "source": [
        "#XGBoost"
      ],
      "metadata": {
        "id": "IopqEpAtgbYY"
      }
    },
    {
      "cell_type": "code",
      "source": [
        "model = XGBClassifier()\n",
        "model.fit(x_train,y_train)\n",
        "\n",
        "y_predict = model.predict(x_test)\n",
        "y_predict_train = model.predict(x_train)\n",
        "\n",
        "print(classification_report(y_train,y_predict_train),'\\n')\n",
        "print(classification_report(y_test,y_predict))"
      ],
      "metadata": {
        "colab": {
          "base_uri": "https://localhost:8080/"
        },
        "id": "B9bJMKHXJV61",
        "outputId": "4587ea8c-4508-40c2-fb03-2f8b4f32577a"
      },
      "execution_count": 10,
      "outputs": [
        {
          "output_type": "stream",
          "name": "stdout",
          "text": [
            "              precision    recall  f1-score   support\n",
            "\n",
            "           0       0.78      0.85      0.82     15227\n",
            "           1       0.83      0.74      0.78      7497\n",
            "           2       0.84      0.78      0.81      7640\n",
            "\n",
            "    accuracy                           0.81     30364\n",
            "   macro avg       0.82      0.79      0.80     30364\n",
            "weighted avg       0.81      0.81      0.81     30364\n",
            " \n",
            "\n",
            "              precision    recall  f1-score   support\n",
            "\n",
            "           0       0.79      0.85      0.82      3925\n",
            "           1       0.82      0.75      0.78      1802\n",
            "           2       0.82      0.77      0.79      1864\n",
            "\n",
            "    accuracy                           0.80      7591\n",
            "   macro avg       0.81      0.79      0.80      7591\n",
            "weighted avg       0.80      0.80      0.80      7591\n",
            "\n"
          ]
        }
      ]
    },
    {
      "cell_type": "code",
      "source": [
        "nominal = ['frame_class','codec','tc_frame_class']\n",
        "# nominal_lebih_dari_dua = ['Kode_Daerah','Kanal_Penjualan']\n",
        "ordinal = []\n",
        "numerik = ['duration','width', 'height', 'bitrate',\t'intracoded_frame',\t'predicted_frame',\t'total_frame',\t'intracoded_size',\t'predicted_size',\t'total_size','tc_width','tc_height','tc_bitrate']\n",
        "label = 'label'"
      ],
      "metadata": {
        "id": "qvKzJQotrfRr"
      },
      "execution_count": 13,
      "outputs": []
    },
    {
      "cell_type": "code",
      "source": [
        "y_predict = model.predict(df_test)\n",
        "temp = pd.DataFrame(df_test,columns=nominal+numerik)\n",
        "temp['label'] = y_predict\n",
        "temp = temp.reset_index()\n",
        "temp = temp.drop(columns=['index'])\n",
        "\n",
        "temp.to_csv('/content/drive/MyDrive/dana_assignment/test.csv',index=False)"
      ],
      "metadata": {
        "id": "VYGmm-ghqbxD"
      },
      "execution_count": 14,
      "outputs": []
    },
    {
      "cell_type": "markdown",
      "source": [
        "#Regression Tree"
      ],
      "metadata": {
        "id": "IfdGXjPMgePR"
      }
    },
    {
      "cell_type": "code",
      "source": [
        "from sklearn.model_selection import cross_val_score\n",
        "model = DecisionTreeRegressor(random_state=0)\n",
        "model.fit(x_train,y_train)\n",
        "# cross_val_score(model, x_train, y_train, cv=10)\n",
        "\n",
        "y_predict = model.predict(x_test)\n",
        "y_predict = [int(x) for x in y_predict]\n",
        "\n",
        "y_predict_train = model.predict(x_train)\n",
        "y_predict_train = [int(x) for x in y_predict_train]\n",
        "\n",
        "print(classification_report(y_train,y_predict_train),'\\n')\n",
        "print(classification_report(y_test,y_predict))"
      ],
      "metadata": {
        "colab": {
          "base_uri": "https://localhost:8080/"
        },
        "id": "ISLZWx7MgkH9",
        "outputId": "0bf3715f-0392-4f6f-b229-2912a3408d64"
      },
      "execution_count": 15,
      "outputs": [
        {
          "output_type": "stream",
          "name": "stdout",
          "text": [
            "              precision    recall  f1-score   support\n",
            "\n",
            "           0       0.99      0.99      0.99     15227\n",
            "           1       0.97      0.99      0.98      7497\n",
            "           2       1.00      0.98      0.99      7640\n",
            "\n",
            "    accuracy                           0.99     30364\n",
            "   macro avg       0.99      0.99      0.99     30364\n",
            "weighted avg       0.99      0.99      0.99     30364\n",
            " \n",
            "\n",
            "              precision    recall  f1-score   support\n",
            "\n",
            "           0       0.77      0.75      0.76      3925\n",
            "           1       0.72      0.74      0.73      1802\n",
            "           2       0.72      0.74      0.73      1864\n",
            "\n",
            "    accuracy                           0.74      7591\n",
            "   macro avg       0.74      0.74      0.74      7591\n",
            "weighted avg       0.74      0.74      0.74      7591\n",
            "\n"
          ]
        }
      ]
    },
    {
      "cell_type": "code",
      "source": [
        "y_train[1]"
      ],
      "metadata": {
        "colab": {
          "base_uri": "https://localhost:8080/"
        },
        "id": "LNab6N2Nh0Wl",
        "outputId": "b867312f-db91-4044-95a2-430094babe42"
      },
      "execution_count": 16,
      "outputs": [
        {
          "output_type": "execute_result",
          "data": {
            "text/plain": [
              "2"
            ]
          },
          "metadata": {},
          "execution_count": 16
        }
      ]
    },
    {
      "cell_type": "code",
      "source": [
        "int(y_predict_train[1])"
      ],
      "metadata": {
        "colab": {
          "base_uri": "https://localhost:8080/"
        },
        "id": "ZI5YZ2s_h4qE",
        "outputId": "84fc5d1d-b24a-4984-8717-7cc77f92214d"
      },
      "execution_count": 17,
      "outputs": [
        {
          "output_type": "execute_result",
          "data": {
            "text/plain": [
              "2"
            ]
          },
          "metadata": {},
          "execution_count": 17
        }
      ]
    },
    {
      "cell_type": "code",
      "source": [
        "# print(classification_report(y_train,y_predict_train),'\\n')\n",
        "# print(classification_report(y_test,y_predict))"
      ],
      "metadata": {
        "id": "nRcXzgPSgzhv"
      },
      "execution_count": 18,
      "outputs": []
    },
    {
      "cell_type": "markdown",
      "source": [
        "# ANN"
      ],
      "metadata": {
        "id": "H6A09xnTfKD9"
      }
    },
    {
      "cell_type": "code",
      "source": [
        "from tensorflow.keras.utils import to_categorical\n",
        "y_train_ann = to_categorical(y_train)\n",
        "y_test_ann = to_categorical(y_test)"
      ],
      "metadata": {
        "id": "8FqjI3bke2_Z"
      },
      "execution_count": 19,
      "outputs": []
    },
    {
      "cell_type": "code",
      "source": [
        "# first neural network with keras tutorial\n",
        "from numpy import loadtxt\n",
        "from keras.models import Sequential\n",
        "import tensorflow as tf\n",
        "from keras.layers import Dense,Dropout\n",
        "\n",
        "# define the keras model\n",
        "model = Sequential()\n",
        "model.add(Dense(128, input_dim=16, activation='tanh'))\n",
        "model.add(Dense(128, activation='tanh'))\n",
        "model.add(Dropout(0.4))\n",
        "model.add(Dense(64, activation='tanh'))\n",
        "model.add(Dropout(0.2))\n",
        "model.add(Dense(64, activation='tanh'))\n",
        "model.add(Dense(64, activation='tanh'))\n",
        "model.add(Dense(3, activation='sigmoid',kernel_regularizer='l2',))\n",
        "\n",
        "def get_metrics():\n",
        "  return   [\n",
        "          tf.keras.metrics.TruePositives(name='TruePositive'),\n",
        "          tf.keras.metrics.FalsePositives(name='FalsePositive'),\n",
        "          tf.keras.metrics.TrueNegatives(name='TrueNegative'),\n",
        "          tf.keras.metrics.FalseNegatives(name='FalseNegative'), \n",
        "          tf.keras.metrics.CategoricalAccuracy(name='accuracy'),\n",
        "          tf.keras.metrics.Precision(name='precision'),\n",
        "          tf.keras.metrics.Recall(name='recall'),\n",
        "          tf.keras.metrics.AUC(name='auc'),\n",
        "        ]\n",
        "\n",
        "# compile the keras model\n",
        "model.compile(loss='categorical_crossentropy', optimizer='adam', metrics=get_metrics())"
      ],
      "metadata": {
        "id": "xnXZHXzLfMuo"
      },
      "execution_count": 20,
      "outputs": []
    },
    {
      "cell_type": "code",
      "source": [
        "callback = tf.keras.callbacks.EarlyStopping(monitor='val_recall', patience=3, mode='max',restore_best_weights=True) # https://keras.io/api/callbacks/early_stopping/"
      ],
      "metadata": {
        "id": "XpG_4s-ifNER"
      },
      "execution_count": 21,
      "outputs": []
    },
    {
      "cell_type": "code",
      "source": [
        "model_history = model.fit(x_train, \n",
        "          y_train_ann,\n",
        "          validation_data=[x_test,y_test_ann], \n",
        "          epochs=20, \n",
        "          batch_size=128,\n",
        "          verbose=1,\n",
        "          callbacks=[callback])"
      ],
      "metadata": {
        "colab": {
          "base_uri": "https://localhost:8080/"
        },
        "id": "XV3yAvoCfOyR",
        "outputId": "e07b68cb-e30c-4e71-b181-321e25037f3c"
      },
      "execution_count": 22,
      "outputs": [
        {
          "output_type": "stream",
          "name": "stdout",
          "text": [
            "Epoch 1/20\n",
            "238/238 [==============================] - 3s 6ms/step - loss: 0.6120 - TruePositive: 29063.0000 - FalsePositive: 26124.0000 - TrueNegative: 34604.0000 - FalseNegative: 1301.0000 - accuracy: 0.7406 - precision: 0.5266 - recall: 0.9572 - auc: 0.8841 - val_loss: 0.5367 - val_TruePositive: 7433.0000 - val_FalsePositive: 6546.0000 - val_TrueNegative: 8636.0000 - val_FalseNegative: 158.0000 - val_accuracy: 0.7757 - val_precision: 0.5317 - val_recall: 0.9792 - val_auc: 0.9125\n",
            "Epoch 2/20\n",
            "238/238 [==============================] - 1s 3ms/step - loss: 0.5383 - TruePositive: 29701.0000 - FalsePositive: 26508.0000 - TrueNegative: 34220.0000 - FalseNegative: 663.0000 - accuracy: 0.7721 - precision: 0.5284 - recall: 0.9782 - auc: 0.9089 - val_loss: 0.5277 - val_TruePositive: 7441.0000 - val_FalsePositive: 6779.0000 - val_TrueNegative: 8403.0000 - val_FalseNegative: 150.0000 - val_accuracy: 0.7676 - val_precision: 0.5233 - val_recall: 0.9802 - val_auc: 0.9147\n",
            "Epoch 3/20\n",
            "238/238 [==============================] - 1s 3ms/step - loss: 0.5199 - TruePositive: 29684.0000 - FalsePositive: 26633.0000 - TrueNegative: 34095.0000 - FalseNegative: 680.0000 - accuracy: 0.7753 - precision: 0.5271 - recall: 0.9776 - auc: 0.9131 - val_loss: 0.5026 - val_TruePositive: 7433.0000 - val_FalsePositive: 6631.0000 - val_TrueNegative: 8551.0000 - val_FalseNegative: 158.0000 - val_accuracy: 0.7832 - val_precision: 0.5285 - val_recall: 0.9792 - val_auc: 0.9184\n",
            "Epoch 4/20\n",
            "238/238 [==============================] - 1s 3ms/step - loss: 0.5075 - TruePositive: 29784.0000 - FalsePositive: 26597.0000 - TrueNegative: 34131.0000 - FalseNegative: 580.0000 - accuracy: 0.7793 - precision: 0.5283 - recall: 0.9809 - auc: 0.9158 - val_loss: 0.4911 - val_TruePositive: 7434.0000 - val_FalsePositive: 6562.0000 - val_TrueNegative: 8620.0000 - val_FalseNegative: 157.0000 - val_accuracy: 0.7863 - val_precision: 0.5312 - val_recall: 0.9793 - val_auc: 0.9228\n",
            "Epoch 5/20\n",
            "238/238 [==============================] - 1s 3ms/step - loss: 0.4999 - TruePositive: 29744.0000 - FalsePositive: 26654.0000 - TrueNegative: 34074.0000 - FalseNegative: 620.0000 - accuracy: 0.7818 - precision: 0.5274 - recall: 0.9796 - auc: 0.9184 - val_loss: 0.4913 - val_TruePositive: 7438.0000 - val_FalsePositive: 6496.0000 - val_TrueNegative: 8686.0000 - val_FalseNegative: 153.0000 - val_accuracy: 0.7840 - val_precision: 0.5338 - val_recall: 0.9798 - val_auc: 0.9237\n"
          ]
        }
      ]
    },
    {
      "cell_type": "code",
      "source": [
        "model_history.history[\"epochs\"] = list(range(1,100+1))\n",
        "\n",
        "import plotly.graph_objects as go\n",
        "\n",
        "fig = go.Figure()\n",
        "fig.add_trace(go.Scatter(y= model_history.history[\"recall\"],x= model_history.history[\"epochs\"],mode=\"lines+markers\",name=\"Training recall\"))\n",
        "fig.add_trace(go.Scatter(y= model_history.history[\"loss\"],x= model_history.history[\"epochs\"],mode=\"lines+markers\",name=\"Training loss\"))\n",
        "fig.show()\n",
        "\n",
        "fig = go.Figure()\n",
        "fig.add_trace(go.Scatter(y= model_history.history[\"val_recall\"],x= model_history.history[\"epochs\"],mode=\"lines+markers\",name=\"Val recall\"))\n",
        "fig.add_trace(go.Scatter(y= model_history.history[\"val_loss\"],x= model_history.history[\"epochs\"],mode=\"lines+markers\",name=\"Val loss\"))\n",
        "fig.show()"
      ],
      "metadata": {
        "colab": {
          "base_uri": "https://localhost:8080/",
          "height": 1000
        },
        "id": "_u1SQ8uLfP2C",
        "outputId": "d5c72335-ae3f-4482-dd26-1c4cde019382"
      },
      "execution_count": 23,
      "outputs": [
        {
          "output_type": "display_data",
          "data": {
            "text/html": [
              "<html>\n",
              "<head><meta charset=\"utf-8\" /></head>\n",
              "<body>\n",
              "    <div>            <script src=\"https://cdnjs.cloudflare.com/ajax/libs/mathjax/2.7.5/MathJax.js?config=TeX-AMS-MML_SVG\"></script><script type=\"text/javascript\">if (window.MathJax) {MathJax.Hub.Config({SVG: {font: \"STIX-Web\"}});}</script>                <script type=\"text/javascript\">window.PlotlyConfig = {MathJaxConfig: 'local'};</script>\n",
              "        <script src=\"https://cdn.plot.ly/plotly-2.8.3.min.js\"></script>                <div id=\"b8e3a65e-d901-48b2-80ed-5222649dee4c\" class=\"plotly-graph-div\" style=\"height:525px; width:100%;\"></div>            <script type=\"text/javascript\">                                    window.PLOTLYENV=window.PLOTLYENV || {};                                    if (document.getElementById(\"b8e3a65e-d901-48b2-80ed-5222649dee4c\")) {                    Plotly.newPlot(                        \"b8e3a65e-d901-48b2-80ed-5222649dee4c\",                        [{\"mode\":\"lines+markers\",\"name\":\"Training recall\",\"x\":[1,2,3,4,5,6,7,8,9,10,11,12,13,14,15,16,17,18,19,20,21,22,23,24,25,26,27,28,29,30,31,32,33,34,35,36,37,38,39,40,41,42,43,44,45,46,47,48,49,50,51,52,53,54,55,56,57,58,59,60,61,62,63,64,65,66,67,68,69,70,71,72,73,74,75,76,77,78,79,80,81,82,83,84,85,86,87,88,89,90,91,92,93,94,95,96,97,98,99,100],\"y\":[0.9571532011032104,0.9781649112701416,0.9776050448417664,0.9808984398841858,0.9795810580253601],\"type\":\"scatter\"},{\"mode\":\"lines+markers\",\"name\":\"Training loss\",\"x\":[1,2,3,4,5,6,7,8,9,10,11,12,13,14,15,16,17,18,19,20,21,22,23,24,25,26,27,28,29,30,31,32,33,34,35,36,37,38,39,40,41,42,43,44,45,46,47,48,49,50,51,52,53,54,55,56,57,58,59,60,61,62,63,64,65,66,67,68,69,70,71,72,73,74,75,76,77,78,79,80,81,82,83,84,85,86,87,88,89,90,91,92,93,94,95,96,97,98,99,100],\"y\":[0.611966609954834,0.5382920503616333,0.5199496150016785,0.5074697732925415,0.49990054965019226],\"type\":\"scatter\"}],                        {\"template\":{\"data\":{\"bar\":[{\"error_x\":{\"color\":\"#2a3f5f\"},\"error_y\":{\"color\":\"#2a3f5f\"},\"marker\":{\"line\":{\"color\":\"#E5ECF6\",\"width\":0.5},\"pattern\":{\"fillmode\":\"overlay\",\"size\":10,\"solidity\":0.2}},\"type\":\"bar\"}],\"barpolar\":[{\"marker\":{\"line\":{\"color\":\"#E5ECF6\",\"width\":0.5},\"pattern\":{\"fillmode\":\"overlay\",\"size\":10,\"solidity\":0.2}},\"type\":\"barpolar\"}],\"carpet\":[{\"aaxis\":{\"endlinecolor\":\"#2a3f5f\",\"gridcolor\":\"white\",\"linecolor\":\"white\",\"minorgridcolor\":\"white\",\"startlinecolor\":\"#2a3f5f\"},\"baxis\":{\"endlinecolor\":\"#2a3f5f\",\"gridcolor\":\"white\",\"linecolor\":\"white\",\"minorgridcolor\":\"white\",\"startlinecolor\":\"#2a3f5f\"},\"type\":\"carpet\"}],\"choropleth\":[{\"colorbar\":{\"outlinewidth\":0,\"ticks\":\"\"},\"type\":\"choropleth\"}],\"contour\":[{\"colorbar\":{\"outlinewidth\":0,\"ticks\":\"\"},\"colorscale\":[[0.0,\"#0d0887\"],[0.1111111111111111,\"#46039f\"],[0.2222222222222222,\"#7201a8\"],[0.3333333333333333,\"#9c179e\"],[0.4444444444444444,\"#bd3786\"],[0.5555555555555556,\"#d8576b\"],[0.6666666666666666,\"#ed7953\"],[0.7777777777777778,\"#fb9f3a\"],[0.8888888888888888,\"#fdca26\"],[1.0,\"#f0f921\"]],\"type\":\"contour\"}],\"contourcarpet\":[{\"colorbar\":{\"outlinewidth\":0,\"ticks\":\"\"},\"type\":\"contourcarpet\"}],\"heatmap\":[{\"colorbar\":{\"outlinewidth\":0,\"ticks\":\"\"},\"colorscale\":[[0.0,\"#0d0887\"],[0.1111111111111111,\"#46039f\"],[0.2222222222222222,\"#7201a8\"],[0.3333333333333333,\"#9c179e\"],[0.4444444444444444,\"#bd3786\"],[0.5555555555555556,\"#d8576b\"],[0.6666666666666666,\"#ed7953\"],[0.7777777777777778,\"#fb9f3a\"],[0.8888888888888888,\"#fdca26\"],[1.0,\"#f0f921\"]],\"type\":\"heatmap\"}],\"heatmapgl\":[{\"colorbar\":{\"outlinewidth\":0,\"ticks\":\"\"},\"colorscale\":[[0.0,\"#0d0887\"],[0.1111111111111111,\"#46039f\"],[0.2222222222222222,\"#7201a8\"],[0.3333333333333333,\"#9c179e\"],[0.4444444444444444,\"#bd3786\"],[0.5555555555555556,\"#d8576b\"],[0.6666666666666666,\"#ed7953\"],[0.7777777777777778,\"#fb9f3a\"],[0.8888888888888888,\"#fdca26\"],[1.0,\"#f0f921\"]],\"type\":\"heatmapgl\"}],\"histogram\":[{\"marker\":{\"pattern\":{\"fillmode\":\"overlay\",\"size\":10,\"solidity\":0.2}},\"type\":\"histogram\"}],\"histogram2d\":[{\"colorbar\":{\"outlinewidth\":0,\"ticks\":\"\"},\"colorscale\":[[0.0,\"#0d0887\"],[0.1111111111111111,\"#46039f\"],[0.2222222222222222,\"#7201a8\"],[0.3333333333333333,\"#9c179e\"],[0.4444444444444444,\"#bd3786\"],[0.5555555555555556,\"#d8576b\"],[0.6666666666666666,\"#ed7953\"],[0.7777777777777778,\"#fb9f3a\"],[0.8888888888888888,\"#fdca26\"],[1.0,\"#f0f921\"]],\"type\":\"histogram2d\"}],\"histogram2dcontour\":[{\"colorbar\":{\"outlinewidth\":0,\"ticks\":\"\"},\"colorscale\":[[0.0,\"#0d0887\"],[0.1111111111111111,\"#46039f\"],[0.2222222222222222,\"#7201a8\"],[0.3333333333333333,\"#9c179e\"],[0.4444444444444444,\"#bd3786\"],[0.5555555555555556,\"#d8576b\"],[0.6666666666666666,\"#ed7953\"],[0.7777777777777778,\"#fb9f3a\"],[0.8888888888888888,\"#fdca26\"],[1.0,\"#f0f921\"]],\"type\":\"histogram2dcontour\"}],\"mesh3d\":[{\"colorbar\":{\"outlinewidth\":0,\"ticks\":\"\"},\"type\":\"mesh3d\"}],\"parcoords\":[{\"line\":{\"colorbar\":{\"outlinewidth\":0,\"ticks\":\"\"}},\"type\":\"parcoords\"}],\"pie\":[{\"automargin\":true,\"type\":\"pie\"}],\"scatter\":[{\"marker\":{\"colorbar\":{\"outlinewidth\":0,\"ticks\":\"\"}},\"type\":\"scatter\"}],\"scatter3d\":[{\"line\":{\"colorbar\":{\"outlinewidth\":0,\"ticks\":\"\"}},\"marker\":{\"colorbar\":{\"outlinewidth\":0,\"ticks\":\"\"}},\"type\":\"scatter3d\"}],\"scattercarpet\":[{\"marker\":{\"colorbar\":{\"outlinewidth\":0,\"ticks\":\"\"}},\"type\":\"scattercarpet\"}],\"scattergeo\":[{\"marker\":{\"colorbar\":{\"outlinewidth\":0,\"ticks\":\"\"}},\"type\":\"scattergeo\"}],\"scattergl\":[{\"marker\":{\"colorbar\":{\"outlinewidth\":0,\"ticks\":\"\"}},\"type\":\"scattergl\"}],\"scattermapbox\":[{\"marker\":{\"colorbar\":{\"outlinewidth\":0,\"ticks\":\"\"}},\"type\":\"scattermapbox\"}],\"scatterpolar\":[{\"marker\":{\"colorbar\":{\"outlinewidth\":0,\"ticks\":\"\"}},\"type\":\"scatterpolar\"}],\"scatterpolargl\":[{\"marker\":{\"colorbar\":{\"outlinewidth\":0,\"ticks\":\"\"}},\"type\":\"scatterpolargl\"}],\"scatterternary\":[{\"marker\":{\"colorbar\":{\"outlinewidth\":0,\"ticks\":\"\"}},\"type\":\"scatterternary\"}],\"surface\":[{\"colorbar\":{\"outlinewidth\":0,\"ticks\":\"\"},\"colorscale\":[[0.0,\"#0d0887\"],[0.1111111111111111,\"#46039f\"],[0.2222222222222222,\"#7201a8\"],[0.3333333333333333,\"#9c179e\"],[0.4444444444444444,\"#bd3786\"],[0.5555555555555556,\"#d8576b\"],[0.6666666666666666,\"#ed7953\"],[0.7777777777777778,\"#fb9f3a\"],[0.8888888888888888,\"#fdca26\"],[1.0,\"#f0f921\"]],\"type\":\"surface\"}],\"table\":[{\"cells\":{\"fill\":{\"color\":\"#EBF0F8\"},\"line\":{\"color\":\"white\"}},\"header\":{\"fill\":{\"color\":\"#C8D4E3\"},\"line\":{\"color\":\"white\"}},\"type\":\"table\"}]},\"layout\":{\"annotationdefaults\":{\"arrowcolor\":\"#2a3f5f\",\"arrowhead\":0,\"arrowwidth\":1},\"autotypenumbers\":\"strict\",\"coloraxis\":{\"colorbar\":{\"outlinewidth\":0,\"ticks\":\"\"}},\"colorscale\":{\"diverging\":[[0,\"#8e0152\"],[0.1,\"#c51b7d\"],[0.2,\"#de77ae\"],[0.3,\"#f1b6da\"],[0.4,\"#fde0ef\"],[0.5,\"#f7f7f7\"],[0.6,\"#e6f5d0\"],[0.7,\"#b8e186\"],[0.8,\"#7fbc41\"],[0.9,\"#4d9221\"],[1,\"#276419\"]],\"sequential\":[[0.0,\"#0d0887\"],[0.1111111111111111,\"#46039f\"],[0.2222222222222222,\"#7201a8\"],[0.3333333333333333,\"#9c179e\"],[0.4444444444444444,\"#bd3786\"],[0.5555555555555556,\"#d8576b\"],[0.6666666666666666,\"#ed7953\"],[0.7777777777777778,\"#fb9f3a\"],[0.8888888888888888,\"#fdca26\"],[1.0,\"#f0f921\"]],\"sequentialminus\":[[0.0,\"#0d0887\"],[0.1111111111111111,\"#46039f\"],[0.2222222222222222,\"#7201a8\"],[0.3333333333333333,\"#9c179e\"],[0.4444444444444444,\"#bd3786\"],[0.5555555555555556,\"#d8576b\"],[0.6666666666666666,\"#ed7953\"],[0.7777777777777778,\"#fb9f3a\"],[0.8888888888888888,\"#fdca26\"],[1.0,\"#f0f921\"]]},\"colorway\":[\"#636efa\",\"#EF553B\",\"#00cc96\",\"#ab63fa\",\"#FFA15A\",\"#19d3f3\",\"#FF6692\",\"#B6E880\",\"#FF97FF\",\"#FECB52\"],\"font\":{\"color\":\"#2a3f5f\"},\"geo\":{\"bgcolor\":\"white\",\"lakecolor\":\"white\",\"landcolor\":\"#E5ECF6\",\"showlakes\":true,\"showland\":true,\"subunitcolor\":\"white\"},\"hoverlabel\":{\"align\":\"left\"},\"hovermode\":\"closest\",\"mapbox\":{\"style\":\"light\"},\"paper_bgcolor\":\"white\",\"plot_bgcolor\":\"#E5ECF6\",\"polar\":{\"angularaxis\":{\"gridcolor\":\"white\",\"linecolor\":\"white\",\"ticks\":\"\"},\"bgcolor\":\"#E5ECF6\",\"radialaxis\":{\"gridcolor\":\"white\",\"linecolor\":\"white\",\"ticks\":\"\"}},\"scene\":{\"xaxis\":{\"backgroundcolor\":\"#E5ECF6\",\"gridcolor\":\"white\",\"gridwidth\":2,\"linecolor\":\"white\",\"showbackground\":true,\"ticks\":\"\",\"zerolinecolor\":\"white\"},\"yaxis\":{\"backgroundcolor\":\"#E5ECF6\",\"gridcolor\":\"white\",\"gridwidth\":2,\"linecolor\":\"white\",\"showbackground\":true,\"ticks\":\"\",\"zerolinecolor\":\"white\"},\"zaxis\":{\"backgroundcolor\":\"#E5ECF6\",\"gridcolor\":\"white\",\"gridwidth\":2,\"linecolor\":\"white\",\"showbackground\":true,\"ticks\":\"\",\"zerolinecolor\":\"white\"}},\"shapedefaults\":{\"line\":{\"color\":\"#2a3f5f\"}},\"ternary\":{\"aaxis\":{\"gridcolor\":\"white\",\"linecolor\":\"white\",\"ticks\":\"\"},\"baxis\":{\"gridcolor\":\"white\",\"linecolor\":\"white\",\"ticks\":\"\"},\"bgcolor\":\"#E5ECF6\",\"caxis\":{\"gridcolor\":\"white\",\"linecolor\":\"white\",\"ticks\":\"\"}},\"title\":{\"x\":0.05},\"xaxis\":{\"automargin\":true,\"gridcolor\":\"white\",\"linecolor\":\"white\",\"ticks\":\"\",\"title\":{\"standoff\":15},\"zerolinecolor\":\"white\",\"zerolinewidth\":2},\"yaxis\":{\"automargin\":true,\"gridcolor\":\"white\",\"linecolor\":\"white\",\"ticks\":\"\",\"title\":{\"standoff\":15},\"zerolinecolor\":\"white\",\"zerolinewidth\":2}}}},                        {\"responsive\": true}                    ).then(function(){\n",
              "                            \n",
              "var gd = document.getElementById('b8e3a65e-d901-48b2-80ed-5222649dee4c');\n",
              "var x = new MutationObserver(function (mutations, observer) {{\n",
              "        var display = window.getComputedStyle(gd).display;\n",
              "        if (!display || display === 'none') {{\n",
              "            console.log([gd, 'removed!']);\n",
              "            Plotly.purge(gd);\n",
              "            observer.disconnect();\n",
              "        }}\n",
              "}});\n",
              "\n",
              "// Listen for the removal of the full notebook cells\n",
              "var notebookContainer = gd.closest('#notebook-container');\n",
              "if (notebookContainer) {{\n",
              "    x.observe(notebookContainer, {childList: true});\n",
              "}}\n",
              "\n",
              "// Listen for the clearing of the current output cell\n",
              "var outputEl = gd.closest('.output');\n",
              "if (outputEl) {{\n",
              "    x.observe(outputEl, {childList: true});\n",
              "}}\n",
              "\n",
              "                        })                };                            </script>        </div>\n",
              "</body>\n",
              "</html>"
            ]
          },
          "metadata": {}
        },
        {
          "output_type": "display_data",
          "data": {
            "text/html": [
              "<html>\n",
              "<head><meta charset=\"utf-8\" /></head>\n",
              "<body>\n",
              "    <div>            <script src=\"https://cdnjs.cloudflare.com/ajax/libs/mathjax/2.7.5/MathJax.js?config=TeX-AMS-MML_SVG\"></script><script type=\"text/javascript\">if (window.MathJax) {MathJax.Hub.Config({SVG: {font: \"STIX-Web\"}});}</script>                <script type=\"text/javascript\">window.PlotlyConfig = {MathJaxConfig: 'local'};</script>\n",
              "        <script src=\"https://cdn.plot.ly/plotly-2.8.3.min.js\"></script>                <div id=\"225d1252-908d-4983-b095-aa2138f891a3\" class=\"plotly-graph-div\" style=\"height:525px; width:100%;\"></div>            <script type=\"text/javascript\">                                    window.PLOTLYENV=window.PLOTLYENV || {};                                    if (document.getElementById(\"225d1252-908d-4983-b095-aa2138f891a3\")) {                    Plotly.newPlot(                        \"225d1252-908d-4983-b095-aa2138f891a3\",                        [{\"mode\":\"lines+markers\",\"name\":\"Val recall\",\"x\":[1,2,3,4,5,6,7,8,9,10,11,12,13,14,15,16,17,18,19,20,21,22,23,24,25,26,27,28,29,30,31,32,33,34,35,36,37,38,39,40,41,42,43,44,45,46,47,48,49,50,51,52,53,54,55,56,57,58,59,60,61,62,63,64,65,66,67,68,69,70,71,72,73,74,75,76,77,78,79,80,81,82,83,84,85,86,87,88,89,90,91,92,93,94,95,96,97,98,99,100],\"y\":[0.9791858792304993,0.980239748954773,0.9791858792304993,0.9793176054954529,0.9798445701599121],\"type\":\"scatter\"},{\"mode\":\"lines+markers\",\"name\":\"Val loss\",\"x\":[1,2,3,4,5,6,7,8,9,10,11,12,13,14,15,16,17,18,19,20,21,22,23,24,25,26,27,28,29,30,31,32,33,34,35,36,37,38,39,40,41,42,43,44,45,46,47,48,49,50,51,52,53,54,55,56,57,58,59,60,61,62,63,64,65,66,67,68,69,70,71,72,73,74,75,76,77,78,79,80,81,82,83,84,85,86,87,88,89,90,91,92,93,94,95,96,97,98,99,100],\"y\":[0.5367467999458313,0.5277333855628967,0.5026218295097351,0.49108314514160156,0.4912605881690979],\"type\":\"scatter\"}],                        {\"template\":{\"data\":{\"bar\":[{\"error_x\":{\"color\":\"#2a3f5f\"},\"error_y\":{\"color\":\"#2a3f5f\"},\"marker\":{\"line\":{\"color\":\"#E5ECF6\",\"width\":0.5},\"pattern\":{\"fillmode\":\"overlay\",\"size\":10,\"solidity\":0.2}},\"type\":\"bar\"}],\"barpolar\":[{\"marker\":{\"line\":{\"color\":\"#E5ECF6\",\"width\":0.5},\"pattern\":{\"fillmode\":\"overlay\",\"size\":10,\"solidity\":0.2}},\"type\":\"barpolar\"}],\"carpet\":[{\"aaxis\":{\"endlinecolor\":\"#2a3f5f\",\"gridcolor\":\"white\",\"linecolor\":\"white\",\"minorgridcolor\":\"white\",\"startlinecolor\":\"#2a3f5f\"},\"baxis\":{\"endlinecolor\":\"#2a3f5f\",\"gridcolor\":\"white\",\"linecolor\":\"white\",\"minorgridcolor\":\"white\",\"startlinecolor\":\"#2a3f5f\"},\"type\":\"carpet\"}],\"choropleth\":[{\"colorbar\":{\"outlinewidth\":0,\"ticks\":\"\"},\"type\":\"choropleth\"}],\"contour\":[{\"colorbar\":{\"outlinewidth\":0,\"ticks\":\"\"},\"colorscale\":[[0.0,\"#0d0887\"],[0.1111111111111111,\"#46039f\"],[0.2222222222222222,\"#7201a8\"],[0.3333333333333333,\"#9c179e\"],[0.4444444444444444,\"#bd3786\"],[0.5555555555555556,\"#d8576b\"],[0.6666666666666666,\"#ed7953\"],[0.7777777777777778,\"#fb9f3a\"],[0.8888888888888888,\"#fdca26\"],[1.0,\"#f0f921\"]],\"type\":\"contour\"}],\"contourcarpet\":[{\"colorbar\":{\"outlinewidth\":0,\"ticks\":\"\"},\"type\":\"contourcarpet\"}],\"heatmap\":[{\"colorbar\":{\"outlinewidth\":0,\"ticks\":\"\"},\"colorscale\":[[0.0,\"#0d0887\"],[0.1111111111111111,\"#46039f\"],[0.2222222222222222,\"#7201a8\"],[0.3333333333333333,\"#9c179e\"],[0.4444444444444444,\"#bd3786\"],[0.5555555555555556,\"#d8576b\"],[0.6666666666666666,\"#ed7953\"],[0.7777777777777778,\"#fb9f3a\"],[0.8888888888888888,\"#fdca26\"],[1.0,\"#f0f921\"]],\"type\":\"heatmap\"}],\"heatmapgl\":[{\"colorbar\":{\"outlinewidth\":0,\"ticks\":\"\"},\"colorscale\":[[0.0,\"#0d0887\"],[0.1111111111111111,\"#46039f\"],[0.2222222222222222,\"#7201a8\"],[0.3333333333333333,\"#9c179e\"],[0.4444444444444444,\"#bd3786\"],[0.5555555555555556,\"#d8576b\"],[0.6666666666666666,\"#ed7953\"],[0.7777777777777778,\"#fb9f3a\"],[0.8888888888888888,\"#fdca26\"],[1.0,\"#f0f921\"]],\"type\":\"heatmapgl\"}],\"histogram\":[{\"marker\":{\"pattern\":{\"fillmode\":\"overlay\",\"size\":10,\"solidity\":0.2}},\"type\":\"histogram\"}],\"histogram2d\":[{\"colorbar\":{\"outlinewidth\":0,\"ticks\":\"\"},\"colorscale\":[[0.0,\"#0d0887\"],[0.1111111111111111,\"#46039f\"],[0.2222222222222222,\"#7201a8\"],[0.3333333333333333,\"#9c179e\"],[0.4444444444444444,\"#bd3786\"],[0.5555555555555556,\"#d8576b\"],[0.6666666666666666,\"#ed7953\"],[0.7777777777777778,\"#fb9f3a\"],[0.8888888888888888,\"#fdca26\"],[1.0,\"#f0f921\"]],\"type\":\"histogram2d\"}],\"histogram2dcontour\":[{\"colorbar\":{\"outlinewidth\":0,\"ticks\":\"\"},\"colorscale\":[[0.0,\"#0d0887\"],[0.1111111111111111,\"#46039f\"],[0.2222222222222222,\"#7201a8\"],[0.3333333333333333,\"#9c179e\"],[0.4444444444444444,\"#bd3786\"],[0.5555555555555556,\"#d8576b\"],[0.6666666666666666,\"#ed7953\"],[0.7777777777777778,\"#fb9f3a\"],[0.8888888888888888,\"#fdca26\"],[1.0,\"#f0f921\"]],\"type\":\"histogram2dcontour\"}],\"mesh3d\":[{\"colorbar\":{\"outlinewidth\":0,\"ticks\":\"\"},\"type\":\"mesh3d\"}],\"parcoords\":[{\"line\":{\"colorbar\":{\"outlinewidth\":0,\"ticks\":\"\"}},\"type\":\"parcoords\"}],\"pie\":[{\"automargin\":true,\"type\":\"pie\"}],\"scatter\":[{\"marker\":{\"colorbar\":{\"outlinewidth\":0,\"ticks\":\"\"}},\"type\":\"scatter\"}],\"scatter3d\":[{\"line\":{\"colorbar\":{\"outlinewidth\":0,\"ticks\":\"\"}},\"marker\":{\"colorbar\":{\"outlinewidth\":0,\"ticks\":\"\"}},\"type\":\"scatter3d\"}],\"scattercarpet\":[{\"marker\":{\"colorbar\":{\"outlinewidth\":0,\"ticks\":\"\"}},\"type\":\"scattercarpet\"}],\"scattergeo\":[{\"marker\":{\"colorbar\":{\"outlinewidth\":0,\"ticks\":\"\"}},\"type\":\"scattergeo\"}],\"scattergl\":[{\"marker\":{\"colorbar\":{\"outlinewidth\":0,\"ticks\":\"\"}},\"type\":\"scattergl\"}],\"scattermapbox\":[{\"marker\":{\"colorbar\":{\"outlinewidth\":0,\"ticks\":\"\"}},\"type\":\"scattermapbox\"}],\"scatterpolar\":[{\"marker\":{\"colorbar\":{\"outlinewidth\":0,\"ticks\":\"\"}},\"type\":\"scatterpolar\"}],\"scatterpolargl\":[{\"marker\":{\"colorbar\":{\"outlinewidth\":0,\"ticks\":\"\"}},\"type\":\"scatterpolargl\"}],\"scatterternary\":[{\"marker\":{\"colorbar\":{\"outlinewidth\":0,\"ticks\":\"\"}},\"type\":\"scatterternary\"}],\"surface\":[{\"colorbar\":{\"outlinewidth\":0,\"ticks\":\"\"},\"colorscale\":[[0.0,\"#0d0887\"],[0.1111111111111111,\"#46039f\"],[0.2222222222222222,\"#7201a8\"],[0.3333333333333333,\"#9c179e\"],[0.4444444444444444,\"#bd3786\"],[0.5555555555555556,\"#d8576b\"],[0.6666666666666666,\"#ed7953\"],[0.7777777777777778,\"#fb9f3a\"],[0.8888888888888888,\"#fdca26\"],[1.0,\"#f0f921\"]],\"type\":\"surface\"}],\"table\":[{\"cells\":{\"fill\":{\"color\":\"#EBF0F8\"},\"line\":{\"color\":\"white\"}},\"header\":{\"fill\":{\"color\":\"#C8D4E3\"},\"line\":{\"color\":\"white\"}},\"type\":\"table\"}]},\"layout\":{\"annotationdefaults\":{\"arrowcolor\":\"#2a3f5f\",\"arrowhead\":0,\"arrowwidth\":1},\"autotypenumbers\":\"strict\",\"coloraxis\":{\"colorbar\":{\"outlinewidth\":0,\"ticks\":\"\"}},\"colorscale\":{\"diverging\":[[0,\"#8e0152\"],[0.1,\"#c51b7d\"],[0.2,\"#de77ae\"],[0.3,\"#f1b6da\"],[0.4,\"#fde0ef\"],[0.5,\"#f7f7f7\"],[0.6,\"#e6f5d0\"],[0.7,\"#b8e186\"],[0.8,\"#7fbc41\"],[0.9,\"#4d9221\"],[1,\"#276419\"]],\"sequential\":[[0.0,\"#0d0887\"],[0.1111111111111111,\"#46039f\"],[0.2222222222222222,\"#7201a8\"],[0.3333333333333333,\"#9c179e\"],[0.4444444444444444,\"#bd3786\"],[0.5555555555555556,\"#d8576b\"],[0.6666666666666666,\"#ed7953\"],[0.7777777777777778,\"#fb9f3a\"],[0.8888888888888888,\"#fdca26\"],[1.0,\"#f0f921\"]],\"sequentialminus\":[[0.0,\"#0d0887\"],[0.1111111111111111,\"#46039f\"],[0.2222222222222222,\"#7201a8\"],[0.3333333333333333,\"#9c179e\"],[0.4444444444444444,\"#bd3786\"],[0.5555555555555556,\"#d8576b\"],[0.6666666666666666,\"#ed7953\"],[0.7777777777777778,\"#fb9f3a\"],[0.8888888888888888,\"#fdca26\"],[1.0,\"#f0f921\"]]},\"colorway\":[\"#636efa\",\"#EF553B\",\"#00cc96\",\"#ab63fa\",\"#FFA15A\",\"#19d3f3\",\"#FF6692\",\"#B6E880\",\"#FF97FF\",\"#FECB52\"],\"font\":{\"color\":\"#2a3f5f\"},\"geo\":{\"bgcolor\":\"white\",\"lakecolor\":\"white\",\"landcolor\":\"#E5ECF6\",\"showlakes\":true,\"showland\":true,\"subunitcolor\":\"white\"},\"hoverlabel\":{\"align\":\"left\"},\"hovermode\":\"closest\",\"mapbox\":{\"style\":\"light\"},\"paper_bgcolor\":\"white\",\"plot_bgcolor\":\"#E5ECF6\",\"polar\":{\"angularaxis\":{\"gridcolor\":\"white\",\"linecolor\":\"white\",\"ticks\":\"\"},\"bgcolor\":\"#E5ECF6\",\"radialaxis\":{\"gridcolor\":\"white\",\"linecolor\":\"white\",\"ticks\":\"\"}},\"scene\":{\"xaxis\":{\"backgroundcolor\":\"#E5ECF6\",\"gridcolor\":\"white\",\"gridwidth\":2,\"linecolor\":\"white\",\"showbackground\":true,\"ticks\":\"\",\"zerolinecolor\":\"white\"},\"yaxis\":{\"backgroundcolor\":\"#E5ECF6\",\"gridcolor\":\"white\",\"gridwidth\":2,\"linecolor\":\"white\",\"showbackground\":true,\"ticks\":\"\",\"zerolinecolor\":\"white\"},\"zaxis\":{\"backgroundcolor\":\"#E5ECF6\",\"gridcolor\":\"white\",\"gridwidth\":2,\"linecolor\":\"white\",\"showbackground\":true,\"ticks\":\"\",\"zerolinecolor\":\"white\"}},\"shapedefaults\":{\"line\":{\"color\":\"#2a3f5f\"}},\"ternary\":{\"aaxis\":{\"gridcolor\":\"white\",\"linecolor\":\"white\",\"ticks\":\"\"},\"baxis\":{\"gridcolor\":\"white\",\"linecolor\":\"white\",\"ticks\":\"\"},\"bgcolor\":\"#E5ECF6\",\"caxis\":{\"gridcolor\":\"white\",\"linecolor\":\"white\",\"ticks\":\"\"}},\"title\":{\"x\":0.05},\"xaxis\":{\"automargin\":true,\"gridcolor\":\"white\",\"linecolor\":\"white\",\"ticks\":\"\",\"title\":{\"standoff\":15},\"zerolinecolor\":\"white\",\"zerolinewidth\":2},\"yaxis\":{\"automargin\":true,\"gridcolor\":\"white\",\"linecolor\":\"white\",\"ticks\":\"\",\"title\":{\"standoff\":15},\"zerolinecolor\":\"white\",\"zerolinewidth\":2}}}},                        {\"responsive\": true}                    ).then(function(){\n",
              "                            \n",
              "var gd = document.getElementById('225d1252-908d-4983-b095-aa2138f891a3');\n",
              "var x = new MutationObserver(function (mutations, observer) {{\n",
              "        var display = window.getComputedStyle(gd).display;\n",
              "        if (!display || display === 'none') {{\n",
              "            console.log([gd, 'removed!']);\n",
              "            Plotly.purge(gd);\n",
              "            observer.disconnect();\n",
              "        }}\n",
              "}});\n",
              "\n",
              "// Listen for the removal of the full notebook cells\n",
              "var notebookContainer = gd.closest('#notebook-container');\n",
              "if (notebookContainer) {{\n",
              "    x.observe(notebookContainer, {childList: true});\n",
              "}}\n",
              "\n",
              "// Listen for the clearing of the current output cell\n",
              "var outputEl = gd.closest('.output');\n",
              "if (outputEl) {{\n",
              "    x.observe(outputEl, {childList: true});\n",
              "}}\n",
              "\n",
              "                        })                };                            </script>        </div>\n",
              "</body>\n",
              "</html>"
            ]
          },
          "metadata": {}
        }
      ]
    },
    {
      "cell_type": "code",
      "source": [],
      "metadata": {
        "id": "orfXVIl1fmvh"
      },
      "execution_count": 23,
      "outputs": []
    }
  ]
}