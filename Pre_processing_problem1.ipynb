{
  "nbformat": 4,
  "nbformat_minor": 0,
  "metadata": {
    "colab": {
      "provenance": [],
      "collapsed_sections": []
    },
    "kernelspec": {
      "name": "python3",
      "display_name": "Python 3"
    },
    "language_info": {
      "name": "python"
    }
  },
  "cells": [
    {
      "cell_type": "code",
      "source": [
        "!pip install feature-engine\n",
        "!pip install missingno\n",
        "import pandas as pd\n",
        "from sklearn.preprocessing import LabelEncoder\n",
        "import seaborn as sns\n",
        "import matplotlib.pyplot as plt\n",
        "import numpy as np\n",
        "from sklearn.linear_model import LinearRegression\n",
        "from feature_engine.imputation import RandomSampleImputer\n",
        "from sklearn.preprocessing import MinMaxScaler\n",
        "from sklearn.impute import SimpleImputer\n",
        "from sklearn.feature_selection import SelectKBest\n",
        "from sklearn.feature_selection import chi2\n",
        "from sklearn.neighbors import KNeighborsClassifier\n",
        "from sklearn.preprocessing import StandardScaler,MinMaxScaler\n",
        "from sklearn.metrics import classification_report\n",
        "from sklearn import preprocessing\n",
        "from numpy import random\n",
        "\n",
        "import warnings\n",
        "warnings.filterwarnings(\"ignore\")"
      ],
      "metadata": {
        "colab": {
          "base_uri": "https://localhost:8080/"
        },
        "id": "zsZWSCjlGGXM",
        "outputId": "fcccf0bd-2976-4c95-d323-8d9c35a36311"
      },
      "execution_count": 3,
      "outputs": [
        {
          "output_type": "stream",
          "name": "stdout",
          "text": [
            "Looking in indexes: https://pypi.org/simple, https://us-python.pkg.dev/colab-wheels/public/simple/\n",
            "Requirement already satisfied: feature-engine in /usr/local/lib/python3.7/dist-packages (1.4.0)\n",
            "Requirement already satisfied: scipy>=1.4.1 in /usr/local/lib/python3.7/dist-packages (from feature-engine) (1.7.3)\n",
            "Requirement already satisfied: numpy>=1.18.2 in /usr/local/lib/python3.7/dist-packages (from feature-engine) (1.21.6)\n",
            "Requirement already satisfied: scikit-learn>=1.0.0 in /usr/local/lib/python3.7/dist-packages (from feature-engine) (1.0.2)\n",
            "Requirement already satisfied: pandas>=1.0.3 in /usr/local/lib/python3.7/dist-packages (from feature-engine) (1.3.5)\n",
            "Requirement already satisfied: statsmodels>=0.11.1 in /usr/local/lib/python3.7/dist-packages (from feature-engine) (0.12.2)\n",
            "Requirement already satisfied: pytz>=2017.3 in /usr/local/lib/python3.7/dist-packages (from pandas>=1.0.3->feature-engine) (2022.2.1)\n",
            "Requirement already satisfied: python-dateutil>=2.7.3 in /usr/local/lib/python3.7/dist-packages (from pandas>=1.0.3->feature-engine) (2.8.2)\n",
            "Requirement already satisfied: six>=1.5 in /usr/local/lib/python3.7/dist-packages (from python-dateutil>=2.7.3->pandas>=1.0.3->feature-engine) (1.15.0)\n",
            "Requirement already satisfied: threadpoolctl>=2.0.0 in /usr/local/lib/python3.7/dist-packages (from scikit-learn>=1.0.0->feature-engine) (3.1.0)\n",
            "Requirement already satisfied: joblib>=0.11 in /usr/local/lib/python3.7/dist-packages (from scikit-learn>=1.0.0->feature-engine) (1.1.0)\n",
            "Requirement already satisfied: patsy>=0.5 in /usr/local/lib/python3.7/dist-packages (from statsmodels>=0.11.1->feature-engine) (0.5.2)\n",
            "Looking in indexes: https://pypi.org/simple, https://us-python.pkg.dev/colab-wheels/public/simple/\n",
            "Requirement already satisfied: missingno in /usr/local/lib/python3.7/dist-packages (0.5.1)\n",
            "Requirement already satisfied: matplotlib in /usr/local/lib/python3.7/dist-packages (from missingno) (3.2.2)\n",
            "Requirement already satisfied: numpy in /usr/local/lib/python3.7/dist-packages (from missingno) (1.21.6)\n",
            "Requirement already satisfied: scipy in /usr/local/lib/python3.7/dist-packages (from missingno) (1.7.3)\n",
            "Requirement already satisfied: seaborn in /usr/local/lib/python3.7/dist-packages (from missingno) (0.11.2)\n",
            "Requirement already satisfied: cycler>=0.10 in /usr/local/lib/python3.7/dist-packages (from matplotlib->missingno) (0.11.0)\n",
            "Requirement already satisfied: pyparsing!=2.0.4,!=2.1.2,!=2.1.6,>=2.0.1 in /usr/local/lib/python3.7/dist-packages (from matplotlib->missingno) (3.0.9)\n",
            "Requirement already satisfied: kiwisolver>=1.0.1 in /usr/local/lib/python3.7/dist-packages (from matplotlib->missingno) (1.4.4)\n",
            "Requirement already satisfied: python-dateutil>=2.1 in /usr/local/lib/python3.7/dist-packages (from matplotlib->missingno) (2.8.2)\n",
            "Requirement already satisfied: typing-extensions in /usr/local/lib/python3.7/dist-packages (from kiwisolver>=1.0.1->matplotlib->missingno) (4.1.1)\n",
            "Requirement already satisfied: six>=1.5 in /usr/local/lib/python3.7/dist-packages (from python-dateutil>=2.1->matplotlib->missingno) (1.15.0)\n",
            "Requirement already satisfied: pandas>=0.23 in /usr/local/lib/python3.7/dist-packages (from seaborn->missingno) (1.3.5)\n",
            "Requirement already satisfied: pytz>=2017.3 in /usr/local/lib/python3.7/dist-packages (from pandas>=0.23->seaborn->missingno) (2022.2.1)\n"
          ]
        }
      ]
    },
    {
      "cell_type": "code",
      "source": [
        "from google.colab import drive\n",
        "drive.mount('/content/drive')"
      ],
      "metadata": {
        "colab": {
          "base_uri": "https://localhost:8080/"
        },
        "id": "jb7o4DVA7W3H",
        "outputId": "57745764-4b5f-4504-9e2a-94ffaee48240"
      },
      "execution_count": 4,
      "outputs": [
        {
          "output_type": "stream",
          "name": "stdout",
          "text": [
            "Mounted at /content/drive\n"
          ]
        }
      ]
    },
    {
      "cell_type": "code",
      "execution_count": 5,
      "metadata": {
        "id": "jq1vRHJ7B56R"
      },
      "outputs": [],
      "source": [
        "#train_data\n",
        "df_train = pd.read_csv(\"https://github.com/hilaler/predict-the-processing-time-of-video-digital-conversion-process/blob/main/problem_1_train.csv?raw=true\")"
      ]
    },
    {
      "cell_type": "code",
      "source": [
        "#test_data\n",
        "df_test = pd.read_csv(\"https://github.com/hilaler/predict-the-processing-time-of-video-digital-conversion-process/blob/main/problem_1_test.csv?raw=true\")"
      ],
      "metadata": {
        "id": "Lb6P5JnLCFvb"
      },
      "execution_count": 6,
      "outputs": []
    },
    {
      "cell_type": "code",
      "source": [
        "df = df_train.copy()\n",
        "df.head()"
      ],
      "metadata": {
        "colab": {
          "base_uri": "https://localhost:8080/",
          "height": 206
        },
        "id": "ELdTDR2aCPFg",
        "outputId": "845bc23d-c3af-4ba7-f17c-1ab2f16f5651"
      },
      "execution_count": 7,
      "outputs": [
        {
          "output_type": "execute_result",
          "data": {
            "text/plain": [
              "   video  duration   width  height     frame_class   bitrate  \\\n",
              "0      1     282.6   640.0   480.0  High Framerate       NaN   \n",
              "1      2     339.7   640.0   480.0  High Framerate       NaN   \n",
              "2      3     239.1   480.0   360.0  High Framerate  500198.0   \n",
              "3      4     714.4  1280.0   720.0  High Framerate  652356.0   \n",
              "4      5     645.8   320.0   240.0             NaN   95903.0   \n",
              "\n",
              "   intracoded_frame  predicted_frame  total_frame  intracoded_size  \\\n",
              "0               NaN           6920.0       7065.0              NaN   \n",
              "1             181.0          10010.0      10191.0              NaN   \n",
              "2               NaN           5868.0          NaN        1406751.0   \n",
              "3             143.0              NaN          NaN       14532530.0   \n",
              "4             138.0          16008.0      16146.0              NaN   \n",
              "\n",
              "   predicted_size  total_size codec  tc_width  tc_height  tc_frame_class  \\\n",
              "0      14806840.0  19773349.0  h264       NaN      360.0   Low Framerate   \n",
              "1        820261.0         NaN   NaN    1920.0        NaN  High Framerate   \n",
              "2      13545526.0  14952277.0  h264     640.0      480.0             NaN   \n",
              "3      43720516.0  58253046.0   vp8    1280.0      720.0  High Framerate   \n",
              "4       6660941.0   7742262.0   vp8     320.0      240.0  High Framerate   \n",
              "\n",
              "   tc_bitrate   label  \n",
              "0   3000000.0    Fast  \n",
              "1    820000.0    Slow  \n",
              "2    539000.0  Medium  \n",
              "3   5000000.0    Slow  \n",
              "4     56000.0    Fast  "
            ],
            "text/html": [
              "\n",
              "  <div id=\"df-50fd1cf4-16ba-4cc3-a183-92cd6d5f4945\">\n",
              "    <div class=\"colab-df-container\">\n",
              "      <div>\n",
              "<style scoped>\n",
              "    .dataframe tbody tr th:only-of-type {\n",
              "        vertical-align: middle;\n",
              "    }\n",
              "\n",
              "    .dataframe tbody tr th {\n",
              "        vertical-align: top;\n",
              "    }\n",
              "\n",
              "    .dataframe thead th {\n",
              "        text-align: right;\n",
              "    }\n",
              "</style>\n",
              "<table border=\"1\" class=\"dataframe\">\n",
              "  <thead>\n",
              "    <tr style=\"text-align: right;\">\n",
              "      <th></th>\n",
              "      <th>video</th>\n",
              "      <th>duration</th>\n",
              "      <th>width</th>\n",
              "      <th>height</th>\n",
              "      <th>frame_class</th>\n",
              "      <th>bitrate</th>\n",
              "      <th>intracoded_frame</th>\n",
              "      <th>predicted_frame</th>\n",
              "      <th>total_frame</th>\n",
              "      <th>intracoded_size</th>\n",
              "      <th>predicted_size</th>\n",
              "      <th>total_size</th>\n",
              "      <th>codec</th>\n",
              "      <th>tc_width</th>\n",
              "      <th>tc_height</th>\n",
              "      <th>tc_frame_class</th>\n",
              "      <th>tc_bitrate</th>\n",
              "      <th>label</th>\n",
              "    </tr>\n",
              "  </thead>\n",
              "  <tbody>\n",
              "    <tr>\n",
              "      <th>0</th>\n",
              "      <td>1</td>\n",
              "      <td>282.6</td>\n",
              "      <td>640.0</td>\n",
              "      <td>480.0</td>\n",
              "      <td>High Framerate</td>\n",
              "      <td>NaN</td>\n",
              "      <td>NaN</td>\n",
              "      <td>6920.0</td>\n",
              "      <td>7065.0</td>\n",
              "      <td>NaN</td>\n",
              "      <td>14806840.0</td>\n",
              "      <td>19773349.0</td>\n",
              "      <td>h264</td>\n",
              "      <td>NaN</td>\n",
              "      <td>360.0</td>\n",
              "      <td>Low Framerate</td>\n",
              "      <td>3000000.0</td>\n",
              "      <td>Fast</td>\n",
              "    </tr>\n",
              "    <tr>\n",
              "      <th>1</th>\n",
              "      <td>2</td>\n",
              "      <td>339.7</td>\n",
              "      <td>640.0</td>\n",
              "      <td>480.0</td>\n",
              "      <td>High Framerate</td>\n",
              "      <td>NaN</td>\n",
              "      <td>181.0</td>\n",
              "      <td>10010.0</td>\n",
              "      <td>10191.0</td>\n",
              "      <td>NaN</td>\n",
              "      <td>820261.0</td>\n",
              "      <td>NaN</td>\n",
              "      <td>NaN</td>\n",
              "      <td>1920.0</td>\n",
              "      <td>NaN</td>\n",
              "      <td>High Framerate</td>\n",
              "      <td>820000.0</td>\n",
              "      <td>Slow</td>\n",
              "    </tr>\n",
              "    <tr>\n",
              "      <th>2</th>\n",
              "      <td>3</td>\n",
              "      <td>239.1</td>\n",
              "      <td>480.0</td>\n",
              "      <td>360.0</td>\n",
              "      <td>High Framerate</td>\n",
              "      <td>500198.0</td>\n",
              "      <td>NaN</td>\n",
              "      <td>5868.0</td>\n",
              "      <td>NaN</td>\n",
              "      <td>1406751.0</td>\n",
              "      <td>13545526.0</td>\n",
              "      <td>14952277.0</td>\n",
              "      <td>h264</td>\n",
              "      <td>640.0</td>\n",
              "      <td>480.0</td>\n",
              "      <td>NaN</td>\n",
              "      <td>539000.0</td>\n",
              "      <td>Medium</td>\n",
              "    </tr>\n",
              "    <tr>\n",
              "      <th>3</th>\n",
              "      <td>4</td>\n",
              "      <td>714.4</td>\n",
              "      <td>1280.0</td>\n",
              "      <td>720.0</td>\n",
              "      <td>High Framerate</td>\n",
              "      <td>652356.0</td>\n",
              "      <td>143.0</td>\n",
              "      <td>NaN</td>\n",
              "      <td>NaN</td>\n",
              "      <td>14532530.0</td>\n",
              "      <td>43720516.0</td>\n",
              "      <td>58253046.0</td>\n",
              "      <td>vp8</td>\n",
              "      <td>1280.0</td>\n",
              "      <td>720.0</td>\n",
              "      <td>High Framerate</td>\n",
              "      <td>5000000.0</td>\n",
              "      <td>Slow</td>\n",
              "    </tr>\n",
              "    <tr>\n",
              "      <th>4</th>\n",
              "      <td>5</td>\n",
              "      <td>645.8</td>\n",
              "      <td>320.0</td>\n",
              "      <td>240.0</td>\n",
              "      <td>NaN</td>\n",
              "      <td>95903.0</td>\n",
              "      <td>138.0</td>\n",
              "      <td>16008.0</td>\n",
              "      <td>16146.0</td>\n",
              "      <td>NaN</td>\n",
              "      <td>6660941.0</td>\n",
              "      <td>7742262.0</td>\n",
              "      <td>vp8</td>\n",
              "      <td>320.0</td>\n",
              "      <td>240.0</td>\n",
              "      <td>High Framerate</td>\n",
              "      <td>56000.0</td>\n",
              "      <td>Fast</td>\n",
              "    </tr>\n",
              "  </tbody>\n",
              "</table>\n",
              "</div>\n",
              "      <button class=\"colab-df-convert\" onclick=\"convertToInteractive('df-50fd1cf4-16ba-4cc3-a183-92cd6d5f4945')\"\n",
              "              title=\"Convert this dataframe to an interactive table.\"\n",
              "              style=\"display:none;\">\n",
              "        \n",
              "  <svg xmlns=\"http://www.w3.org/2000/svg\" height=\"24px\"viewBox=\"0 0 24 24\"\n",
              "       width=\"24px\">\n",
              "    <path d=\"M0 0h24v24H0V0z\" fill=\"none\"/>\n",
              "    <path d=\"M18.56 5.44l.94 2.06.94-2.06 2.06-.94-2.06-.94-.94-2.06-.94 2.06-2.06.94zm-11 1L8.5 8.5l.94-2.06 2.06-.94-2.06-.94L8.5 2.5l-.94 2.06-2.06.94zm10 10l.94 2.06.94-2.06 2.06-.94-2.06-.94-.94-2.06-.94 2.06-2.06.94z\"/><path d=\"M17.41 7.96l-1.37-1.37c-.4-.4-.92-.59-1.43-.59-.52 0-1.04.2-1.43.59L10.3 9.45l-7.72 7.72c-.78.78-.78 2.05 0 2.83L4 21.41c.39.39.9.59 1.41.59.51 0 1.02-.2 1.41-.59l7.78-7.78 2.81-2.81c.8-.78.8-2.07 0-2.86zM5.41 20L4 18.59l7.72-7.72 1.47 1.35L5.41 20z\"/>\n",
              "  </svg>\n",
              "      </button>\n",
              "      \n",
              "  <style>\n",
              "    .colab-df-container {\n",
              "      display:flex;\n",
              "      flex-wrap:wrap;\n",
              "      gap: 12px;\n",
              "    }\n",
              "\n",
              "    .colab-df-convert {\n",
              "      background-color: #E8F0FE;\n",
              "      border: none;\n",
              "      border-radius: 50%;\n",
              "      cursor: pointer;\n",
              "      display: none;\n",
              "      fill: #1967D2;\n",
              "      height: 32px;\n",
              "      padding: 0 0 0 0;\n",
              "      width: 32px;\n",
              "    }\n",
              "\n",
              "    .colab-df-convert:hover {\n",
              "      background-color: #E2EBFA;\n",
              "      box-shadow: 0px 1px 2px rgba(60, 64, 67, 0.3), 0px 1px 3px 1px rgba(60, 64, 67, 0.15);\n",
              "      fill: #174EA6;\n",
              "    }\n",
              "\n",
              "    [theme=dark] .colab-df-convert {\n",
              "      background-color: #3B4455;\n",
              "      fill: #D2E3FC;\n",
              "    }\n",
              "\n",
              "    [theme=dark] .colab-df-convert:hover {\n",
              "      background-color: #434B5C;\n",
              "      box-shadow: 0px 1px 3px 1px rgba(0, 0, 0, 0.15);\n",
              "      filter: drop-shadow(0px 1px 2px rgba(0, 0, 0, 0.3));\n",
              "      fill: #FFFFFF;\n",
              "    }\n",
              "  </style>\n",
              "\n",
              "      <script>\n",
              "        const buttonEl =\n",
              "          document.querySelector('#df-50fd1cf4-16ba-4cc3-a183-92cd6d5f4945 button.colab-df-convert');\n",
              "        buttonEl.style.display =\n",
              "          google.colab.kernel.accessAllowed ? 'block' : 'none';\n",
              "\n",
              "        async function convertToInteractive(key) {\n",
              "          const element = document.querySelector('#df-50fd1cf4-16ba-4cc3-a183-92cd6d5f4945');\n",
              "          const dataTable =\n",
              "            await google.colab.kernel.invokeFunction('convertToInteractive',\n",
              "                                                     [key], {});\n",
              "          if (!dataTable) return;\n",
              "\n",
              "          const docLinkHtml = 'Like what you see? Visit the ' +\n",
              "            '<a target=\"_blank\" href=https://colab.research.google.com/notebooks/data_table.ipynb>data table notebook</a>'\n",
              "            + ' to learn more about interactive tables.';\n",
              "          element.innerHTML = '';\n",
              "          dataTable['output_type'] = 'display_data';\n",
              "          await google.colab.output.renderOutput(dataTable, element);\n",
              "          const docLink = document.createElement('div');\n",
              "          docLink.innerHTML = docLinkHtml;\n",
              "          element.appendChild(docLink);\n",
              "        }\n",
              "      </script>\n",
              "    </div>\n",
              "  </div>\n",
              "  "
            ]
          },
          "metadata": {},
          "execution_count": 7
        }
      ]
    },
    {
      "cell_type": "code",
      "source": [
        "df_test.head()"
      ],
      "metadata": {
        "colab": {
          "base_uri": "https://localhost:8080/",
          "height": 206
        },
        "id": "ySBfyYuVCQOI",
        "outputId": "b15eb41c-4b3d-4d63-d4a3-930c51d8d6c7"
      },
      "execution_count": 8,
      "outputs": [
        {
          "output_type": "execute_result",
          "data": {
            "text/plain": [
              "   video  duration  width  height     frame_class   bitrate  intracoded_frame  \\\n",
              "0  48149     256.2  176.0     NaN   Low Framerate   57565.0              56.0   \n",
              "1  48150      74.5  176.0   144.0   Low Framerate       NaN              15.0   \n",
              "2  48151       NaN    NaN   144.0   Low Framerate   53707.0              37.0   \n",
              "3  48152     282.6  640.0     NaN  High Framerate  559834.0             145.0   \n",
              "4  48153       NaN  320.0   240.0  High Framerate  272273.0              23.0   \n",
              "\n",
              "   predicted_frame  total_frame  intracoded_size  predicted_size  total_size  \\\n",
              "0           3018.0          NaN         302900.0       1540700.0   1843600.0   \n",
              "1            879.0          NaN              NaN        491276.0    515272.0   \n",
              "2           2091.0       2128.0         100969.0       1089548.0   1190517.0   \n",
              "3           6920.0          NaN        4966509.0             NaN         NaN   \n",
              "4           1081.0       1104.0              NaN       1354404.0         NaN   \n",
              "\n",
              "   codec  tc_width  tc_height  tc_frame_class  tc_bitrate  \n",
              "0  mpeg4    1920.0        NaN  High Framerate         NaN  \n",
              "1  mpeg4     176.0      144.0  High Framerate    820000.0  \n",
              "2  mpeg4     480.0      360.0   Low Framerate   3000000.0  \n",
              "3   h264    1920.0        NaN  High Framerate    820000.0  \n",
              "4    NaN     480.0      360.0  High Framerate    539000.0  "
            ],
            "text/html": [
              "\n",
              "  <div id=\"df-d11493dd-5c4e-4084-a4b0-26ecdb38eebd\">\n",
              "    <div class=\"colab-df-container\">\n",
              "      <div>\n",
              "<style scoped>\n",
              "    .dataframe tbody tr th:only-of-type {\n",
              "        vertical-align: middle;\n",
              "    }\n",
              "\n",
              "    .dataframe tbody tr th {\n",
              "        vertical-align: top;\n",
              "    }\n",
              "\n",
              "    .dataframe thead th {\n",
              "        text-align: right;\n",
              "    }\n",
              "</style>\n",
              "<table border=\"1\" class=\"dataframe\">\n",
              "  <thead>\n",
              "    <tr style=\"text-align: right;\">\n",
              "      <th></th>\n",
              "      <th>video</th>\n",
              "      <th>duration</th>\n",
              "      <th>width</th>\n",
              "      <th>height</th>\n",
              "      <th>frame_class</th>\n",
              "      <th>bitrate</th>\n",
              "      <th>intracoded_frame</th>\n",
              "      <th>predicted_frame</th>\n",
              "      <th>total_frame</th>\n",
              "      <th>intracoded_size</th>\n",
              "      <th>predicted_size</th>\n",
              "      <th>total_size</th>\n",
              "      <th>codec</th>\n",
              "      <th>tc_width</th>\n",
              "      <th>tc_height</th>\n",
              "      <th>tc_frame_class</th>\n",
              "      <th>tc_bitrate</th>\n",
              "    </tr>\n",
              "  </thead>\n",
              "  <tbody>\n",
              "    <tr>\n",
              "      <th>0</th>\n",
              "      <td>48149</td>\n",
              "      <td>256.2</td>\n",
              "      <td>176.0</td>\n",
              "      <td>NaN</td>\n",
              "      <td>Low Framerate</td>\n",
              "      <td>57565.0</td>\n",
              "      <td>56.0</td>\n",
              "      <td>3018.0</td>\n",
              "      <td>NaN</td>\n",
              "      <td>302900.0</td>\n",
              "      <td>1540700.0</td>\n",
              "      <td>1843600.0</td>\n",
              "      <td>mpeg4</td>\n",
              "      <td>1920.0</td>\n",
              "      <td>NaN</td>\n",
              "      <td>High Framerate</td>\n",
              "      <td>NaN</td>\n",
              "    </tr>\n",
              "    <tr>\n",
              "      <th>1</th>\n",
              "      <td>48150</td>\n",
              "      <td>74.5</td>\n",
              "      <td>176.0</td>\n",
              "      <td>144.0</td>\n",
              "      <td>Low Framerate</td>\n",
              "      <td>NaN</td>\n",
              "      <td>15.0</td>\n",
              "      <td>879.0</td>\n",
              "      <td>NaN</td>\n",
              "      <td>NaN</td>\n",
              "      <td>491276.0</td>\n",
              "      <td>515272.0</td>\n",
              "      <td>mpeg4</td>\n",
              "      <td>176.0</td>\n",
              "      <td>144.0</td>\n",
              "      <td>High Framerate</td>\n",
              "      <td>820000.0</td>\n",
              "    </tr>\n",
              "    <tr>\n",
              "      <th>2</th>\n",
              "      <td>48151</td>\n",
              "      <td>NaN</td>\n",
              "      <td>NaN</td>\n",
              "      <td>144.0</td>\n",
              "      <td>Low Framerate</td>\n",
              "      <td>53707.0</td>\n",
              "      <td>37.0</td>\n",
              "      <td>2091.0</td>\n",
              "      <td>2128.0</td>\n",
              "      <td>100969.0</td>\n",
              "      <td>1089548.0</td>\n",
              "      <td>1190517.0</td>\n",
              "      <td>mpeg4</td>\n",
              "      <td>480.0</td>\n",
              "      <td>360.0</td>\n",
              "      <td>Low Framerate</td>\n",
              "      <td>3000000.0</td>\n",
              "    </tr>\n",
              "    <tr>\n",
              "      <th>3</th>\n",
              "      <td>48152</td>\n",
              "      <td>282.6</td>\n",
              "      <td>640.0</td>\n",
              "      <td>NaN</td>\n",
              "      <td>High Framerate</td>\n",
              "      <td>559834.0</td>\n",
              "      <td>145.0</td>\n",
              "      <td>6920.0</td>\n",
              "      <td>NaN</td>\n",
              "      <td>4966509.0</td>\n",
              "      <td>NaN</td>\n",
              "      <td>NaN</td>\n",
              "      <td>h264</td>\n",
              "      <td>1920.0</td>\n",
              "      <td>NaN</td>\n",
              "      <td>High Framerate</td>\n",
              "      <td>820000.0</td>\n",
              "    </tr>\n",
              "    <tr>\n",
              "      <th>4</th>\n",
              "      <td>48153</td>\n",
              "      <td>NaN</td>\n",
              "      <td>320.0</td>\n",
              "      <td>240.0</td>\n",
              "      <td>High Framerate</td>\n",
              "      <td>272273.0</td>\n",
              "      <td>23.0</td>\n",
              "      <td>1081.0</td>\n",
              "      <td>1104.0</td>\n",
              "      <td>NaN</td>\n",
              "      <td>1354404.0</td>\n",
              "      <td>NaN</td>\n",
              "      <td>NaN</td>\n",
              "      <td>480.0</td>\n",
              "      <td>360.0</td>\n",
              "      <td>High Framerate</td>\n",
              "      <td>539000.0</td>\n",
              "    </tr>\n",
              "  </tbody>\n",
              "</table>\n",
              "</div>\n",
              "      <button class=\"colab-df-convert\" onclick=\"convertToInteractive('df-d11493dd-5c4e-4084-a4b0-26ecdb38eebd')\"\n",
              "              title=\"Convert this dataframe to an interactive table.\"\n",
              "              style=\"display:none;\">\n",
              "        \n",
              "  <svg xmlns=\"http://www.w3.org/2000/svg\" height=\"24px\"viewBox=\"0 0 24 24\"\n",
              "       width=\"24px\">\n",
              "    <path d=\"M0 0h24v24H0V0z\" fill=\"none\"/>\n",
              "    <path d=\"M18.56 5.44l.94 2.06.94-2.06 2.06-.94-2.06-.94-.94-2.06-.94 2.06-2.06.94zm-11 1L8.5 8.5l.94-2.06 2.06-.94-2.06-.94L8.5 2.5l-.94 2.06-2.06.94zm10 10l.94 2.06.94-2.06 2.06-.94-2.06-.94-.94-2.06-.94 2.06-2.06.94z\"/><path d=\"M17.41 7.96l-1.37-1.37c-.4-.4-.92-.59-1.43-.59-.52 0-1.04.2-1.43.59L10.3 9.45l-7.72 7.72c-.78.78-.78 2.05 0 2.83L4 21.41c.39.39.9.59 1.41.59.51 0 1.02-.2 1.41-.59l7.78-7.78 2.81-2.81c.8-.78.8-2.07 0-2.86zM5.41 20L4 18.59l7.72-7.72 1.47 1.35L5.41 20z\"/>\n",
              "  </svg>\n",
              "      </button>\n",
              "      \n",
              "  <style>\n",
              "    .colab-df-container {\n",
              "      display:flex;\n",
              "      flex-wrap:wrap;\n",
              "      gap: 12px;\n",
              "    }\n",
              "\n",
              "    .colab-df-convert {\n",
              "      background-color: #E8F0FE;\n",
              "      border: none;\n",
              "      border-radius: 50%;\n",
              "      cursor: pointer;\n",
              "      display: none;\n",
              "      fill: #1967D2;\n",
              "      height: 32px;\n",
              "      padding: 0 0 0 0;\n",
              "      width: 32px;\n",
              "    }\n",
              "\n",
              "    .colab-df-convert:hover {\n",
              "      background-color: #E2EBFA;\n",
              "      box-shadow: 0px 1px 2px rgba(60, 64, 67, 0.3), 0px 1px 3px 1px rgba(60, 64, 67, 0.15);\n",
              "      fill: #174EA6;\n",
              "    }\n",
              "\n",
              "    [theme=dark] .colab-df-convert {\n",
              "      background-color: #3B4455;\n",
              "      fill: #D2E3FC;\n",
              "    }\n",
              "\n",
              "    [theme=dark] .colab-df-convert:hover {\n",
              "      background-color: #434B5C;\n",
              "      box-shadow: 0px 1px 3px 1px rgba(0, 0, 0, 0.15);\n",
              "      filter: drop-shadow(0px 1px 2px rgba(0, 0, 0, 0.3));\n",
              "      fill: #FFFFFF;\n",
              "    }\n",
              "  </style>\n",
              "\n",
              "      <script>\n",
              "        const buttonEl =\n",
              "          document.querySelector('#df-d11493dd-5c4e-4084-a4b0-26ecdb38eebd button.colab-df-convert');\n",
              "        buttonEl.style.display =\n",
              "          google.colab.kernel.accessAllowed ? 'block' : 'none';\n",
              "\n",
              "        async function convertToInteractive(key) {\n",
              "          const element = document.querySelector('#df-d11493dd-5c4e-4084-a4b0-26ecdb38eebd');\n",
              "          const dataTable =\n",
              "            await google.colab.kernel.invokeFunction('convertToInteractive',\n",
              "                                                     [key], {});\n",
              "          if (!dataTable) return;\n",
              "\n",
              "          const docLinkHtml = 'Like what you see? Visit the ' +\n",
              "            '<a target=\"_blank\" href=https://colab.research.google.com/notebooks/data_table.ipynb>data table notebook</a>'\n",
              "            + ' to learn more about interactive tables.';\n",
              "          element.innerHTML = '';\n",
              "          dataTable['output_type'] = 'display_data';\n",
              "          await google.colab.output.renderOutput(dataTable, element);\n",
              "          const docLink = document.createElement('div');\n",
              "          docLink.innerHTML = docLinkHtml;\n",
              "          element.appendChild(docLink);\n",
              "        }\n",
              "      </script>\n",
              "    </div>\n",
              "  </div>\n",
              "  "
            ]
          },
          "metadata": {},
          "execution_count": 8
        }
      ]
    },
    {
      "cell_type": "code",
      "source": [
        "df.drop(columns=['video'],inplace=True)\n",
        "df.info()"
      ],
      "metadata": {
        "colab": {
          "base_uri": "https://localhost:8080/"
        },
        "id": "iOiiiPsLCQr-",
        "outputId": "81677ef1-dbb0-43b1-9b21-ed8f8cb64eec"
      },
      "execution_count": 9,
      "outputs": [
        {
          "output_type": "stream",
          "name": "stdout",
          "text": [
            "<class 'pandas.core.frame.DataFrame'>\n",
            "RangeIndex: 48148 entries, 0 to 48147\n",
            "Data columns (total 17 columns):\n",
            " #   Column            Non-Null Count  Dtype  \n",
            "---  ------            --------------  -----  \n",
            " 0   duration          39458 non-null  float64\n",
            " 1   width             39480 non-null  float64\n",
            " 2   height            39560 non-null  float64\n",
            " 3   frame_class       39454 non-null  object \n",
            " 4   bitrate           39415 non-null  float64\n",
            " 5   intracoded_frame  39348 non-null  float64\n",
            " 6   predicted_frame   39576 non-null  float64\n",
            " 7   total_frame       39647 non-null  float64\n",
            " 8   intracoded_size   39377 non-null  float64\n",
            " 9   predicted_size    39602 non-null  float64\n",
            " 10  total_size        39459 non-null  float64\n",
            " 11  codec             39616 non-null  object \n",
            " 12  tc_width          39472 non-null  float64\n",
            " 13  tc_height         39519 non-null  float64\n",
            " 14  tc_frame_class    39457 non-null  object \n",
            " 15  tc_bitrate        39704 non-null  float64\n",
            " 16  label             48148 non-null  object \n",
            "dtypes: float64(13), object(4)\n",
            "memory usage: 6.2+ MB\n"
          ]
        }
      ]
    },
    {
      "cell_type": "code",
      "source": [
        "df_test.drop(columns=['video'],inplace=True)"
      ],
      "metadata": {
        "id": "_qQrZ8zf_N9F"
      },
      "execution_count": 10,
      "outputs": []
    },
    {
      "cell_type": "code",
      "source": [
        "df.shape"
      ],
      "metadata": {
        "colab": {
          "base_uri": "https://localhost:8080/"
        },
        "id": "70FaHY-HJRUy",
        "outputId": "beb58b4b-eb87-405a-a2fe-0e0b286e2f01"
      },
      "execution_count": 11,
      "outputs": [
        {
          "output_type": "execute_result",
          "data": {
            "text/plain": [
              "(48148, 17)"
            ]
          },
          "metadata": {},
          "execution_count": 11
        }
      ]
    },
    {
      "cell_type": "code",
      "source": [
        "nominal = ['frame_class','codec','tc_frame_class']\n",
        "# nominal_lebih_dari_dua = ['Kode_Daerah','Kanal_Penjualan']\n",
        "ordinal = []\n",
        "numerik = ['duration','width', 'height', 'bitrate',\t'intracoded_frame',\t'predicted_frame',\t'total_frame',\t'intracoded_size',\t'predicted_size',\t'total_size','tc_width','tc_height','tc_bitrate']\n",
        "label = 'label'"
      ],
      "metadata": {
        "id": "jFNXe8dUGE-k"
      },
      "execution_count": 12,
      "outputs": []
    },
    {
      "cell_type": "code",
      "source": [],
      "metadata": {
        "id": "xolODx0LP_Td"
      },
      "execution_count": 12,
      "outputs": []
    },
    {
      "cell_type": "code",
      "source": [
        "#jumlah value_counts()\n",
        "for kolom in nominal+ordinal+['label']:\n",
        "  print(df[kolom].value_counts(),'\\n')"
      ],
      "metadata": {
        "colab": {
          "base_uri": "https://localhost:8080/"
        },
        "id": "KS7yIZ9PJUIZ",
        "outputId": "1d20a0da-0481-44fb-9e54-66fe7825295e"
      },
      "execution_count": 13,
      "outputs": [
        {
          "output_type": "stream",
          "name": "stdout",
          "text": [
            "High Framerate    28700\n",
            "Low Framerate     10754\n",
            "Name: frame_class, dtype: int64 \n",
            "\n",
            "h264     18154\n",
            "vp8      10628\n",
            "mpeg4     6860\n",
            "flv       3974\n",
            "Name: codec, dtype: int64 \n",
            "\n",
            "High Framerate    23617\n",
            "Low Framerate     15840\n",
            "Name: tc_frame_class, dtype: int64 \n",
            "\n",
            "Medium    24096\n",
            "Fast      12138\n",
            "Slow      11914\n",
            "Name: label, dtype: int64 \n",
            "\n"
          ]
        }
      ]
    },
    {
      "cell_type": "code",
      "source": [
        "#testing\n",
        "contoh = df.dropna()\n",
        "for kolom in nominal+ordinal+['label']:\n",
        "  print(contoh[kolom].value_counts(),'\\n')"
      ],
      "metadata": {
        "colab": {
          "base_uri": "https://localhost:8080/"
        },
        "id": "HSKKCKXQWFmO",
        "outputId": "9be3d5e4-050d-4689-a9cd-07db8326f22a"
      },
      "execution_count": 14,
      "outputs": [
        {
          "output_type": "stream",
          "name": "stdout",
          "text": [
            "High Framerate    1456\n",
            "Low Framerate      534\n",
            "Name: frame_class, dtype: int64 \n",
            "\n",
            "h264     912\n",
            "vp8      539\n",
            "mpeg4    338\n",
            "flv      201\n",
            "Name: codec, dtype: int64 \n",
            "\n",
            "High Framerate    1235\n",
            "Low Framerate      755\n",
            "Name: tc_frame_class, dtype: int64 \n",
            "\n",
            "Medium    999\n",
            "Fast      496\n",
            "Slow      495\n",
            "Name: label, dtype: int64 \n",
            "\n"
          ]
        }
      ]
    },
    {
      "cell_type": "code",
      "source": [
        "for kolom in numerik:\n",
        "  plt.figure()\n",
        "  sns.distplot(df[kolom])\n",
        "plt.show()"
      ],
      "metadata": {
        "colab": {
          "base_uri": "https://localhost:8080/",
          "height": 1000
        },
        "id": "znZG9dkRP46U",
        "outputId": "be24a439-bc3e-49d5-e907-7225db483fc1"
      },
      "execution_count": 15,
      "outputs": [
        {
          "output_type": "display_data",
          "data": {
            "text/plain": [
              "<Figure size 432x288 with 1 Axes>"
            ],
            "image/png": "[encoded data removed]"
          },
          "metadata": {
            "needs_background": "light"
          }
        },
        {
          "output_type": "display_data",
          "data": {
            "text/plain": [
              "<Figure size 432x288 with 1 Axes>"
            ],
            "image/png": "[encoded data removed]"
          },
          "metadata": {
            "needs_background": "light"
          }
        },
        {
          "output_type": "display_data",
          "data": {
            "text/plain": [
              "<Figure size 432x288 with 1 Axes>"
            ],
            "image/png": "[encoded data removed]"
          },
          "metadata": {
            "needs_background": "light"
          }
        },
        {
          "output_type": "display_data",
          "data": {
            "text/plain": [
              "<Figure size 432x288 with 1 Axes>"
            ],
            "image/png": "[encoded data removed]"
          },
          "metadata": {
            "needs_background": "light"
          }
        },
        {
          "output_type": "display_data",
          "data": {
            "text/plain": [
              "<Figure size 432x288 with 1 Axes>"
            ],
            "image/png": "[encoded data removed]"
          },
          "metadata": {
            "needs_background": "light"
          }
        },
        {
          "output_type": "display_data",
          "data": {
            "text/plain": [
              "<Figure size 432x288 with 1 Axes>"
            ],
            "image/png": "[encoded data removed]"
          },
          "metadata": {
            "needs_background": "light"
          }
        },
        {
          "output_type": "display_data",
          "data": {
            "text/plain": [
              "<Figure size 432x288 with 1 Axes>"
            ],
            "image/png": "[encoded data removed]"
          },
          "metadata": {
            "needs_background": "light"
          }
        },
        {
          "output_type": "display_data",
          "data": {
            "text/plain": [
              "<Figure size 432x288 with 1 Axes>"
            ],
            "image/png": "[encoded data removed]"
          },
          "metadata": {
            "needs_background": "light"
          }
        },
        {
          "output_type": "display_data",
          "data": {
            "text/plain": [
              "<Figure size 432x288 with 1 Axes>"
            ],
            "image/png": "[encoded data removed]"
          },
          "metadata": {
            "needs_background": "light"
          }
        },
        {
          "output_type": "display_data",
          "data": {
            "text/plain": [
              "<Figure size 432x288 with 1 Axes>"
            ],
            "image/png": "[encoded data removed]"
          },
          "metadata": {
            "needs_background": "light"
          }
        },
        {
          "output_type": "display_data",
          "data": {
            "text/plain": [
              "<Figure size 432x288 with 1 Axes>"
            ],
            "image/png": "[encoded data removed]"
          },
          "metadata": {
            "needs_background": "light"
          }
        },
        {
          "output_type": "display_data",
          "data": {
            "text/plain": [
              "<Figure size 432x288 with 1 Axes>"
            ],
            "image/png": "[encoded data removed]"
          },
          "metadata": {
            "needs_background": "light"
          }
        },
        {
          "output_type": "display_data",
          "data": {
            "text/plain": [
              "<Figure size 432x288 with 1 Axes>"
            ],
            "image/png": "[encoded data removed]"
          },
          "metadata": {
            "needs_background": "light"
          }
        }
      ]
    },
    {
      "cell_type": "markdown",
      "source": [
        "# Null Value handling"
      ],
      "metadata": {
        "id": "kAaYLFSXRJF4"
      }
    },
    {
      "cell_type": "code",
      "source": [
        "# Visualize misssing value\n",
        "import missingno as msno\n",
        "msno.matrix(df)"
      ],
      "metadata": {
        "colab": {
          "base_uri": "https://localhost:8080/",
          "height": 722
        },
        "id": "eXLOhQT0Q8Z0",
        "outputId": "6b9cecbd-4f19-4a7a-af55-6c197f5c319c"
      },
      "execution_count": 16,
      "outputs": [
        {
          "output_type": "execute_result",
          "data": {
            "text/plain": [
              "<matplotlib.axes._subplots.AxesSubplot at 0x7f5e31eb7690>"
            ]
          },
          "metadata": {},
          "execution_count": 16
        },
        {
          "output_type": "display_data",
          "data": {
            "text/plain": [
              "<Figure size 1800x720 with 2 Axes>"
            ],
            "image/png": "[encoded data removed]"
          },
          "metadata": {
            "needs_background": "light"
          }
        }
      ]
    },
    {
      "cell_type": "markdown",
      "source": [
        "Missing Completely At Random \n",
        "(MCAR)\n",
        "\n",
        "![image.png](data:image/png;base64,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)"
      ],
      "metadata": {
        "id": "SnTXAXFBReK6"
      }
    },
    {
      "cell_type": "code",
      "source": [
        "df.isna().sum()"
      ],
      "metadata": {
        "colab": {
          "base_uri": "https://localhost:8080/"
        },
        "id": "AQGTg2lnRQPq",
        "outputId": "b87ca726-502d-4608-d53d-54206f7a1a0c"
      },
      "execution_count": 17,
      "outputs": [
        {
          "output_type": "execute_result",
          "data": {
            "text/plain": [
              "duration            8690\n",
              "width               8668\n",
              "height              8588\n",
              "frame_class         8694\n",
              "bitrate             8733\n",
              "intracoded_frame    8800\n",
              "predicted_frame     8572\n",
              "total_frame         8501\n",
              "intracoded_size     8771\n",
              "predicted_size      8546\n",
              "total_size          8689\n",
              "codec               8532\n",
              "tc_width            8676\n",
              "tc_height           8629\n",
              "tc_frame_class      8691\n",
              "tc_bitrate          8444\n",
              "label                  0\n",
              "dtype: int64"
            ]
          },
          "metadata": {},
          "execution_count": 17
        }
      ]
    },
    {
      "cell_type": "markdown",
      "source": [
        "# missing value in numeric feature"
      ],
      "metadata": {
        "id": "s6fXy5KQTZXG"
      }
    },
    {
      "cell_type": "code",
      "source": [
        "df.corr()"
      ],
      "metadata": {
        "colab": {
          "base_uri": "https://localhost:8080/",
          "height": 457
        },
        "id": "TdKxhsqKRj8b",
        "outputId": "22ed456d-976d-4088-ec47-3ae2f735a4ba"
      },
      "execution_count": 18,
      "outputs": [
        {
          "output_type": "execute_result",
          "data": {
            "text/plain": [
              "                  duration     width    height   bitrate  intracoded_frame  \\\n",
              "duration          1.000000  0.076022  0.056806  0.002984          0.760803   \n",
              "width             0.076022  1.000000  0.990485  0.813720          0.071274   \n",
              "height            0.056806  0.990485  1.000000  0.798326          0.087944   \n",
              "bitrate           0.002984  0.813720  0.798326  1.000000          0.054006   \n",
              "intracoded_frame  0.760803  0.071274  0.087944  0.054006          1.000000   \n",
              "predicted_frame   0.850515  0.239128  0.238379  0.108780          0.828538   \n",
              "total_frame       0.853524  0.240788  0.239214  0.113108          0.832318   \n",
              "intracoded_size   0.446915  0.599967  0.594102  0.443347          0.543292   \n",
              "predicted_size    0.431998  0.556195  0.531761  0.616195          0.395021   \n",
              "total_size        0.445917  0.572180  0.547981  0.613912          0.421292   \n",
              "tc_width          0.000667 -0.000570  0.004586 -0.000043         -0.000314   \n",
              "tc_height         0.000333 -0.001364  0.003745 -0.000132         -0.000233   \n",
              "tc_bitrate        0.000702  0.006126  0.000594 -0.000456         -0.004976   \n",
              "\n",
              "                  predicted_frame  total_frame  intracoded_size  \\\n",
              "duration                 0.850515     0.853524         0.446915   \n",
              "width                    0.239128     0.240788         0.599967   \n",
              "height                   0.238379     0.239214         0.594102   \n",
              "bitrate                  0.108780     0.113108         0.443347   \n",
              "intracoded_frame         0.828538     0.832318         0.543292   \n",
              "predicted_frame          1.000000     0.999839         0.673371   \n",
              "total_frame              0.999839     1.000000         0.670335   \n",
              "intracoded_size          0.673371     0.670335         1.000000   \n",
              "predicted_size           0.608061     0.607524         0.709717   \n",
              "total_size               0.632759     0.632724         0.748802   \n",
              "tc_width                 0.003764     0.004994        -0.003556   \n",
              "tc_height               -0.000916     0.002787        -0.006469   \n",
              "tc_bitrate              -0.004069    -0.006565        -0.003380   \n",
              "\n",
              "                  predicted_size  total_size  tc_width  tc_height  tc_bitrate  \n",
              "duration                0.431998    0.445917  0.000667   0.000333    0.000702  \n",
              "width                   0.556195    0.572180 -0.000570  -0.001364    0.006126  \n",
              "height                  0.531761    0.547981  0.004586   0.003745    0.000594  \n",
              "bitrate                 0.616195    0.613912 -0.000043  -0.000132   -0.000456  \n",
              "intracoded_frame        0.395021    0.421292 -0.000314  -0.000233   -0.004976  \n",
              "predicted_frame         0.608061    0.632759  0.003764  -0.000916   -0.004069  \n",
              "total_frame             0.607524    0.632724  0.004994   0.002787   -0.006565  \n",
              "intracoded_size         0.709717    0.748802 -0.003556  -0.006469   -0.003380  \n",
              "predicted_size          1.000000    0.998416  0.001871  -0.001974   -0.005507  \n",
              "total_size              0.998416    1.000000  0.002146  -0.001865   -0.005350  \n",
              "tc_width                0.001871    0.002146  1.000000   0.994513    0.001286  \n",
              "tc_height              -0.001974   -0.001865  0.994513   1.000000   -0.002142  \n",
              "tc_bitrate             -0.005507   -0.005350  0.001286  -0.002142    1.000000  "
            ],
            "text/html": [
              "\n",
              "  <div id=\"df-5a811047-aa16-470c-9ca3-9bc46166dd4c\">\n",
              "    <div class=\"colab-df-container\">\n",
              "      <div>\n",
              "<style scoped>\n",
              "    .dataframe tbody tr th:only-of-type {\n",
              "        vertical-align: middle;\n",
              "    }\n",
              "\n",
              "    .dataframe tbody tr th {\n",
              "        vertical-align: top;\n",
              "    }\n",
              "\n",
              "    .dataframe thead th {\n",
              "        text-align: right;\n",
              "    }\n",
              "</style>\n",
              "<table border=\"1\" class=\"dataframe\">\n",
              "  <thead>\n",
              "    <tr style=\"text-align: right;\">\n",
              "      <th></th>\n",
              "      <th>duration</th>\n",
              "      <th>width</th>\n",
              "      <th>height</th>\n",
              "      <th>bitrate</th>\n",
              "      <th>intracoded_frame</th>\n",
              "      <th>predicted_frame</th>\n",
              "      <th>total_frame</th>\n",
              "      <th>intracoded_size</th>\n",
              "      <th>predicted_size</th>\n",
              "      <th>total_size</th>\n",
              "      <th>tc_width</th>\n",
              "      <th>tc_height</th>\n",
              "      <th>tc_bitrate</th>\n",
              "    </tr>\n",
              "  </thead>\n",
              "  <tbody>\n",
              "    <tr>\n",
              "      <th>duration</th>\n",
              "      <td>1.000000</td>\n",
              "      <td>0.076022</td>\n",
              "      <td>0.056806</td>\n",
              "      <td>0.002984</td>\n",
              "      <td>0.760803</td>\n",
              "      <td>0.850515</td>\n",
              "      <td>0.853524</td>\n",
              "      <td>0.446915</td>\n",
              "      <td>0.431998</td>\n",
              "      <td>0.445917</td>\n",
              "      <td>0.000667</td>\n",
              "      <td>0.000333</td>\n",
              "      <td>0.000702</td>\n",
              "    </tr>\n",
              "    <tr>\n",
              "      <th>width</th>\n",
              "      <td>0.076022</td>\n",
              "      <td>1.000000</td>\n",
              "      <td>0.990485</td>\n",
              "      <td>0.813720</td>\n",
              "      <td>0.071274</td>\n",
              "      <td>0.239128</td>\n",
              "      <td>0.240788</td>\n",
              "      <td>0.599967</td>\n",
              "      <td>0.556195</td>\n",
              "      <td>0.572180</td>\n",
              "      <td>-0.000570</td>\n",
              "      <td>-0.001364</td>\n",
              "      <td>0.006126</td>\n",
              "    </tr>\n",
              "    <tr>\n",
              "      <th>height</th>\n",
              "      <td>0.056806</td>\n",
              "      <td>0.990485</td>\n",
              "      <td>1.000000</td>\n",
              "      <td>0.798326</td>\n",
              "      <td>0.087944</td>\n",
              "      <td>0.238379</td>\n",
              "      <td>0.239214</td>\n",
              "      <td>0.594102</td>\n",
              "      <td>0.531761</td>\n",
              "      <td>0.547981</td>\n",
              "      <td>0.004586</td>\n",
              "      <td>0.003745</td>\n",
              "      <td>0.000594</td>\n",
              "    </tr>\n",
              "    <tr>\n",
              "      <th>bitrate</th>\n",
              "      <td>0.002984</td>\n",
              "      <td>0.813720</td>\n",
              "      <td>0.798326</td>\n",
              "      <td>1.000000</td>\n",
              "      <td>0.054006</td>\n",
              "      <td>0.108780</td>\n",
              "      <td>0.113108</td>\n",
              "      <td>0.443347</td>\n",
              "      <td>0.616195</td>\n",
              "      <td>0.613912</td>\n",
              "      <td>-0.000043</td>\n",
              "      <td>-0.000132</td>\n",
              "      <td>-0.000456</td>\n",
              "    </tr>\n",
              "    <tr>\n",
              "      <th>intracoded_frame</th>\n",
              "      <td>0.760803</td>\n",
              "      <td>0.071274</td>\n",
              "      <td>0.087944</td>\n",
              "      <td>0.054006</td>\n",
              "      <td>1.000000</td>\n",
              "      <td>0.828538</td>\n",
              "      <td>0.832318</td>\n",
              "      <td>0.543292</td>\n",
              "      <td>0.395021</td>\n",
              "      <td>0.421292</td>\n",
              "      <td>-0.000314</td>\n",
              "      <td>-0.000233</td>\n",
              "      <td>-0.004976</td>\n",
              "    </tr>\n",
              "    <tr>\n",
              "      <th>predicted_frame</th>\n",
              "      <td>0.850515</td>\n",
              "      <td>0.239128</td>\n",
              "      <td>0.238379</td>\n",
              "      <td>0.108780</td>\n",
              "      <td>0.828538</td>\n",
              "      <td>1.000000</td>\n",
              "      <td>0.999839</td>\n",
              "      <td>0.673371</td>\n",
              "      <td>0.608061</td>\n",
              "      <td>0.632759</td>\n",
              "      <td>0.003764</td>\n",
              "      <td>-0.000916</td>\n",
              "      <td>-0.004069</td>\n",
              "    </tr>\n",
              "    <tr>\n",
              "      <th>total_frame</th>\n",
              "      <td>0.853524</td>\n",
              "      <td>0.240788</td>\n",
              "      <td>0.239214</td>\n",
              "      <td>0.113108</td>\n",
              "      <td>0.832318</td>\n",
              "      <td>0.999839</td>\n",
              "      <td>1.000000</td>\n",
              "      <td>0.670335</td>\n",
              "      <td>0.607524</td>\n",
              "      <td>0.632724</td>\n",
              "      <td>0.004994</td>\n",
              "      <td>0.002787</td>\n",
              "      <td>-0.006565</td>\n",
              "    </tr>\n",
              "    <tr>\n",
              "      <th>intracoded_size</th>\n",
              "      <td>0.446915</td>\n",
              "      <td>0.599967</td>\n",
              "      <td>0.594102</td>\n",
              "      <td>0.443347</td>\n",
              "      <td>0.543292</td>\n",
              "      <td>0.673371</td>\n",
              "      <td>0.670335</td>\n",
              "      <td>1.000000</td>\n",
              "      <td>0.709717</td>\n",
              "      <td>0.748802</td>\n",
              "      <td>-0.003556</td>\n",
              "      <td>-0.006469</td>\n",
              "      <td>-0.003380</td>\n",
              "    </tr>\n",
              "    <tr>\n",
              "      <th>predicted_size</th>\n",
              "      <td>0.431998</td>\n",
              "      <td>0.556195</td>\n",
              "      <td>0.531761</td>\n",
              "      <td>0.616195</td>\n",
              "      <td>0.395021</td>\n",
              "      <td>0.608061</td>\n",
              "      <td>0.607524</td>\n",
              "      <td>0.709717</td>\n",
              "      <td>1.000000</td>\n",
              "      <td>0.998416</td>\n",
              "      <td>0.001871</td>\n",
              "      <td>-0.001974</td>\n",
              "      <td>-0.005507</td>\n",
              "    </tr>\n",
              "    <tr>\n",
              "      <th>total_size</th>\n",
              "      <td>0.445917</td>\n",
              "      <td>0.572180</td>\n",
              "      <td>0.547981</td>\n",
              "      <td>0.613912</td>\n",
              "      <td>0.421292</td>\n",
              "      <td>0.632759</td>\n",
              "      <td>0.632724</td>\n",
              "      <td>0.748802</td>\n",
              "      <td>0.998416</td>\n",
              "      <td>1.000000</td>\n",
              "      <td>0.002146</td>\n",
              "      <td>-0.001865</td>\n",
              "      <td>-0.005350</td>\n",
              "    </tr>\n",
              "    <tr>\n",
              "      <th>tc_width</th>\n",
              "      <td>0.000667</td>\n",
              "      <td>-0.000570</td>\n",
              "      <td>0.004586</td>\n",
              "      <td>-0.000043</td>\n",
              "      <td>-0.000314</td>\n",
              "      <td>0.003764</td>\n",
              "      <td>0.004994</td>\n",
              "      <td>-0.003556</td>\n",
              "      <td>0.001871</td>\n",
              "      <td>0.002146</td>\n",
              "      <td>1.000000</td>\n",
              "      <td>0.994513</td>\n",
              "      <td>0.001286</td>\n",
              "    </tr>\n",
              "    <tr>\n",
              "      <th>tc_height</th>\n",
              "      <td>0.000333</td>\n",
              "      <td>-0.001364</td>\n",
              "      <td>0.003745</td>\n",
              "      <td>-0.000132</td>\n",
              "      <td>-0.000233</td>\n",
              "      <td>-0.000916</td>\n",
              "      <td>0.002787</td>\n",
              "      <td>-0.006469</td>\n",
              "      <td>-0.001974</td>\n",
              "      <td>-0.001865</td>\n",
              "      <td>0.994513</td>\n",
              "      <td>1.000000</td>\n",
              "      <td>-0.002142</td>\n",
              "    </tr>\n",
              "    <tr>\n",
              "      <th>tc_bitrate</th>\n",
              "      <td>0.000702</td>\n",
              "      <td>0.006126</td>\n",
              "      <td>0.000594</td>\n",
              "      <td>-0.000456</td>\n",
              "      <td>-0.004976</td>\n",
              "      <td>-0.004069</td>\n",
              "      <td>-0.006565</td>\n",
              "      <td>-0.003380</td>\n",
              "      <td>-0.005507</td>\n",
              "      <td>-0.005350</td>\n",
              "      <td>0.001286</td>\n",
              "      <td>-0.002142</td>\n",
              "      <td>1.000000</td>\n",
              "    </tr>\n",
              "  </tbody>\n",
              "</table>\n",
              "</div>\n",
              "      <button class=\"colab-df-convert\" onclick=\"convertToInteractive('df-5a811047-aa16-470c-9ca3-9bc46166dd4c')\"\n",
              "              title=\"Convert this dataframe to an interactive table.\"\n",
              "              style=\"display:none;\">\n",
              "        \n",
              "  <svg xmlns=\"http://www.w3.org/2000/svg\" height=\"24px\"viewBox=\"0 0 24 24\"\n",
              "       width=\"24px\">\n",
              "    <path d=\"M0 0h24v24H0V0z\" fill=\"none\"/>\n",
              "    <path d=\"M18.56 5.44l.94 2.06.94-2.06 2.06-.94-2.06-.94-.94-2.06-.94 2.06-2.06.94zm-11 1L8.5 8.5l.94-2.06 2.06-.94-2.06-.94L8.5 2.5l-.94 2.06-2.06.94zm10 10l.94 2.06.94-2.06 2.06-.94-2.06-.94-.94-2.06-.94 2.06-2.06.94z\"/><path d=\"M17.41 7.96l-1.37-1.37c-.4-.4-.92-.59-1.43-.59-.52 0-1.04.2-1.43.59L10.3 9.45l-7.72 7.72c-.78.78-.78 2.05 0 2.83L4 21.41c.39.39.9.59 1.41.59.51 0 1.02-.2 1.41-.59l7.78-7.78 2.81-2.81c.8-.78.8-2.07 0-2.86zM5.41 20L4 18.59l7.72-7.72 1.47 1.35L5.41 20z\"/>\n",
              "  </svg>\n",
              "      </button>\n",
              "      \n",
              "  <style>\n",
              "    .colab-df-container {\n",
              "      display:flex;\n",
              "      flex-wrap:wrap;\n",
              "      gap: 12px;\n",
              "    }\n",
              "\n",
              "    .colab-df-convert {\n",
              "      background-color: #E8F0FE;\n",
              "      border: none;\n",
              "      border-radius: 50%;\n",
              "      cursor: pointer;\n",
              "      display: none;\n",
              "      fill: #1967D2;\n",
              "      height: 32px;\n",
              "      padding: 0 0 0 0;\n",
              "      width: 32px;\n",
              "    }\n",
              "\n",
              "    .colab-df-convert:hover {\n",
              "      background-color: #E2EBFA;\n",
              "      box-shadow: 0px 1px 2px rgba(60, 64, 67, 0.3), 0px 1px 3px 1px rgba(60, 64, 67, 0.15);\n",
              "      fill: #174EA6;\n",
              "    }\n",
              "\n",
              "    [theme=dark] .colab-df-convert {\n",
              "      background-color: #3B4455;\n",
              "      fill: #D2E3FC;\n",
              "    }\n",
              "\n",
              "    [theme=dark] .colab-df-convert:hover {\n",
              "      background-color: #434B5C;\n",
              "      box-shadow: 0px 1px 3px 1px rgba(0, 0, 0, 0.15);\n",
              "      filter: drop-shadow(0px 1px 2px rgba(0, 0, 0, 0.3));\n",
              "      fill: #FFFFFF;\n",
              "    }\n",
              "  </style>\n",
              "\n",
              "      <script>\n",
              "        const buttonEl =\n",
              "          document.querySelector('#df-5a811047-aa16-470c-9ca3-9bc46166dd4c button.colab-df-convert');\n",
              "        buttonEl.style.display =\n",
              "          google.colab.kernel.accessAllowed ? 'block' : 'none';\n",
              "\n",
              "        async function convertToInteractive(key) {\n",
              "          const element = document.querySelector('#df-5a811047-aa16-470c-9ca3-9bc46166dd4c');\n",
              "          const dataTable =\n",
              "            await google.colab.kernel.invokeFunction('convertToInteractive',\n",
              "                                                     [key], {});\n",
              "          if (!dataTable) return;\n",
              "\n",
              "          const docLinkHtml = 'Like what you see? Visit the ' +\n",
              "            '<a target=\"_blank\" href=https://colab.research.google.com/notebooks/data_table.ipynb>data table notebook</a>'\n",
              "            + ' to learn more about interactive tables.';\n",
              "          element.innerHTML = '';\n",
              "          dataTable['output_type'] = 'display_data';\n",
              "          await google.colab.output.renderOutput(dataTable, element);\n",
              "          const docLink = document.createElement('div');\n",
              "          docLink.innerHTML = docLinkHtml;\n",
              "          element.appendChild(docLink);\n",
              "        }\n",
              "      </script>\n",
              "    </div>\n",
              "  </div>\n",
              "  "
            ]
          },
          "metadata": {},
          "execution_count": 18
        }
      ]
    },
    {
      "cell_type": "code",
      "source": [
        "# function untuk mengatasi null menggunakan model\n",
        "def missing_value_fixing(df, kolom_tujuan, feature1,feature2, model, metode_sisa_missing):\n",
        "  observed = df[[kolom_tujuan,feature1,feature2]].dropna()\n",
        "\n",
        "  model_imputasi = model\n",
        "  model_imputasi.fit(observed.drop(columns=[kolom_tujuan]),observed[kolom_tujuan])\n",
        "\n",
        "  result = model_imputasi.predict(df.loc[(df[kolom_tujuan].isnull()) & \n",
        "        (df[feature1].notnull()) & \n",
        "        (df[feature2].notnull())][[feature1,feature2]])\n",
        "\n",
        "  index_null = df.loc[(df[kolom_tujuan].isnull()) & \n",
        "        (df[feature1].notnull()) & \n",
        "        (df[feature2].notnull())][kolom_tujuan].index\n",
        "        \n",
        "  for i,index_na in enumerate(index_null):\n",
        "    df[kolom_tujuan][index_na] = result[i]\n",
        "  \n",
        "  if metode_sisa_missing=='mean':\n",
        "    df[kolom_tujuan] = df[kolom_tujuan].fillna(df[kolom_tujuan].mean())\n",
        "  elif metode_sisa_missing=='modus':\n",
        "    df[kolom_tujuan] = df[kolom_tujuan].fillna(df[kolom_tujuan].mode()[0])\n",
        "  \n",
        "  return df"
      ],
      "metadata": {
        "id": "wHiVIWQ7T4OH"
      },
      "execution_count": 19,
      "outputs": []
    },
    {
      "cell_type": "code",
      "source": [
        "numerik"
      ],
      "metadata": {
        "colab": {
          "base_uri": "https://localhost:8080/"
        },
        "id": "N0tgAFedZyak",
        "outputId": "f1aab196-204d-43cb-e380-07ccd24fc34d"
      },
      "execution_count": 20,
      "outputs": [
        {
          "output_type": "execute_result",
          "data": {
            "text/plain": [
              "['duration',\n",
              " 'width',\n",
              " 'height',\n",
              " 'bitrate',\n",
              " 'intracoded_frame',\n",
              " 'predicted_frame',\n",
              " 'total_frame',\n",
              " 'intracoded_size',\n",
              " 'predicted_size',\n",
              " 'total_size',\n",
              " 'tc_width',\n",
              " 'tc_height',\n",
              " 'tc_bitrate']"
            ]
          },
          "metadata": {},
          "execution_count": 20
        }
      ]
    },
    {
      "cell_type": "code",
      "source": [
        "df = missing_value_fixing(df,'duration','predicted_frame',\t'total_frame',LinearRegression(),'mean')\n",
        "df = missing_value_fixing(df,'width','height', 'bitrate',LinearRegression(),'mean')\n",
        "df = missing_value_fixing(df,'height','width', 'bitrate',LinearRegression(),'mean')\n",
        "df = missing_value_fixing(df,'bitrate','width', 'height',LinearRegression(),'mean')\n",
        "df = missing_value_fixing(df,'intracoded_frame','predicted_frame', 'total_frame',LinearRegression(),'mean')\n",
        "df = missing_value_fixing(df,'predicted_frame','intracoded_frame', 'total_frame',LinearRegression(),'mean')\n",
        "df = missing_value_fixing(df,'total_frame','intracoded_frame', 'predicted_frame',LinearRegression(),'mean')\n",
        "\n",
        "df = missing_value_fixing(df,'intracoded_size','predicted_size',\t'total_size',LinearRegression(),'mean')\n",
        "df = missing_value_fixing(df,'predicted_size','intracoded_size',\t'total_size',LinearRegression(),'mean')\n",
        "df = missing_value_fixing(df,'total_size','predicted_size',\t'intracoded_size',LinearRegression(),'mean')\n",
        "df = missing_value_fixing(df,'tc_height','tc_width','height',LinearRegression(),'mean')\n",
        "df = missing_value_fixing(df,'tc_width','tc_height','width',LinearRegression(),'mean')"
      ],
      "metadata": {
        "id": "ijgy34gpZ7hk"
      },
      "execution_count": 21,
      "outputs": []
    },
    {
      "cell_type": "code",
      "source": [
        "df_test = missing_value_fixing(df_test,'duration','predicted_frame',  'total_frame',LinearRegression(),'mean')\n",
        "df_test = missing_value_fixing(df_test,'width','height', 'bitrate',LinearRegression(),'mean')\n",
        "df_test = missing_value_fixing(df_test,'height','width', 'bitrate',LinearRegression(),'mean')\n",
        "df_test = missing_value_fixing(df_test,'bitrate','width', 'height',LinearRegression(),'mean')\n",
        "df_test = missing_value_fixing(df_test,'intracoded_frame','predicted_frame', 'total_frame',LinearRegression(),'mean')\n",
        "df_test = missing_value_fixing(df_test,'predicted_frame','intracoded_frame', 'total_frame',LinearRegression(),'mean')\n",
        "df_test = missing_value_fixing(df_test,'total_frame','intracoded_frame', 'predicted_frame',LinearRegression(),'mean')\n",
        " \n",
        "df_test = missing_value_fixing(df_test,'intracoded_size','predicted_size',  'total_size',LinearRegression(),'mean')\n",
        "df_test = missing_value_fixing(df_test,'predicted_size','intracoded_size',  'total_size',LinearRegression(),'mean')\n",
        "df_test = missing_value_fixing(df_test,'total_size','predicted_size', 'intracoded_size',LinearRegression(),'mean')\n",
        "df_test = missing_value_fixing(df_test,'tc_height','tc_width','height',LinearRegression(),'mean')\n",
        "df_test = missing_value_fixing(df_test,'tc_width','tc_height','width',LinearRegression(),'mean')"
      ],
      "metadata": {
        "id": "82JHqewCq8xt"
      },
      "execution_count": 22,
      "outputs": []
    },
    {
      "cell_type": "code",
      "source": [
        "df['tc_bitrate'].value_counts()"
      ],
      "metadata": {
        "colab": {
          "base_uri": "https://localhost:8080/"
        },
        "id": "qh8B5sbfuCtL",
        "outputId": "594434e4-7ec9-4049-a054-01791b6aefd7"
      },
      "execution_count": 23,
      "outputs": [
        {
          "output_type": "execute_result",
          "data": {
            "text/plain": [
              "56000.0      5721\n",
              "5000000.0    5690\n",
              "3000000.0    5679\n",
              "242000.0     5671\n",
              "109000.0     5656\n",
              "539000.0     5651\n",
              "820000.0     5636\n",
              "Name: tc_bitrate, dtype: int64"
            ]
          },
          "metadata": {},
          "execution_count": 23
        }
      ]
    },
    {
      "cell_type": "code",
      "source": [
        "random.choice([56000.0,3000000.0,109000.0,5000000.0,539000.0,820000.0])"
      ],
      "metadata": {
        "colab": {
          "base_uri": "https://localhost:8080/"
        },
        "id": "AE_y9E-bOWNz",
        "outputId": "41d28516-e9cd-4058-e182-d518516c9bd7"
      },
      "execution_count": 24,
      "outputs": [
        {
          "output_type": "execute_result",
          "data": {
            "text/plain": [
              "3000000.0"
            ]
          },
          "metadata": {},
          "execution_count": 24
        }
      ]
    },
    {
      "cell_type": "code",
      "source": [
        "df['tc_bitrate'].fillna(df['tc_bitrate'].mode(), inplace=True)\n",
        "df_test['tc_bitrate'].fillna(df_test['tc_bitrate'].mode(), inplace=True)"
      ],
      "metadata": {
        "id": "3uaE0-syYcPf"
      },
      "execution_count": 25,
      "outputs": []
    },
    {
      "cell_type": "code",
      "source": [
        "# for i in range(len(df['tc_bitrate'])):\n",
        "#   if np.isnan(df['tc_bitrate'][i]):\n",
        "#     df['tc_bitrate'][i] = random.choice([56000,3000000,109000,5000000,539000,820000])"
      ],
      "metadata": {
        "id": "6PuTEdF8tK4I"
      },
      "execution_count": 26,
      "outputs": []
    },
    {
      "cell_type": "code",
      "source": [
        "# # df_test['tc_bitrate'] = df_test['tc_bitrate'].fillna(random.choice([56000.0,3000000.0,109000.0,5000000.0,539000.0,820000.0]))\n",
        "# from numpy import random\n",
        "# for i in range(len(df_test['tc_bitrate'])):\n",
        "#   if np.isnan(df_test['tc_bitrate'][i]):\n",
        "#     df_test['tc_bitrate'][i] = random.choice([56000,3000000,109000,5000000,539000,820000])"
      ],
      "metadata": {
        "id": "f8_TwEIq2ASD"
      },
      "execution_count": 27,
      "outputs": []
    },
    {
      "cell_type": "code",
      "source": [
        "msno.matrix(df)"
      ],
      "metadata": {
        "colab": {
          "base_uri": "https://localhost:8080/",
          "height": 722
        },
        "id": "c5TwbmDOia5K",
        "outputId": "d5ffd6c7-965d-4ff9-f2a5-7cd95fab2544"
      },
      "execution_count": 28,
      "outputs": [
        {
          "output_type": "execute_result",
          "data": {
            "text/plain": [
              "<matplotlib.axes._subplots.AxesSubplot at 0x7f5e31df4c90>"
            ]
          },
          "metadata": {},
          "execution_count": 28
        },
        {
          "output_type": "display_data",
          "data": {
            "text/plain": [
              "<Figure size 1800x720 with 2 Axes>"
            ],
            "image/png": "[encoded data removed]"
          },
          "metadata": {
            "needs_background": "light"
          }
        }
      ]
    },
    {
      "cell_type": "code",
      "source": [
        "df = df[df.select_dtypes(include=[np.number]).ge(0).all(1)]"
      ],
      "metadata": {
        "id": "3eivIhafllBK"
      },
      "execution_count": 29,
      "outputs": []
    },
    {
      "cell_type": "code",
      "source": [
        "for kolom in numerik:\n",
        "  plt.figure()\n",
        "  sns.distplot(df[kolom])\n",
        "plt.show()"
      ],
      "metadata": {
        "colab": {
          "base_uri": "https://localhost:8080/",
          "height": 1000
        },
        "id": "gWBa2-DtifWl",
        "outputId": "1027e085-6724-414f-ff24-7eb6c233a94f"
      },
      "execution_count": 30,
      "outputs": [
        {
          "output_type": "display_data",
          "data": {
            "text/plain": [
              "<Figure size 432x288 with 1 Axes>"
            ],
            "image/png": "[encoded data removed]"
          },
          "metadata": {
            "needs_background": "light"
          }
        },
        {
          "output_type": "display_data",
          "data": {
            "text/plain": [
              "<Figure size 432x288 with 1 Axes>"
            ],
            "image/png": "[encoded data removed]"
          },
          "metadata": {
            "needs_background": "light"
          }
        },
        {
          "output_type": "display_data",
          "data": {
            "text/plain": [
              "<Figure size 432x288 with 1 Axes>"
            ],
            "image/png": "[encoded data removed]"
          },
          "metadata": {
            "needs_background": "light"
          }
        },
        {
          "output_type": "display_data",
          "data": {
            "text/plain": [
              "<Figure size 432x288 with 1 Axes>"
            ],
            "image/png": "[encoded data removed]"
          },
          "metadata": {
            "needs_background": "light"
          }
        },
        {
          "output_type": "display_data",
          "data": {
            "text/plain": [
              "<Figure size 432x288 with 1 Axes>"
            ],
            "image/png": "[encoded data removed]"
          },
          "metadata": {
            "needs_background": "light"
          }
        },
        {
          "output_type": "display_data",
          "data": {
            "text/plain": [
              "<Figure size 432x288 with 1 Axes>"
            ],
            "image/png": "[encoded data removed]"
          },
          "metadata": {
            "needs_background": "light"
          }
        },
        {
          "output_type": "display_data",
          "data": {
            "text/plain": [
              "<Figure size 432x288 with 1 Axes>"
            ],
            "image/png": "[encoded data removed]"
          },
          "metadata": {
            "needs_background": "light"
          }
        },
        {
          "output_type": "display_data",
          "data": {
            "text/plain": [
              "<Figure size 432x288 with 1 Axes>"
            ],
            "image/png": "[encoded data removed]"
          },
          "metadata": {
            "needs_background": "light"
          }
        },
        {
          "output_type": "display_data",
          "data": {
            "text/plain": [
              "<Figure size 432x288 with 1 Axes>"
            ],
            "image/png": "[encoded data removed]"
          },
          "metadata": {
            "needs_background": "light"
          }
        },
        {
          "output_type": "display_data",
          "data": {
            "text/plain": [
              "<Figure size 432x288 with 1 Axes>"
            ],
            "image/png": "[encoded data removed]"
          },
          "metadata": {
            "needs_background": "light"
          }
        },
        {
          "output_type": "display_data",
          "data": {
            "text/plain": [
              "<Figure size 432x288 with 1 Axes>"
            ],
            "image/png": "[encoded data removed]"
          },
          "metadata": {
            "needs_background": "light"
          }
        },
        {
          "output_type": "display_data",
          "data": {
            "text/plain": [
              "<Figure size 432x288 with 1 Axes>"
            ],
            "image/png": "[encoded data removed]"
          },
          "metadata": {
            "needs_background": "light"
          }
        },
        {
          "output_type": "display_data",
          "data": {
            "text/plain": [
              "<Figure size 432x288 with 1 Axes>"
            ],
            "image/png": "[encoded data removed]"
          },
          "metadata": {
            "needs_background": "light"
          }
        }
      ]
    },
    {
      "cell_type": "markdown",
      "source": [
        "# Missing value handling in categorical"
      ],
      "metadata": {
        "id": "Coc03_R3luOk"
      }
    },
    {
      "cell_type": "code",
      "source": [
        "df = df.reset_index()\n",
        "df = df.drop(columns=['index'])"
      ],
      "metadata": {
        "id": "f88utDKjcjPX"
      },
      "execution_count": 31,
      "outputs": []
    },
    {
      "cell_type": "code",
      "source": [
        "df_test = df_test.reset_index()\n",
        "df_test = df_test.drop(columns=['index'])"
      ],
      "metadata": {
        "id": "iTYkSfOfrT6T"
      },
      "execution_count": 32,
      "outputs": []
    },
    {
      "cell_type": "code",
      "source": [
        "# null in feature label\n",
        "list_temp = []\n",
        "for i in range(len(df['label'])):\n",
        "  try:\n",
        "    df['label'][i] = df['label'][i]\n",
        "  except:\n",
        "    list_temp.append(i)\n"
      ],
      "metadata": {
        "id": "siIbbjnfbj5E"
      },
      "execution_count": 33,
      "outputs": []
    },
    {
      "cell_type": "code",
      "source": [
        "list_temp"
      ],
      "metadata": {
        "colab": {
          "base_uri": "https://localhost:8080/"
        },
        "id": "-v1cgZtVcYSy",
        "outputId": "03f7164b-34c1-4664-95f7-86f311cfb62a"
      },
      "execution_count": 34,
      "outputs": [
        {
          "output_type": "execute_result",
          "data": {
            "text/plain": [
              "[]"
            ]
          },
          "metadata": {},
          "execution_count": 34
        }
      ]
    },
    {
      "cell_type": "code",
      "source": [
        "# df.drop(list_temp)"
      ],
      "metadata": {
        "id": "-SF4lobgb8ry"
      },
      "execution_count": 35,
      "outputs": []
    },
    {
      "cell_type": "code",
      "source": [
        "df = df.replace({\n",
        "    'High Framerate':0,\n",
        "    'Low Framerate':1,\n",
        "    'h264':0,\n",
        "    'vp8':1,\n",
        "    'mpeg4':2,\n",
        "    'flv':3,\n",
        "    'Medium':0,\n",
        "    'Fast':1,\n",
        "    'Slow':2\n",
        "})\n",
        "df.head()"
      ],
      "metadata": {
        "colab": {
          "base_uri": "https://localhost:8080/",
          "height": 206
        },
        "id": "hEptKraviix5",
        "outputId": "6902792e-def4-4ef1-ba75-ee8c8c4df10b"
      },
      "execution_count": 36,
      "outputs": [
        {
          "output_type": "execute_result",
          "data": {
            "text/plain": [
              "   duration   width  height  frame_class       bitrate  intracoded_frame  \\\n",
              "0     282.6   640.0   480.0          0.0  484643.58764        112.048545   \n",
              "1     339.7   640.0   480.0          0.0  484643.58764        181.000000   \n",
              "2     239.1   480.0   360.0          0.0  500198.00000        100.649325   \n",
              "3     714.4  1280.0   720.0          0.0  652356.00000        143.000000   \n",
              "4     645.8   320.0   240.0          NaN   95903.00000        138.000000   \n",
              "\n",
              "   predicted_frame   total_frame  intracoded_size  predicted_size  \\\n",
              "0      6920.000000   7065.000000     4.963097e+06      14806840.0   \n",
              "1     10010.000000  10191.000000     2.837791e+06        820261.0   \n",
              "2      5868.000000   5980.220086     1.406751e+06      13545526.0   \n",
              "3      6507.193859   6675.882193     1.453253e+07      43720516.0   \n",
              "4     16008.000000  16146.000000     1.077641e+06       6660941.0   \n",
              "\n",
              "     total_size  codec     tc_width    tc_height  tc_frame_class  tc_bitrate  \\\n",
              "0  1.977335e+07    0.0   526.102499   360.000000             1.0   3000000.0   \n",
              "1  3.661565e+06    NaN  1920.000000  1079.551622             0.0    820000.0   \n",
              "2  1.495228e+07    0.0   640.000000   480.000000             NaN    539000.0   \n",
              "3  5.825305e+07    1.0  1280.000000   720.000000             0.0   5000000.0   \n",
              "4  7.742262e+06    1.0   320.000000   240.000000             0.0     56000.0   \n",
              "\n",
              "   label  \n",
              "0      1  \n",
              "1      2  \n",
              "2      0  \n",
              "3      2  \n",
              "4      1  "
            ],
            "text/html": [
              "\n",
              "  <div id=\"df-025080cd-fc80-45b2-b956-b66c51b64bcb\">\n",
              "    <div class=\"colab-df-container\">\n",
              "      <div>\n",
              "<style scoped>\n",
              "    .dataframe tbody tr th:only-of-type {\n",
              "        vertical-align: middle;\n",
              "    }\n",
              "\n",
              "    .dataframe tbody tr th {\n",
              "        vertical-align: top;\n",
              "    }\n",
              "\n",
              "    .dataframe thead th {\n",
              "        text-align: right;\n",
              "    }\n",
              "</style>\n",
              "<table border=\"1\" class=\"dataframe\">\n",
              "  <thead>\n",
              "    <tr style=\"text-align: right;\">\n",
              "      <th></th>\n",
              "      <th>duration</th>\n",
              "      <th>width</th>\n",
              "      <th>height</th>\n",
              "      <th>frame_class</th>\n",
              "      <th>bitrate</th>\n",
              "      <th>intracoded_frame</th>\n",
              "      <th>predicted_frame</th>\n",
              "      <th>total_frame</th>\n",
              "      <th>intracoded_size</th>\n",
              "      <th>predicted_size</th>\n",
              "      <th>total_size</th>\n",
              "      <th>codec</th>\n",
              "      <th>tc_width</th>\n",
              "      <th>tc_height</th>\n",
              "      <th>tc_frame_class</th>\n",
              "      <th>tc_bitrate</th>\n",
              "      <th>label</th>\n",
              "    </tr>\n",
              "  </thead>\n",
              "  <tbody>\n",
              "    <tr>\n",
              "      <th>0</th>\n",
              "      <td>282.6</td>\n",
              "      <td>640.0</td>\n",
              "      <td>480.0</td>\n",
              "      <td>0.0</td>\n",
              "      <td>484643.58764</td>\n",
              "      <td>112.048545</td>\n",
              "      <td>6920.000000</td>\n",
              "      <td>7065.000000</td>\n",
              "      <td>4.963097e+06</td>\n",
              "      <td>14806840.0</td>\n",
              "      <td>1.977335e+07</td>\n",
              "      <td>0.0</td>\n",
              "      <td>526.102499</td>\n",
              "      <td>360.000000</td>\n",
              "      <td>1.0</td>\n",
              "      <td>3000000.0</td>\n",
              "      <td>1</td>\n",
              "    </tr>\n",
              "    <tr>\n",
              "      <th>1</th>\n",
              "      <td>339.7</td>\n",
              "      <td>640.0</td>\n",
              "      <td>480.0</td>\n",
              "      <td>0.0</td>\n",
              "      <td>484643.58764</td>\n",
              "      <td>181.000000</td>\n",
              "      <td>10010.000000</td>\n",
              "      <td>10191.000000</td>\n",
              "      <td>2.837791e+06</td>\n",
              "      <td>820261.0</td>\n",
              "      <td>3.661565e+06</td>\n",
              "      <td>NaN</td>\n",
              "      <td>1920.000000</td>\n",
              "      <td>1079.551622</td>\n",
              "      <td>0.0</td>\n",
              "      <td>820000.0</td>\n",
              "      <td>2</td>\n",
              "    </tr>\n",
              "    <tr>\n",
              "      <th>2</th>\n",
              "      <td>239.1</td>\n",
              "      <td>480.0</td>\n",
              "      <td>360.0</td>\n",
              "      <td>0.0</td>\n",
              "      <td>500198.00000</td>\n",
              "      <td>100.649325</td>\n",
              "      <td>5868.000000</td>\n",
              "      <td>5980.220086</td>\n",
              "      <td>1.406751e+06</td>\n",
              "      <td>13545526.0</td>\n",
              "      <td>1.495228e+07</td>\n",
              "      <td>0.0</td>\n",
              "      <td>640.000000</td>\n",
              "      <td>480.000000</td>\n",
              "      <td>NaN</td>\n",
              "      <td>539000.0</td>\n",
              "      <td>0</td>\n",
              "    </tr>\n",
              "    <tr>\n",
              "      <th>3</th>\n",
              "      <td>714.4</td>\n",
              "      <td>1280.0</td>\n",
              "      <td>720.0</td>\n",
              "      <td>0.0</td>\n",
              "      <td>652356.00000</td>\n",
              "      <td>143.000000</td>\n",
              "      <td>6507.193859</td>\n",
              "      <td>6675.882193</td>\n",
              "      <td>1.453253e+07</td>\n",
              "      <td>43720516.0</td>\n",
              "      <td>5.825305e+07</td>\n",
              "      <td>1.0</td>\n",
              "      <td>1280.000000</td>\n",
              "      <td>720.000000</td>\n",
              "      <td>0.0</td>\n",
              "      <td>5000000.0</td>\n",
              "      <td>2</td>\n",
              "    </tr>\n",
              "    <tr>\n",
              "      <th>4</th>\n",
              "      <td>645.8</td>\n",
              "      <td>320.0</td>\n",
              "      <td>240.0</td>\n",
              "      <td>NaN</td>\n",
              "      <td>95903.00000</td>\n",
              "      <td>138.000000</td>\n",
              "      <td>16008.000000</td>\n",
              "      <td>16146.000000</td>\n",
              "      <td>1.077641e+06</td>\n",
              "      <td>6660941.0</td>\n",
              "      <td>7.742262e+06</td>\n",
              "      <td>1.0</td>\n",
              "      <td>320.000000</td>\n",
              "      <td>240.000000</td>\n",
              "      <td>0.0</td>\n",
              "      <td>56000.0</td>\n",
              "      <td>1</td>\n",
              "    </tr>\n",
              "  </tbody>\n",
              "</table>\n",
              "</div>\n",
              "      <button class=\"colab-df-convert\" onclick=\"convertToInteractive('df-025080cd-fc80-45b2-b956-b66c51b64bcb')\"\n",
              "              title=\"Convert this dataframe to an interactive table.\"\n",
              "              style=\"display:none;\">\n",
              "        \n",
              "  <svg xmlns=\"http://www.w3.org/2000/svg\" height=\"24px\"viewBox=\"0 0 24 24\"\n",
              "       width=\"24px\">\n",
              "    <path d=\"M0 0h24v24H0V0z\" fill=\"none\"/>\n",
              "    <path d=\"M18.56 5.44l.94 2.06.94-2.06 2.06-.94-2.06-.94-.94-2.06-.94 2.06-2.06.94zm-11 1L8.5 8.5l.94-2.06 2.06-.94-2.06-.94L8.5 2.5l-.94 2.06-2.06.94zm10 10l.94 2.06.94-2.06 2.06-.94-2.06-.94-.94-2.06-.94 2.06-2.06.94z\"/><path d=\"M17.41 7.96l-1.37-1.37c-.4-.4-.92-.59-1.43-.59-.52 0-1.04.2-1.43.59L10.3 9.45l-7.72 7.72c-.78.78-.78 2.05 0 2.83L4 21.41c.39.39.9.59 1.41.59.51 0 1.02-.2 1.41-.59l7.78-7.78 2.81-2.81c.8-.78.8-2.07 0-2.86zM5.41 20L4 18.59l7.72-7.72 1.47 1.35L5.41 20z\"/>\n",
              "  </svg>\n",
              "      </button>\n",
              "      \n",
              "  <style>\n",
              "    .colab-df-container {\n",
              "      display:flex;\n",
              "      flex-wrap:wrap;\n",
              "      gap: 12px;\n",
              "    }\n",
              "\n",
              "    .colab-df-convert {\n",
              "      background-color: #E8F0FE;\n",
              "      border: none;\n",
              "      border-radius: 50%;\n",
              "      cursor: pointer;\n",
              "      display: none;\n",
              "      fill: #1967D2;\n",
              "      height: 32px;\n",
              "      padding: 0 0 0 0;\n",
              "      width: 32px;\n",
              "    }\n",
              "\n",
              "    .colab-df-convert:hover {\n",
              "      background-color: #E2EBFA;\n",
              "      box-shadow: 0px 1px 2px rgba(60, 64, 67, 0.3), 0px 1px 3px 1px rgba(60, 64, 67, 0.15);\n",
              "      fill: #174EA6;\n",
              "    }\n",
              "\n",
              "    [theme=dark] .colab-df-convert {\n",
              "      background-color: #3B4455;\n",
              "      fill: #D2E3FC;\n",
              "    }\n",
              "\n",
              "    [theme=dark] .colab-df-convert:hover {\n",
              "      background-color: #434B5C;\n",
              "      box-shadow: 0px 1px 3px 1px rgba(0, 0, 0, 0.15);\n",
              "      filter: drop-shadow(0px 1px 2px rgba(0, 0, 0, 0.3));\n",
              "      fill: #FFFFFF;\n",
              "    }\n",
              "  </style>\n",
              "\n",
              "      <script>\n",
              "        const buttonEl =\n",
              "          document.querySelector('#df-025080cd-fc80-45b2-b956-b66c51b64bcb button.colab-df-convert');\n",
              "        buttonEl.style.display =\n",
              "          google.colab.kernel.accessAllowed ? 'block' : 'none';\n",
              "\n",
              "        async function convertToInteractive(key) {\n",
              "          const element = document.querySelector('#df-025080cd-fc80-45b2-b956-b66c51b64bcb');\n",
              "          const dataTable =\n",
              "            await google.colab.kernel.invokeFunction('convertToInteractive',\n",
              "                                                     [key], {});\n",
              "          if (!dataTable) return;\n",
              "\n",
              "          const docLinkHtml = 'Like what you see? Visit the ' +\n",
              "            '<a target=\"_blank\" href=https://colab.research.google.com/notebooks/data_table.ipynb>data table notebook</a>'\n",
              "            + ' to learn more about interactive tables.';\n",
              "          element.innerHTML = '';\n",
              "          dataTable['output_type'] = 'display_data';\n",
              "          await google.colab.output.renderOutput(dataTable, element);\n",
              "          const docLink = document.createElement('div');\n",
              "          docLink.innerHTML = docLinkHtml;\n",
              "          element.appendChild(docLink);\n",
              "        }\n",
              "      </script>\n",
              "    </div>\n",
              "  </div>\n",
              "  "
            ]
          },
          "metadata": {},
          "execution_count": 36
        }
      ]
    },
    {
      "cell_type": "code",
      "source": [],
      "metadata": {
        "id": "CRuHVXSGam1x"
      },
      "execution_count": 36,
      "outputs": []
    },
    {
      "cell_type": "code",
      "source": [
        "df_test = df_test.replace({\n",
        "    'High Framerate':0,\n",
        "    'Low Framerate':1,\n",
        "    'h264':0,\n",
        "    'vp8':1,\n",
        "    'mpeg4':2,\n",
        "    'flv':3,\n",
        "    'Medium':0,\n",
        "    'Fast':1,\n",
        "    'Slow':2\n",
        "})\n",
        "df_test.head()"
      ],
      "metadata": {
        "colab": {
          "base_uri": "https://localhost:8080/",
          "height": 206
        },
        "id": "lvJtn3pl9yeI",
        "outputId": "1dda28b2-ae29-4094-918d-fa209ae1a08b"
      },
      "execution_count": 37,
      "outputs": [
        {
          "output_type": "execute_result",
          "data": {
            "text/plain": [
              "     duration       width     height  frame_class        bitrate  \\\n",
              "0  256.200000  176.000000  178.83513          1.0   57565.000000   \n",
              "1   74.500000  176.000000  144.00000          1.0   -4297.975807   \n",
              "2  111.859249  122.888894  144.00000          1.0   53707.000000   \n",
              "3  282.600000  640.000000  421.68892          0.0  559834.000000   \n",
              "4   72.870627  320.000000  240.00000          0.0  272273.000000   \n",
              "\n",
              "   intracoded_frame  predicted_frame  total_frame  intracoded_size  \\\n",
              "0              56.0           3018.0  3079.455472     3.029000e+05   \n",
              "1              15.0            879.0   891.028412     2.087387e+04   \n",
              "2              37.0           2091.0  2128.000000     1.009690e+05   \n",
              "3             145.0           6920.0  7092.397212     4.966509e+06   \n",
              "4              23.0           1081.0  1104.000000     2.854889e+06   \n",
              "\n",
              "   predicted_size    total_size  codec  tc_width    tc_height  tc_frame_class  \\\n",
              "0    1.540700e+06  1.843600e+06    2.0    1920.0  1079.458161             0.0   \n",
              "1    4.912760e+05  5.152720e+05    2.0     176.0   144.000000             0.0   \n",
              "2    1.089548e+06  1.190517e+06    2.0     480.0   360.000000             1.0   \n",
              "3    2.279646e+07  2.776532e+07    0.0    1920.0  1079.454221             0.0   \n",
              "4    1.354404e+06  4.212063e+06    NaN     480.0   360.000000             0.0   \n",
              "\n",
              "   tc_bitrate  \n",
              "0    539000.0  \n",
              "1    820000.0  \n",
              "2   3000000.0  \n",
              "3    820000.0  \n",
              "4    539000.0  "
            ],
            "text/html": [
              "\n",
              "  <div id=\"df-32934c14-25ea-49d5-9b4e-46ab12cc1021\">\n",
              "    <div class=\"colab-df-container\">\n",
              "      <div>\n",
              "<style scoped>\n",
              "    .dataframe tbody tr th:only-of-type {\n",
              "        vertical-align: middle;\n",
              "    }\n",
              "\n",
              "    .dataframe tbody tr th {\n",
              "        vertical-align: top;\n",
              "    }\n",
              "\n",
              "    .dataframe thead th {\n",
              "        text-align: right;\n",
              "    }\n",
              "</style>\n",
              "<table border=\"1\" class=\"dataframe\">\n",
              "  <thead>\n",
              "    <tr style=\"text-align: right;\">\n",
              "      <th></th>\n",
              "      <th>duration</th>\n",
              "      <th>width</th>\n",
              "      <th>height</th>\n",
              "      <th>frame_class</th>\n",
              "      <th>bitrate</th>\n",
              "      <th>intracoded_frame</th>\n",
              "      <th>predicted_frame</th>\n",
              "      <th>total_frame</th>\n",
              "      <th>intracoded_size</th>\n",
              "      <th>predicted_size</th>\n",
              "      <th>total_size</th>\n",
              "      <th>codec</th>\n",
              "      <th>tc_width</th>\n",
              "      <th>tc_height</th>\n",
              "      <th>tc_frame_class</th>\n",
              "      <th>tc_bitrate</th>\n",
              "    </tr>\n",
              "  </thead>\n",
              "  <tbody>\n",
              "    <tr>\n",
              "      <th>0</th>\n",
              "      <td>256.200000</td>\n",
              "      <td>176.000000</td>\n",
              "      <td>178.83513</td>\n",
              "      <td>1.0</td>\n",
              "      <td>57565.000000</td>\n",
              "      <td>56.0</td>\n",
              "      <td>3018.0</td>\n",
              "      <td>3079.455472</td>\n",
              "      <td>3.029000e+05</td>\n",
              "      <td>1.540700e+06</td>\n",
              "      <td>1.843600e+06</td>\n",
              "      <td>2.0</td>\n",
              "      <td>1920.0</td>\n",
              "      <td>1079.458161</td>\n",
              "      <td>0.0</td>\n",
              "      <td>539000.0</td>\n",
              "    </tr>\n",
              "    <tr>\n",
              "      <th>1</th>\n",
              "      <td>74.500000</td>\n",
              "      <td>176.000000</td>\n",
              "      <td>144.00000</td>\n",
              "      <td>1.0</td>\n",
              "      <td>-4297.975807</td>\n",
              "      <td>15.0</td>\n",
              "      <td>879.0</td>\n",
              "      <td>891.028412</td>\n",
              "      <td>2.087387e+04</td>\n",
              "      <td>4.912760e+05</td>\n",
              "      <td>5.152720e+05</td>\n",
              "      <td>2.0</td>\n",
              "      <td>176.0</td>\n",
              "      <td>144.000000</td>\n",
              "      <td>0.0</td>\n",
              "      <td>820000.0</td>\n",
              "    </tr>\n",
              "    <tr>\n",
              "      <th>2</th>\n",
              "      <td>111.859249</td>\n",
              "      <td>122.888894</td>\n",
              "      <td>144.00000</td>\n",
              "      <td>1.0</td>\n",
              "      <td>53707.000000</td>\n",
              "      <td>37.0</td>\n",
              "      <td>2091.0</td>\n",
              "      <td>2128.000000</td>\n",
              "      <td>1.009690e+05</td>\n",
              "      <td>1.089548e+06</td>\n",
              "      <td>1.190517e+06</td>\n",
              "      <td>2.0</td>\n",
              "      <td>480.0</td>\n",
              "      <td>360.000000</td>\n",
              "      <td>1.0</td>\n",
              "      <td>3000000.0</td>\n",
              "    </tr>\n",
              "    <tr>\n",
              "      <th>3</th>\n",
              "      <td>282.600000</td>\n",
              "      <td>640.000000</td>\n",
              "      <td>421.68892</td>\n",
              "      <td>0.0</td>\n",
              "      <td>559834.000000</td>\n",
              "      <td>145.0</td>\n",
              "      <td>6920.0</td>\n",
              "      <td>7092.397212</td>\n",
              "      <td>4.966509e+06</td>\n",
              "      <td>2.279646e+07</td>\n",
              "      <td>2.776532e+07</td>\n",
              "      <td>0.0</td>\n",
              "      <td>1920.0</td>\n",
              "      <td>1079.454221</td>\n",
              "      <td>0.0</td>\n",
              "      <td>820000.0</td>\n",
              "    </tr>\n",
              "    <tr>\n",
              "      <th>4</th>\n",
              "      <td>72.870627</td>\n",
              "      <td>320.000000</td>\n",
              "      <td>240.00000</td>\n",
              "      <td>0.0</td>\n",
              "      <td>272273.000000</td>\n",
              "      <td>23.0</td>\n",
              "      <td>1081.0</td>\n",
              "      <td>1104.000000</td>\n",
              "      <td>2.854889e+06</td>\n",
              "      <td>1.354404e+06</td>\n",
              "      <td>4.212063e+06</td>\n",
              "      <td>NaN</td>\n",
              "      <td>480.0</td>\n",
              "      <td>360.000000</td>\n",
              "      <td>0.0</td>\n",
              "      <td>539000.0</td>\n",
              "    </tr>\n",
              "  </tbody>\n",
              "</table>\n",
              "</div>\n",
              "      <button class=\"colab-df-convert\" onclick=\"convertToInteractive('df-32934c14-25ea-49d5-9b4e-46ab12cc1021')\"\n",
              "              title=\"Convert this dataframe to an interactive table.\"\n",
              "              style=\"display:none;\">\n",
              "        \n",
              "  <svg xmlns=\"http://www.w3.org/2000/svg\" height=\"24px\"viewBox=\"0 0 24 24\"\n",
              "       width=\"24px\">\n",
              "    <path d=\"M0 0h24v24H0V0z\" fill=\"none\"/>\n",
              "    <path d=\"M18.56 5.44l.94 2.06.94-2.06 2.06-.94-2.06-.94-.94-2.06-.94 2.06-2.06.94zm-11 1L8.5 8.5l.94-2.06 2.06-.94-2.06-.94L8.5 2.5l-.94 2.06-2.06.94zm10 10l.94 2.06.94-2.06 2.06-.94-2.06-.94-.94-2.06-.94 2.06-2.06.94z\"/><path d=\"M17.41 7.96l-1.37-1.37c-.4-.4-.92-.59-1.43-.59-.52 0-1.04.2-1.43.59L10.3 9.45l-7.72 7.72c-.78.78-.78 2.05 0 2.83L4 21.41c.39.39.9.59 1.41.59.51 0 1.02-.2 1.41-.59l7.78-7.78 2.81-2.81c.8-.78.8-2.07 0-2.86zM5.41 20L4 18.59l7.72-7.72 1.47 1.35L5.41 20z\"/>\n",
              "  </svg>\n",
              "      </button>\n",
              "      \n",
              "  <style>\n",
              "    .colab-df-container {\n",
              "      display:flex;\n",
              "      flex-wrap:wrap;\n",
              "      gap: 12px;\n",
              "    }\n",
              "\n",
              "    .colab-df-convert {\n",
              "      background-color: #E8F0FE;\n",
              "      border: none;\n",
              "      border-radius: 50%;\n",
              "      cursor: pointer;\n",
              "      display: none;\n",
              "      fill: #1967D2;\n",
              "      height: 32px;\n",
              "      padding: 0 0 0 0;\n",
              "      width: 32px;\n",
              "    }\n",
              "\n",
              "    .colab-df-convert:hover {\n",
              "      background-color: #E2EBFA;\n",
              "      box-shadow: 0px 1px 2px rgba(60, 64, 67, 0.3), 0px 1px 3px 1px rgba(60, 64, 67, 0.15);\n",
              "      fill: #174EA6;\n",
              "    }\n",
              "\n",
              "    [theme=dark] .colab-df-convert {\n",
              "      background-color: #3B4455;\n",
              "      fill: #D2E3FC;\n",
              "    }\n",
              "\n",
              "    [theme=dark] .colab-df-convert:hover {\n",
              "      background-color: #434B5C;\n",
              "      box-shadow: 0px 1px 3px 1px rgba(0, 0, 0, 0.15);\n",
              "      filter: drop-shadow(0px 1px 2px rgba(0, 0, 0, 0.3));\n",
              "      fill: #FFFFFF;\n",
              "    }\n",
              "  </style>\n",
              "\n",
              "      <script>\n",
              "        const buttonEl =\n",
              "          document.querySelector('#df-32934c14-25ea-49d5-9b4e-46ab12cc1021 button.colab-df-convert');\n",
              "        buttonEl.style.display =\n",
              "          google.colab.kernel.accessAllowed ? 'block' : 'none';\n",
              "\n",
              "        async function convertToInteractive(key) {\n",
              "          const element = document.querySelector('#df-32934c14-25ea-49d5-9b4e-46ab12cc1021');\n",
              "          const dataTable =\n",
              "            await google.colab.kernel.invokeFunction('convertToInteractive',\n",
              "                                                     [key], {});\n",
              "          if (!dataTable) return;\n",
              "\n",
              "          const docLinkHtml = 'Like what you see? Visit the ' +\n",
              "            '<a target=\"_blank\" href=https://colab.research.google.com/notebooks/data_table.ipynb>data table notebook</a>'\n",
              "            + ' to learn more about interactive tables.';\n",
              "          element.innerHTML = '';\n",
              "          dataTable['output_type'] = 'display_data';\n",
              "          await google.colab.output.renderOutput(dataTable, element);\n",
              "          const docLink = document.createElement('div');\n",
              "          docLink.innerHTML = docLinkHtml;\n",
              "          element.appendChild(docLink);\n",
              "        }\n",
              "      </script>\n",
              "    </div>\n",
              "  </div>\n",
              "  "
            ]
          },
          "metadata": {},
          "execution_count": 37
        }
      ]
    },
    {
      "cell_type": "code",
      "source": [
        "for kolom in df.columns:\n",
        "  if kolom not in numerik:\n",
        "    print(df[kolom].value_counts(),'\\n')"
      ],
      "metadata": {
        "colab": {
          "base_uri": "https://localhost:8080/"
        },
        "id": "ftpT4pUrnne6",
        "outputId": "d91f80f6-0e76-4756-a4dc-beccba9a3a05"
      },
      "execution_count": 38,
      "outputs": [
        {
          "output_type": "stream",
          "name": "stdout",
          "text": [
            "0.0    23286\n",
            "1.0     7803\n",
            "Name: frame_class, dtype: int64 \n",
            "\n",
            "0.0    14835\n",
            "1.0     8551\n",
            "2.0     4735\n",
            "3.0     3136\n",
            "Name: codec, dtype: int64 \n",
            "\n",
            "0.0    18575\n",
            "1.0    12510\n",
            "Name: tc_frame_class, dtype: int64 \n",
            "\n",
            "0    19152\n",
            "2     9504\n",
            "1     9299\n",
            "Name: label, dtype: int64 \n",
            "\n"
          ]
        }
      ]
    },
    {
      "cell_type": "code",
      "source": [
        "nominal"
      ],
      "metadata": {
        "colab": {
          "base_uri": "https://localhost:8080/"
        },
        "id": "BXKGly29vZSH",
        "outputId": "8ef53b77-8968-4c50-de94-da2aa2410a80"
      },
      "execution_count": 39,
      "outputs": [
        {
          "output_type": "execute_result",
          "data": {
            "text/plain": [
              "['frame_class', 'codec', 'tc_frame_class']"
            ]
          },
          "metadata": {},
          "execution_count": 39
        }
      ]
    },
    {
      "cell_type": "code",
      "source": [
        "feature = 'frame_class'\n",
        "temp_df = df.dropna()\n",
        "X = temp_df.drop(columns=[feature])\n",
        "y = temp_df[feature]\n",
        "bestfeatures = SelectKBest(score_func=chi2, k=10)\n",
        "fit = bestfeatures.fit(X,y)\n",
        "dfscores = pd.DataFrame(fit.scores_)\n",
        "dfcolumns = pd.DataFrame(X.columns)\n",
        "# menggabungkan 2 dataframe\n",
        "featureScores = pd.concat([dfcolumns,dfscores],axis=1)\n",
        "featureScores.columns = ['Specs','Score']  #naming the dataframe columns\n",
        "print(featureScores.nlargest(10,'Score'))  #print semua best features"
      ],
      "metadata": {
        "colab": {
          "base_uri": "https://localhost:8080/"
        },
        "id": "PVAvXYZophRH",
        "outputId": "47a0c67c-c4e5-4453-ea2a-3c774147a201"
      },
      "execution_count": 40,
      "outputs": [
        {
          "output_type": "stream",
          "name": "stdout",
          "text": [
            "               Specs         Score\n",
            "9         total_size  9.228808e+10\n",
            "8     predicted_size  8.010677e+10\n",
            "7    intracoded_size  1.226000e+10\n",
            "3            bitrate  2.375870e+09\n",
            "6        total_frame  9.515443e+06\n",
            "5    predicted_frame  9.408261e+06\n",
            "14        tc_bitrate  3.138417e+06\n",
            "1              width  1.143332e+06\n",
            "2             height  5.826193e+05\n",
            "4   intracoded_frame  8.051819e+04\n"
          ]
        }
      ]
    },
    {
      "cell_type": "code",
      "source": [
        "df = missing_value_fixing(df,'frame_class','total_size','predicted_size',KNeighborsClassifier(21),'modus')"
      ],
      "metadata": {
        "id": "OKL4IwQjyCcJ"
      },
      "execution_count": 41,
      "outputs": []
    },
    {
      "cell_type": "code",
      "source": [
        "df_test = missing_value_fixing(df_test,'frame_class','total_size','predicted_size',KNeighborsClassifier(21),'modus')"
      ],
      "metadata": {
        "id": "CSkJBqrV6aul"
      },
      "execution_count": 42,
      "outputs": []
    },
    {
      "cell_type": "code",
      "source": [
        "feature = 'tc_frame_class'\n",
        "temp_df = df.dropna()\n",
        "X = temp_df.drop(columns=[feature])\n",
        "y = temp_df[feature]\n",
        "bestfeatures = SelectKBest(score_func=chi2, k=10)\n",
        "fit = bestfeatures.fit(X,y)\n",
        "dfscores = pd.DataFrame(fit.scores_)\n",
        "dfcolumns = pd.DataFrame(X.columns)\n",
        "# menggabungkan 2 dataframe\n",
        "featureScores = pd.concat([dfcolumns,dfscores],axis=1)\n",
        "featureScores.columns = ['Specs','Score']  #naming the dataframe columns\n",
        "print(featureScores.nlargest(10,'Score'))  #print semua best features"
      ],
      "metadata": {
        "colab": {
          "base_uri": "https://localhost:8080/"
        },
        "id": "l2Px2szBvso4",
        "outputId": "083a835f-abcf-4164-d647-60be9b7f80f6"
      },
      "execution_count": 43,
      "outputs": [
        {
          "output_type": "stream",
          "name": "stdout",
          "text": [
            "              Specs         Score\n",
            "10       total_size  1.022871e+06\n",
            "9    predicted_size  9.731055e+05\n",
            "14       tc_bitrate  1.948757e+05\n",
            "4           bitrate  5.652908e+04\n",
            "8   intracoded_size  4.693150e+04\n",
            "7       total_frame  8.271254e+02\n",
            "6   predicted_frame  7.585915e+02\n",
            "0          duration  3.337174e+02\n",
            "12         tc_width  1.049445e+02\n",
            "15            label  8.730281e+01\n"
          ]
        }
      ]
    },
    {
      "cell_type": "code",
      "source": [
        "df = missing_value_fixing(df,'tc_frame_class','predicted_size','total_size',KNeighborsClassifier(21),'modus')"
      ],
      "metadata": {
        "id": "NcEktJJV1AGZ"
      },
      "execution_count": 44,
      "outputs": []
    },
    {
      "cell_type": "code",
      "source": [
        "df_test = missing_value_fixing(df_test,'tc_frame_class','predicted_size','total_size',KNeighborsClassifier(21),'modus')"
      ],
      "metadata": {
        "id": "kxGQS41i6e_E"
      },
      "execution_count": 45,
      "outputs": []
    },
    {
      "cell_type": "code",
      "source": [
        "feature = 'codec'\n",
        "temp_df = df.dropna()\n",
        "X = temp_df.drop(columns=[feature])\n",
        "y = temp_df[feature]\n",
        "bestfeatures = SelectKBest(score_func=chi2, k=10)\n",
        "fit = bestfeatures.fit(X,y)\n",
        "dfscores = pd.DataFrame(fit.scores_)\n",
        "dfcolumns = pd.DataFrame(X.columns)\n",
        "# menggabungkan 2 dataframe\n",
        "featureScores = pd.concat([dfcolumns,dfscores],axis=1)\n",
        "featureScores.columns = ['Specs','Score']  #naming the dataframe columns\n",
        "print(featureScores.nlargest(10,'Score'))  #print semua best features"
      ],
      "metadata": {
        "colab": {
          "base_uri": "https://localhost:8080/"
        },
        "id": "UxXWw-73xRC5",
        "outputId": "91333494-4dc1-47c6-b899-caae72c6c5a8"
      },
      "execution_count": 46,
      "outputs": [
        {
          "output_type": "stream",
          "name": "stdout",
          "text": [
            "              Specs         Score\n",
            "10       total_size  3.493390e+11\n",
            "9    predicted_size  3.341361e+11\n",
            "8   intracoded_size  2.367209e+10\n",
            "4           bitrate  4.738821e+09\n",
            "6   predicted_frame  2.135717e+07\n",
            "7       total_frame  2.097211e+07\n",
            "1             width  2.705649e+06\n",
            "2            height  1.348952e+06\n",
            "0          duration  5.558457e+05\n",
            "14       tc_bitrate  3.608051e+05\n"
          ]
        }
      ]
    },
    {
      "cell_type": "code",
      "source": [
        "df = missing_value_fixing(df,'codec','predicted_size','total_size',KNeighborsClassifier(21),'modus')"
      ],
      "metadata": {
        "id": "F5gzlz-_1HFl"
      },
      "execution_count": 47,
      "outputs": []
    },
    {
      "cell_type": "code",
      "source": [
        "df_test = missing_value_fixing(df_test,'codec','predicted_size','total_size',KNeighborsClassifier(21),'modus')"
      ],
      "metadata": {
        "id": "IRvlAHfa6h47"
      },
      "execution_count": 48,
      "outputs": []
    },
    {
      "cell_type": "code",
      "source": [
        "df.isna().sum()"
      ],
      "metadata": {
        "colab": {
          "base_uri": "https://localhost:8080/"
        },
        "id": "_mYKAesJx3pR",
        "outputId": "d6a2e82b-83fa-4aeb-e2e3-2830b05c7913"
      },
      "execution_count": 49,
      "outputs": [
        {
          "output_type": "execute_result",
          "data": {
            "text/plain": [
              "duration            0\n",
              "width               0\n",
              "height              0\n",
              "frame_class         0\n",
              "bitrate             0\n",
              "intracoded_frame    0\n",
              "predicted_frame     0\n",
              "total_frame         0\n",
              "intracoded_size     0\n",
              "predicted_size      0\n",
              "total_size          0\n",
              "codec               0\n",
              "tc_width            0\n",
              "tc_height           0\n",
              "tc_frame_class      0\n",
              "tc_bitrate          0\n",
              "label               0\n",
              "dtype: int64"
            ]
          },
          "metadata": {},
          "execution_count": 49
        }
      ]
    },
    {
      "cell_type": "code",
      "source": [
        "df_test.isna().sum()"
      ],
      "metadata": {
        "colab": {
          "base_uri": "https://localhost:8080/"
        },
        "id": "vHzbXMgc6l5P",
        "outputId": "bec18b7c-21b5-4851-b14c-8b8b3f09c29c"
      },
      "execution_count": 50,
      "outputs": [
        {
          "output_type": "execute_result",
          "data": {
            "text/plain": [
              "duration               0\n",
              "width                  0\n",
              "height                 0\n",
              "frame_class            0\n",
              "bitrate                0\n",
              "intracoded_frame       0\n",
              "predicted_frame        0\n",
              "total_frame            0\n",
              "intracoded_size        0\n",
              "predicted_size         0\n",
              "total_size             0\n",
              "codec                  0\n",
              "tc_width               0\n",
              "tc_height              0\n",
              "tc_frame_class         0\n",
              "tc_bitrate          4104\n",
              "dtype: int64"
            ]
          },
          "metadata": {},
          "execution_count": 50
        }
      ]
    },
    {
      "cell_type": "code",
      "source": [
        "df['label'][13]"
      ],
      "metadata": {
        "colab": {
          "base_uri": "https://localhost:8080/"
        },
        "id": "JOxEJfqRavnm",
        "outputId": "424b2a7c-bc46-4a19-dd27-972713311c95"
      },
      "execution_count": 51,
      "outputs": [
        {
          "output_type": "execute_result",
          "data": {
            "text/plain": [
              "2"
            ]
          },
          "metadata": {},
          "execution_count": 51
        }
      ]
    },
    {
      "cell_type": "markdown",
      "source": [
        "# outlier"
      ],
      "metadata": {
        "id": "kxnmS-7k1vKO"
      }
    },
    {
      "cell_type": "code",
      "source": [
        "for kolom in numerik:\n",
        "  plt.figure()\n",
        "  sns.boxplot(df[kolom])\n",
        "plt.show()"
      ],
      "metadata": {
        "colab": {
          "base_uri": "https://localhost:8080/",
          "height": 1000
        },
        "id": "omIsu0XY1Qzi",
        "outputId": "fdca7cbb-895e-4009-e874-fe9ff7c335ae"
      },
      "execution_count": 52,
      "outputs": [
        {
          "output_type": "display_data",
          "data": {
            "text/plain": [
              "<Figure size 432x288 with 1 Axes>"
            ],
            "image/png": "[encoded data removed]"
          },
          "metadata": {
            "needs_background": "light"
          }
        },
        {
          "output_type": "display_data",
          "data": {
            "text/plain": [
              "<Figure size 432x288 with 1 Axes>"
            ],
            "image/png": "[encoded data removed]"
          },
          "metadata": {
            "needs_background": "light"
          }
        },
        {
          "output_type": "display_data",
          "data": {
            "text/plain": [
              "<Figure size 432x288 with 1 Axes>"
            ],
            "image/png": "[encoded data removed]"
          },
          "metadata": {
            "needs_background": "light"
          }
        },
        {
          "output_type": "display_data",
          "data": {
            "text/plain": [
              "<Figure size 432x288 with 1 Axes>"
            ],
            "image/png": "[encoded data removed]"
          },
          "metadata": {
            "needs_background": "light"
          }
        },
        {
          "output_type": "display_data",
          "data": {
            "text/plain": [
              "<Figure size 432x288 with 1 Axes>"
            ],
            "image/png": "[encoded data removed]"
          },
          "metadata": {
            "needs_background": "light"
          }
        },
        {
          "output_type": "display_data",
          "data": {
            "text/plain": [
              "<Figure size 432x288 with 1 Axes>"
            ],
            "image/png": "[encoded data removed]"
          },
          "metadata": {
            "needs_background": "light"
          }
        },
        {
          "output_type": "display_data",
          "data": {
            "text/plain": [
              "<Figure size 432x288 with 1 Axes>"
            ],
            "image/png": "[encoded data removed]"
          },
          "metadata": {
            "needs_background": "light"
          }
        },
        {
          "output_type": "display_data",
          "data": {
            "text/plain": [
              "<Figure size 432x288 with 1 Axes>"
            ],
            "image/png": "[encoded data removed]"
          },
          "metadata": {
            "needs_background": "light"
          }
        },
        {
          "output_type": "display_data",
          "data": {
            "text/plain": [
              "<Figure size 432x288 with 1 Axes>"
            ],
            "image/png": "[encoded data removed]"
          },
          "metadata": {
            "needs_background": "light"
          }
        },
        {
          "output_type": "display_data",
          "data": {
            "text/plain": [
              "<Figure size 432x288 with 1 Axes>"
            ],
            "image/png": "[encoded data removed]"
          },
          "metadata": {
            "needs_background": "light"
          }
        },
        {
          "output_type": "display_data",
          "data": {
            "text/plain": [
              "<Figure size 432x288 with 1 Axes>"
            ],
            "image/png": "[encoded data removed]"
          },
          "metadata": {
            "needs_background": "light"
          }
        },
        {
          "output_type": "display_data",
          "data": {
            "text/plain": [
              "<Figure size 432x288 with 1 Axes>"
            ],
            "image/png": "[encoded data removed]"
          },
          "metadata": {
            "needs_background": "light"
          }
        },
        {
          "output_type": "display_data",
          "data": {
            "text/plain": [
              "<Figure size 432x288 with 1 Axes>"
            ],
            "image/png": "[encoded data removed]"
          },
          "metadata": {
            "needs_background": "light"
          }
        }
      ]
    },
    {
      "cell_type": "code",
      "source": [
        "for kolom in numerik:\n",
        "  plt.figure()\n",
        "  sns.boxplot(df_test[kolom])\n",
        "plt.show()"
      ],
      "metadata": {
        "colab": {
          "base_uri": "https://localhost:8080/",
          "height": 1000
        },
        "id": "djqsTWYF1ati",
        "outputId": "7897e3d7-7de2-4b64-c642-27b7895b0f90"
      },
      "execution_count": 53,
      "outputs": [
        {
          "output_type": "display_data",
          "data": {
            "text/plain": [
              "<Figure size 432x288 with 1 Axes>"
            ],
            "image/png": "[encoded data removed]"
          },
          "metadata": {
            "needs_background": "light"
          }
        },
        {
          "output_type": "display_data",
          "data": {
            "text/plain": [
              "<Figure size 432x288 with 1 Axes>"
            ],
            "image/png": "[encoded data removed]"
          },
          "metadata": {
            "needs_background": "light"
          }
        },
        {
          "output_type": "display_data",
          "data": {
            "text/plain": [
              "<Figure size 432x288 with 1 Axes>"
            ],
            "image/png": "[encoded data removed]"
          },
          "metadata": {
            "needs_background": "light"
          }
        },
        {
          "output_type": "display_data",
          "data": {
            "text/plain": [
              "<Figure size 432x288 with 1 Axes>"
            ],
            "image/png": "[encoded data removed]"
          },
          "metadata": {
            "needs_background": "light"
          }
        },
        {
          "output_type": "display_data",
          "data": {
            "text/plain": [
              "<Figure size 432x288 with 1 Axes>"
            ],
            "image/png": "[encoded data removed]"
          },
          "metadata": {
            "needs_background": "light"
          }
        },
        {
          "output_type": "display_data",
          "data": {
            "text/plain": [
              "<Figure size 432x288 with 1 Axes>"
            ],
            "image/png": "[encoded data removed]"
          },
          "metadata": {
            "needs_background": "light"
          }
        },
        {
          "output_type": "display_data",
          "data": {
            "text/plain": [
              "<Figure size 432x288 with 1 Axes>"
            ],
            "image/png": "[encoded data removed]"
          },
          "metadata": {
            "needs_background": "light"
          }
        },
        {
          "output_type": "display_data",
          "data": {
            "text/plain": [
              "<Figure size 432x288 with 1 Axes>"
            ],
            "image/png": "[encoded data removed]"
          },
          "metadata": {
            "needs_background": "light"
          }
        },
        {
          "output_type": "display_data",
          "data": {
            "text/plain": [
              "<Figure size 432x288 with 1 Axes>"
            ],
            "image/png": "[encoded data removed]"
          },
          "metadata": {
            "needs_background": "light"
          }
        },
        {
          "output_type": "display_data",
          "data": {
            "text/plain": [
              "<Figure size 432x288 with 1 Axes>"
            ],
            "image/png": "[encoded data removed]"
          },
          "metadata": {
            "needs_background": "light"
          }
        },
        {
          "output_type": "display_data",
          "data": {
            "text/plain": [
              "<Figure size 432x288 with 1 Axes>"
            ],
            "image/png": "[encoded data removed]"
          },
          "metadata": {
            "needs_background": "light"
          }
        },
        {
          "output_type": "display_data",
          "data": {
            "text/plain": [
              "<Figure size 432x288 with 1 Axes>"
            ],
            "image/png": "[encoded data removed]"
          },
          "metadata": {
            "needs_background": "light"
          }
        },
        {
          "output_type": "display_data",
          "data": {
            "text/plain": [
              "<Figure size 432x288 with 1 Axes>"
            ],
            "image/png": "[encoded data removed]"
          },
          "metadata": {
            "needs_background": "light"
          }
        }
      ]
    },
    {
      "cell_type": "markdown",
      "source": [],
      "metadata": {
        "id": "4eHm86-M1xXU"
      }
    },
    {
      "cell_type": "code",
      "source": [
        "df"
      ],
      "metadata": {
        "colab": {
          "base_uri": "https://localhost:8080/",
          "height": 468
        },
        "id": "NB93xzcC1fVS",
        "outputId": "fb4261c7-0231-4cee-fc8e-3c43b22efd4f"
      },
      "execution_count": 54,
      "outputs": [
        {
          "output_type": "execute_result",
          "data": {
            "text/plain": [
              "          duration        width      height  frame_class       bitrate  \\\n",
              "0       282.600000   640.000000  480.000000          0.0  4.846436e+05   \n",
              "1       339.700000   640.000000  480.000000          0.0  4.846436e+05   \n",
              "2       239.100000   480.000000  360.000000          0.0  5.001980e+05   \n",
              "3       714.400000  1280.000000  720.000000          0.0  6.523560e+05   \n",
              "4       645.800000   320.000000  240.000000          0.0  9.590300e+04   \n",
              "...            ...          ...         ...          ...           ...   \n",
              "37950    77.200000   480.000000  360.000000          0.0  3.824610e+05   \n",
              "37951   384.500000   746.104755  480.000000          0.0  6.464320e+05   \n",
              "37952  1321.485538  1280.000000  720.000000          0.0  2.394626e+06   \n",
              "37953   473.000000   625.350523  413.148173          0.0  6.933816e+05   \n",
              "37954    77.200000   480.000000  360.000000          0.0  3.824610e+05   \n",
              "\n",
              "       intracoded_frame  predicted_frame   total_frame  intracoded_size  \\\n",
              "0            112.048545      6920.000000   7065.000000     4.963097e+06   \n",
              "1            181.000000     10010.000000  10191.000000     2.837791e+06   \n",
              "2            100.649325      5868.000000   5980.220086     1.406751e+06   \n",
              "3            143.000000      6507.193859   6675.882193     1.453253e+07   \n",
              "4            138.000000     16008.000000  16146.000000     1.077641e+06   \n",
              "...                 ...              ...           ...              ...   \n",
              "37950         53.000000      2265.000000   2318.000000     1.822970e+05   \n",
              "37951        205.000000     11318.000000  11523.000000     2.839955e+06   \n",
              "37952        328.000000     33880.000000  34208.000000     2.047893e+07   \n",
              "37953        100.649325     11730.988873  11826.000000     1.419320e+06   \n",
              "37954         50.768860      2265.000000   2318.000000     1.822970e+05   \n",
              "\n",
              "       predicted_size    total_size  codec     tc_width    tc_height  \\\n",
              "0        1.480684e+07  1.977335e+07    0.0   526.102499   360.000000   \n",
              "1        8.202610e+05  3.661565e+06    2.0  1920.000000  1079.551622   \n",
              "2        1.354553e+07  1.495228e+07    0.0   640.000000   480.000000   \n",
              "3        4.372052e+07  5.825305e+07    1.0  1280.000000   720.000000   \n",
              "4        6.660941e+06  7.742262e+06    1.0   320.000000   240.000000   \n",
              "...               ...           ...    ...          ...          ...   \n",
              "37950    3.510033e+06  3.692330e+06    0.0   176.000000   144.000000   \n",
              "37951    2.822192e+07  3.106520e+07    0.0   110.710454   144.000000   \n",
              "37952    3.208599e+08  3.413388e+08    1.0   320.000000   240.000000   \n",
              "37953    8.047423e+06  9.697521e+06    0.0  1280.000000   720.000000   \n",
              "37954    3.510033e+06  3.696326e+06    0.0  1920.000000  1080.000000   \n",
              "\n",
              "       tc_frame_class  tc_bitrate  label  \n",
              "0                 1.0   3000000.0      1  \n",
              "1                 0.0    820000.0      2  \n",
              "2                 1.0    539000.0      0  \n",
              "3                 0.0   5000000.0      2  \n",
              "4                 0.0     56000.0      1  \n",
              "...               ...         ...    ...  \n",
              "37950             0.0    539000.0      0  \n",
              "37951             1.0   5000000.0      1  \n",
              "37952             1.0     56000.0      0  \n",
              "37953             0.0   5000000.0      0  \n",
              "37954             0.0    820000.0      2  \n",
              "\n",
              "[37955 rows x 17 columns]"
            ],
            "text/html": [
              "\n",
              "  <div id=\"df-059f7a95-7ba1-4dbc-adfb-3278b1255ab1\">\n",
              "    <div class=\"colab-df-container\">\n",
              "      <div>\n",
              "<style scoped>\n",
              "    .dataframe tbody tr th:only-of-type {\n",
              "        vertical-align: middle;\n",
              "    }\n",
              "\n",
              "    .dataframe tbody tr th {\n",
              "        vertical-align: top;\n",
              "    }\n",
              "\n",
              "    .dataframe thead th {\n",
              "        text-align: right;\n",
              "    }\n",
              "</style>\n",
              "<table border=\"1\" class=\"dataframe\">\n",
              "  <thead>\n",
              "    <tr style=\"text-align: right;\">\n",
              "      <th></th>\n",
              "      <th>duration</th>\n",
              "      <th>width</th>\n",
              "      <th>height</th>\n",
              "      <th>frame_class</th>\n",
              "      <th>bitrate</th>\n",
              "      <th>intracoded_frame</th>\n",
              "      <th>predicted_frame</th>\n",
              "      <th>total_frame</th>\n",
              "      <th>intracoded_size</th>\n",
              "      <th>predicted_size</th>\n",
              "      <th>total_size</th>\n",
              "      <th>codec</th>\n",
              "      <th>tc_width</th>\n",
              "      <th>tc_height</th>\n",
              "      <th>tc_frame_class</th>\n",
              "      <th>tc_bitrate</th>\n",
              "      <th>label</th>\n",
              "    </tr>\n",
              "  </thead>\n",
              "  <tbody>\n",
              "    <tr>\n",
              "      <th>0</th>\n",
              "      <td>282.600000</td>\n",
              "      <td>640.000000</td>\n",
              "      <td>480.000000</td>\n",
              "      <td>0.0</td>\n",
              "      <td>4.846436e+05</td>\n",
              "      <td>112.048545</td>\n",
              "      <td>6920.000000</td>\n",
              "      <td>7065.000000</td>\n",
              "      <td>4.963097e+06</td>\n",
              "      <td>1.480684e+07</td>\n",
              "      <td>1.977335e+07</td>\n",
              "      <td>0.0</td>\n",
              "      <td>526.102499</td>\n",
              "      <td>360.000000</td>\n",
              "      <td>1.0</td>\n",
              "      <td>3000000.0</td>\n",
              "      <td>1</td>\n",
              "    </tr>\n",
              "    <tr>\n",
              "      <th>1</th>\n",
              "      <td>339.700000</td>\n",
              "      <td>640.000000</td>\n",
              "      <td>480.000000</td>\n",
              "      <td>0.0</td>\n",
              "      <td>4.846436e+05</td>\n",
              "      <td>181.000000</td>\n",
              "      <td>10010.000000</td>\n",
              "      <td>10191.000000</td>\n",
              "      <td>2.837791e+06</td>\n",
              "      <td>8.202610e+05</td>\n",
              "      <td>3.661565e+06</td>\n",
              "      <td>2.0</td>\n",
              "      <td>1920.000000</td>\n",
              "      <td>1079.551622</td>\n",
              "      <td>0.0</td>\n",
              "      <td>820000.0</td>\n",
              "      <td>2</td>\n",
              "    </tr>\n",
              "    <tr>\n",
              "      <th>2</th>\n",
              "      <td>239.100000</td>\n",
              "      <td>480.000000</td>\n",
              "      <td>360.000000</td>\n",
              "      <td>0.0</td>\n",
              "      <td>5.001980e+05</td>\n",
              "      <td>100.649325</td>\n",
              "      <td>5868.000000</td>\n",
              "      <td>5980.220086</td>\n",
              "      <td>1.406751e+06</td>\n",
              "      <td>1.354553e+07</td>\n",
              "      <td>1.495228e+07</td>\n",
              "      <td>0.0</td>\n",
              "      <td>640.000000</td>\n",
              "      <td>480.000000</td>\n",
              "      <td>1.0</td>\n",
              "      <td>539000.0</td>\n",
              "      <td>0</td>\n",
              "    </tr>\n",
              "    <tr>\n",
              "      <th>3</th>\n",
              "      <td>714.400000</td>\n",
              "      <td>1280.000000</td>\n",
              "      <td>720.000000</td>\n",
              "      <td>0.0</td>\n",
              "      <td>6.523560e+05</td>\n",
              "      <td>143.000000</td>\n",
              "      <td>6507.193859</td>\n",
              "      <td>6675.882193</td>\n",
              "      <td>1.453253e+07</td>\n",
              "      <td>4.372052e+07</td>\n",
              "      <td>5.825305e+07</td>\n",
              "      <td>1.0</td>\n",
              "      <td>1280.000000</td>\n",
              "      <td>720.000000</td>\n",
              "      <td>0.0</td>\n",
              "      <td>5000000.0</td>\n",
              "      <td>2</td>\n",
              "    </tr>\n",
              "    <tr>\n",
              "      <th>4</th>\n",
              "      <td>645.800000</td>\n",
              "      <td>320.000000</td>\n",
              "      <td>240.000000</td>\n",
              "      <td>0.0</td>\n",
              "      <td>9.590300e+04</td>\n",
              "      <td>138.000000</td>\n",
              "      <td>16008.000000</td>\n",
              "      <td>16146.000000</td>\n",
              "      <td>1.077641e+06</td>\n",
              "      <td>6.660941e+06</td>\n",
              "      <td>7.742262e+06</td>\n",
              "      <td>1.0</td>\n",
              "      <td>320.000000</td>\n",
              "      <td>240.000000</td>\n",
              "      <td>0.0</td>\n",
              "      <td>56000.0</td>\n",
              "      <td>1</td>\n",
              "    </tr>\n",
              "    <tr>\n",
              "      <th>...</th>\n",
              "      <td>...</td>\n",
              "      <td>...</td>\n",
              "      <td>...</td>\n",
              "      <td>...</td>\n",
              "      <td>...</td>\n",
              "      <td>...</td>\n",
              "      <td>...</td>\n",
              "      <td>...</td>\n",
              "      <td>...</td>\n",
              "      <td>...</td>\n",
              "      <td>...</td>\n",
              "      <td>...</td>\n",
              "      <td>...</td>\n",
              "      <td>...</td>\n",
              "      <td>...</td>\n",
              "      <td>...</td>\n",
              "      <td>...</td>\n",
              "    </tr>\n",
              "    <tr>\n",
              "      <th>37950</th>\n",
              "      <td>77.200000</td>\n",
              "      <td>480.000000</td>\n",
              "      <td>360.000000</td>\n",
              "      <td>0.0</td>\n",
              "      <td>3.824610e+05</td>\n",
              "      <td>53.000000</td>\n",
              "      <td>2265.000000</td>\n",
              "      <td>2318.000000</td>\n",
              "      <td>1.822970e+05</td>\n",
              "      <td>3.510033e+06</td>\n",
              "      <td>3.692330e+06</td>\n",
              "      <td>0.0</td>\n",
              "      <td>176.000000</td>\n",
              "      <td>144.000000</td>\n",
              "      <td>0.0</td>\n",
              "      <td>539000.0</td>\n",
              "      <td>0</td>\n",
              "    </tr>\n",
              "    <tr>\n",
              "      <th>37951</th>\n",
              "      <td>384.500000</td>\n",
              "      <td>746.104755</td>\n",
              "      <td>480.000000</td>\n",
              "      <td>0.0</td>\n",
              "      <td>6.464320e+05</td>\n",
              "      <td>205.000000</td>\n",
              "      <td>11318.000000</td>\n",
              "      <td>11523.000000</td>\n",
              "      <td>2.839955e+06</td>\n",
              "      <td>2.822192e+07</td>\n",
              "      <td>3.106520e+07</td>\n",
              "      <td>0.0</td>\n",
              "      <td>110.710454</td>\n",
              "      <td>144.000000</td>\n",
              "      <td>1.0</td>\n",
              "      <td>5000000.0</td>\n",
              "      <td>1</td>\n",
              "    </tr>\n",
              "    <tr>\n",
              "      <th>37952</th>\n",
              "      <td>1321.485538</td>\n",
              "      <td>1280.000000</td>\n",
              "      <td>720.000000</td>\n",
              "      <td>0.0</td>\n",
              "      <td>2.394626e+06</td>\n",
              "      <td>328.000000</td>\n",
              "      <td>33880.000000</td>\n",
              "      <td>34208.000000</td>\n",
              "      <td>2.047893e+07</td>\n",
              "      <td>3.208599e+08</td>\n",
              "      <td>3.413388e+08</td>\n",
              "      <td>1.0</td>\n",
              "      <td>320.000000</td>\n",
              "      <td>240.000000</td>\n",
              "      <td>1.0</td>\n",
              "      <td>56000.0</td>\n",
              "      <td>0</td>\n",
              "    </tr>\n",
              "    <tr>\n",
              "      <th>37953</th>\n",
              "      <td>473.000000</td>\n",
              "      <td>625.350523</td>\n",
              "      <td>413.148173</td>\n",
              "      <td>0.0</td>\n",
              "      <td>6.933816e+05</td>\n",
              "      <td>100.649325</td>\n",
              "      <td>11730.988873</td>\n",
              "      <td>11826.000000</td>\n",
              "      <td>1.419320e+06</td>\n",
              "      <td>8.047423e+06</td>\n",
              "      <td>9.697521e+06</td>\n",
              "      <td>0.0</td>\n",
              "      <td>1280.000000</td>\n",
              "      <td>720.000000</td>\n",
              "      <td>0.0</td>\n",
              "      <td>5000000.0</td>\n",
              "      <td>0</td>\n",
              "    </tr>\n",
              "    <tr>\n",
              "      <th>37954</th>\n",
              "      <td>77.200000</td>\n",
              "      <td>480.000000</td>\n",
              "      <td>360.000000</td>\n",
              "      <td>0.0</td>\n",
              "      <td>3.824610e+05</td>\n",
              "      <td>50.768860</td>\n",
              "      <td>2265.000000</td>\n",
              "      <td>2318.000000</td>\n",
              "      <td>1.822970e+05</td>\n",
              "      <td>3.510033e+06</td>\n",
              "      <td>3.696326e+06</td>\n",
              "      <td>0.0</td>\n",
              "      <td>1920.000000</td>\n",
              "      <td>1080.000000</td>\n",
              "      <td>0.0</td>\n",
              "      <td>820000.0</td>\n",
              "      <td>2</td>\n",
              "    </tr>\n",
              "  </tbody>\n",
              "</table>\n",
              "<p>37955 rows × 17 columns</p>\n",
              "</div>\n",
              "      <button class=\"colab-df-convert\" onclick=\"convertToInteractive('df-059f7a95-7ba1-4dbc-adfb-3278b1255ab1')\"\n",
              "              title=\"Convert this dataframe to an interactive table.\"\n",
              "              style=\"display:none;\">\n",
              "        \n",
              "  <svg xmlns=\"http://www.w3.org/2000/svg\" height=\"24px\"viewBox=\"0 0 24 24\"\n",
              "       width=\"24px\">\n",
              "    <path d=\"M0 0h24v24H0V0z\" fill=\"none\"/>\n",
              "    <path d=\"M18.56 5.44l.94 2.06.94-2.06 2.06-.94-2.06-.94-.94-2.06-.94 2.06-2.06.94zm-11 1L8.5 8.5l.94-2.06 2.06-.94-2.06-.94L8.5 2.5l-.94 2.06-2.06.94zm10 10l.94 2.06.94-2.06 2.06-.94-2.06-.94-.94-2.06-.94 2.06-2.06.94z\"/><path d=\"M17.41 7.96l-1.37-1.37c-.4-.4-.92-.59-1.43-.59-.52 0-1.04.2-1.43.59L10.3 9.45l-7.72 7.72c-.78.78-.78 2.05 0 2.83L4 21.41c.39.39.9.59 1.41.59.51 0 1.02-.2 1.41-.59l7.78-7.78 2.81-2.81c.8-.78.8-2.07 0-2.86zM5.41 20L4 18.59l7.72-7.72 1.47 1.35L5.41 20z\"/>\n",
              "  </svg>\n",
              "      </button>\n",
              "      \n",
              "  <style>\n",
              "    .colab-df-container {\n",
              "      display:flex;\n",
              "      flex-wrap:wrap;\n",
              "      gap: 12px;\n",
              "    }\n",
              "\n",
              "    .colab-df-convert {\n",
              "      background-color: #E8F0FE;\n",
              "      border: none;\n",
              "      border-radius: 50%;\n",
              "      cursor: pointer;\n",
              "      display: none;\n",
              "      fill: #1967D2;\n",
              "      height: 32px;\n",
              "      padding: 0 0 0 0;\n",
              "      width: 32px;\n",
              "    }\n",
              "\n",
              "    .colab-df-convert:hover {\n",
              "      background-color: #E2EBFA;\n",
              "      box-shadow: 0px 1px 2px rgba(60, 64, 67, 0.3), 0px 1px 3px 1px rgba(60, 64, 67, 0.15);\n",
              "      fill: #174EA6;\n",
              "    }\n",
              "\n",
              "    [theme=dark] .colab-df-convert {\n",
              "      background-color: #3B4455;\n",
              "      fill: #D2E3FC;\n",
              "    }\n",
              "\n",
              "    [theme=dark] .colab-df-convert:hover {\n",
              "      background-color: #434B5C;\n",
              "      box-shadow: 0px 1px 3px 1px rgba(0, 0, 0, 0.15);\n",
              "      filter: drop-shadow(0px 1px 2px rgba(0, 0, 0, 0.3));\n",
              "      fill: #FFFFFF;\n",
              "    }\n",
              "  </style>\n",
              "\n",
              "      <script>\n",
              "        const buttonEl =\n",
              "          document.querySelector('#df-059f7a95-7ba1-4dbc-adfb-3278b1255ab1 button.colab-df-convert');\n",
              "        buttonEl.style.display =\n",
              "          google.colab.kernel.accessAllowed ? 'block' : 'none';\n",
              "\n",
              "        async function convertToInteractive(key) {\n",
              "          const element = document.querySelector('#df-059f7a95-7ba1-4dbc-adfb-3278b1255ab1');\n",
              "          const dataTable =\n",
              "            await google.colab.kernel.invokeFunction('convertToInteractive',\n",
              "                                                     [key], {});\n",
              "          if (!dataTable) return;\n",
              "\n",
              "          const docLinkHtml = 'Like what you see? Visit the ' +\n",
              "            '<a target=\"_blank\" href=https://colab.research.google.com/notebooks/data_table.ipynb>data table notebook</a>'\n",
              "            + ' to learn more about interactive tables.';\n",
              "          element.innerHTML = '';\n",
              "          dataTable['output_type'] = 'display_data';\n",
              "          await google.colab.output.renderOutput(dataTable, element);\n",
              "          const docLink = document.createElement('div');\n",
              "          docLink.innerHTML = docLinkHtml;\n",
              "          element.appendChild(docLink);\n",
              "        }\n",
              "      </script>\n",
              "    </div>\n",
              "  </div>\n",
              "  "
            ]
          },
          "metadata": {},
          "execution_count": 54
        }
      ]
    },
    {
      "cell_type": "code",
      "source": [
        "feature = 'label'\n",
        "temp_df = df.dropna()\n",
        "X = temp_df.drop(columns=[feature])\n",
        "y = temp_df[feature]\n",
        "bestfeatures = SelectKBest(score_func=chi2, k=10)\n",
        "fit = bestfeatures.fit(X,y)\n",
        "dfscores = pd.DataFrame(fit.scores_)\n",
        "dfcolumns = pd.DataFrame(X.columns)\n",
        "# menggabungkan 2 dataframe\n",
        "featureScores = pd.concat([dfcolumns,dfscores],axis=1)\n",
        "featureScores.columns = ['Specs','Score']  #naming the dataframe columns\n",
        "print(featureScores.nlargest(10,'Score'))  #print semua best features"
      ],
      "metadata": {
        "colab": {
          "base_uri": "https://localhost:8080/"
        },
        "id": "-lfr6MFvlaNO",
        "outputId": "7ed7dfa8-5080-42ec-c55b-26b0481414d0"
      },
      "execution_count": 55,
      "outputs": [
        {
          "output_type": "stream",
          "name": "stdout",
          "text": [
            "              Specs         Score\n",
            "10       total_size  2.045468e+11\n",
            "9    predicted_size  1.995165e+11\n",
            "8   intracoded_size  9.220881e+09\n",
            "4           bitrate  6.220043e+09\n",
            "15       tc_bitrate  5.705563e+08\n",
            "12         tc_width  8.887663e+06\n",
            "13        tc_height  3.792773e+06\n",
            "7       total_frame  2.672863e+06\n",
            "6   predicted_frame  2.667675e+06\n",
            "1             width  1.352587e+06\n"
          ]
        }
      ]
    },
    {
      "cell_type": "code",
      "source": [
        "x = df.drop(columns=['label'])\n",
        "y = df['label']\n",
        "scaler = preprocessing.StandardScaler()\n",
        "scaler.fit(x)\n",
        "x = scaler.transform(x)\n",
        "\n",
        "temp = pd.DataFrame(x,columns=nominal+numerik)\n",
        "temp['label'] = y\n",
        "temp = temp.reset_index()\n",
        "temp = temp.drop(columns=['index'])\n",
        "temp.to_csv('/content/drive/MyDrive/dana_assignment/train.csv',index=False)"
      ],
      "metadata": {
        "id": "VRinLIH-12ZS"
      },
      "execution_count": 56,
      "outputs": []
    },
    {
      "cell_type": "code",
      "source": [
        "df.drop(columns=['label'])"
      ],
      "metadata": {
        "id": "-MIcQdva-zQr",
        "colab": {
          "base_uri": "https://localhost:8080/",
          "height": 424
        },
        "outputId": "f90fcb9d-ec11-4afa-e25d-997685f022a0"
      },
      "execution_count": 57,
      "outputs": [
        {
          "output_type": "execute_result",
          "data": {
            "text/plain": [
              "          duration        width      height  frame_class       bitrate  \\\n",
              "0       282.600000   640.000000  480.000000          0.0  4.846436e+05   \n",
              "1       339.700000   640.000000  480.000000          0.0  4.846436e+05   \n",
              "2       239.100000   480.000000  360.000000          0.0  5.001980e+05   \n",
              "3       714.400000  1280.000000  720.000000          0.0  6.523560e+05   \n",
              "4       645.800000   320.000000  240.000000          0.0  9.590300e+04   \n",
              "...            ...          ...         ...          ...           ...   \n",
              "37950    77.200000   480.000000  360.000000          0.0  3.824610e+05   \n",
              "37951   384.500000   746.104755  480.000000          0.0  6.464320e+05   \n",
              "37952  1321.485538  1280.000000  720.000000          0.0  2.394626e+06   \n",
              "37953   473.000000   625.350523  413.148173          0.0  6.933816e+05   \n",
              "37954    77.200000   480.000000  360.000000          0.0  3.824610e+05   \n",
              "\n",
              "       intracoded_frame  predicted_frame   total_frame  intracoded_size  \\\n",
              "0            112.048545      6920.000000   7065.000000     4.963097e+06   \n",
              "1            181.000000     10010.000000  10191.000000     2.837791e+06   \n",
              "2            100.649325      5868.000000   5980.220086     1.406751e+06   \n",
              "3            143.000000      6507.193859   6675.882193     1.453253e+07   \n",
              "4            138.000000     16008.000000  16146.000000     1.077641e+06   \n",
              "...                 ...              ...           ...              ...   \n",
              "37950         53.000000      2265.000000   2318.000000     1.822970e+05   \n",
              "37951        205.000000     11318.000000  11523.000000     2.839955e+06   \n",
              "37952        328.000000     33880.000000  34208.000000     2.047893e+07   \n",
              "37953        100.649325     11730.988873  11826.000000     1.419320e+06   \n",
              "37954         50.768860      2265.000000   2318.000000     1.822970e+05   \n",
              "\n",
              "       predicted_size    total_size  codec     tc_width    tc_height  \\\n",
              "0        1.480684e+07  1.977335e+07    0.0   526.102499   360.000000   \n",
              "1        8.202610e+05  3.661565e+06    2.0  1920.000000  1079.551622   \n",
              "2        1.354553e+07  1.495228e+07    0.0   640.000000   480.000000   \n",
              "3        4.372052e+07  5.825305e+07    1.0  1280.000000   720.000000   \n",
              "4        6.660941e+06  7.742262e+06    1.0   320.000000   240.000000   \n",
              "...               ...           ...    ...          ...          ...   \n",
              "37950    3.510033e+06  3.692330e+06    0.0   176.000000   144.000000   \n",
              "37951    2.822192e+07  3.106520e+07    0.0   110.710454   144.000000   \n",
              "37952    3.208599e+08  3.413388e+08    1.0   320.000000   240.000000   \n",
              "37953    8.047423e+06  9.697521e+06    0.0  1280.000000   720.000000   \n",
              "37954    3.510033e+06  3.696326e+06    0.0  1920.000000  1080.000000   \n",
              "\n",
              "       tc_frame_class  tc_bitrate  \n",
              "0                 1.0   3000000.0  \n",
              "1                 0.0    820000.0  \n",
              "2                 1.0    539000.0  \n",
              "3                 0.0   5000000.0  \n",
              "4                 0.0     56000.0  \n",
              "...               ...         ...  \n",
              "37950             0.0    539000.0  \n",
              "37951             1.0   5000000.0  \n",
              "37952             1.0     56000.0  \n",
              "37953             0.0   5000000.0  \n",
              "37954             0.0    820000.0  \n",
              "\n",
              "[37955 rows x 16 columns]"
            ],
            "text/html": [
              "\n",
              "  <div id=\"df-a7505a3a-3c8f-4846-9ee2-2fbc0bd9e771\">\n",
              "    <div class=\"colab-df-container\">\n",
              "      <div>\n",
              "<style scoped>\n",
              "    .dataframe tbody tr th:only-of-type {\n",
              "        vertical-align: middle;\n",
              "    }\n",
              "\n",
              "    .dataframe tbody tr th {\n",
              "        vertical-align: top;\n",
              "    }\n",
              "\n",
              "    .dataframe thead th {\n",
              "        text-align: right;\n",
              "    }\n",
              "</style>\n",
              "<table border=\"1\" class=\"dataframe\">\n",
              "  <thead>\n",
              "    <tr style=\"text-align: right;\">\n",
              "      <th></th>\n",
              "      <th>duration</th>\n",
              "      <th>width</th>\n",
              "      <th>height</th>\n",
              "      <th>frame_class</th>\n",
              "      <th>bitrate</th>\n",
              "      <th>intracoded_frame</th>\n",
              "      <th>predicted_frame</th>\n",
              "      <th>total_frame</th>\n",
              "      <th>intracoded_size</th>\n",
              "      <th>predicted_size</th>\n",
              "      <th>total_size</th>\n",
              "      <th>codec</th>\n",
              "      <th>tc_width</th>\n",
              "      <th>tc_height</th>\n",
              "      <th>tc_frame_class</th>\n",
              "      <th>tc_bitrate</th>\n",
              "    </tr>\n",
              "  </thead>\n",
              "  <tbody>\n",
              "    <tr>\n",
              "      <th>0</th>\n",
              "      <td>282.600000</td>\n",
              "      <td>640.000000</td>\n",
              "      <td>480.000000</td>\n",
              "      <td>0.0</td>\n",
              "      <td>4.846436e+05</td>\n",
              "      <td>112.048545</td>\n",
              "      <td>6920.000000</td>\n",
              "      <td>7065.000000</td>\n",
              "      <td>4.963097e+06</td>\n",
              "      <td>1.480684e+07</td>\n",
              "      <td>1.977335e+07</td>\n",
              "      <td>0.0</td>\n",
              "      <td>526.102499</td>\n",
              "      <td>360.000000</td>\n",
              "      <td>1.0</td>\n",
              "      <td>3000000.0</td>\n",
              "    </tr>\n",
              "    <tr>\n",
              "      <th>1</th>\n",
              "      <td>339.700000</td>\n",
              "      <td>640.000000</td>\n",
              "      <td>480.000000</td>\n",
              "      <td>0.0</td>\n",
              "      <td>4.846436e+05</td>\n",
              "      <td>181.000000</td>\n",
              "      <td>10010.000000</td>\n",
              "      <td>10191.000000</td>\n",
              "      <td>2.837791e+06</td>\n",
              "      <td>8.202610e+05</td>\n",
              "      <td>3.661565e+06</td>\n",
              "      <td>2.0</td>\n",
              "      <td>1920.000000</td>\n",
              "      <td>1079.551622</td>\n",
              "      <td>0.0</td>\n",
              "      <td>820000.0</td>\n",
              "    </tr>\n",
              "    <tr>\n",
              "      <th>2</th>\n",
              "      <td>239.100000</td>\n",
              "      <td>480.000000</td>\n",
              "      <td>360.000000</td>\n",
              "      <td>0.0</td>\n",
              "      <td>5.001980e+05</td>\n",
              "      <td>100.649325</td>\n",
              "      <td>5868.000000</td>\n",
              "      <td>5980.220086</td>\n",
              "      <td>1.406751e+06</td>\n",
              "      <td>1.354553e+07</td>\n",
              "      <td>1.495228e+07</td>\n",
              "      <td>0.0</td>\n",
              "      <td>640.000000</td>\n",
              "      <td>480.000000</td>\n",
              "      <td>1.0</td>\n",
              "      <td>539000.0</td>\n",
              "    </tr>\n",
              "    <tr>\n",
              "      <th>3</th>\n",
              "      <td>714.400000</td>\n",
              "      <td>1280.000000</td>\n",
              "      <td>720.000000</td>\n",
              "      <td>0.0</td>\n",
              "      <td>6.523560e+05</td>\n",
              "      <td>143.000000</td>\n",
              "      <td>6507.193859</td>\n",
              "      <td>6675.882193</td>\n",
              "      <td>1.453253e+07</td>\n",
              "      <td>4.372052e+07</td>\n",
              "      <td>5.825305e+07</td>\n",
              "      <td>1.0</td>\n",
              "      <td>1280.000000</td>\n",
              "      <td>720.000000</td>\n",
              "      <td>0.0</td>\n",
              "      <td>5000000.0</td>\n",
              "    </tr>\n",
              "    <tr>\n",
              "      <th>4</th>\n",
              "      <td>645.800000</td>\n",
              "      <td>320.000000</td>\n",
              "      <td>240.000000</td>\n",
              "      <td>0.0</td>\n",
              "      <td>9.590300e+04</td>\n",
              "      <td>138.000000</td>\n",
              "      <td>16008.000000</td>\n",
              "      <td>16146.000000</td>\n",
              "      <td>1.077641e+06</td>\n",
              "      <td>6.660941e+06</td>\n",
              "      <td>7.742262e+06</td>\n",
              "      <td>1.0</td>\n",
              "      <td>320.000000</td>\n",
              "      <td>240.000000</td>\n",
              "      <td>0.0</td>\n",
              "      <td>56000.0</td>\n",
              "    </tr>\n",
              "    <tr>\n",
              "      <th>...</th>\n",
              "      <td>...</td>\n",
              "      <td>...</td>\n",
              "      <td>...</td>\n",
              "      <td>...</td>\n",
              "      <td>...</td>\n",
              "      <td>...</td>\n",
              "      <td>...</td>\n",
              "      <td>...</td>\n",
              "      <td>...</td>\n",
              "      <td>...</td>\n",
              "      <td>...</td>\n",
              "      <td>...</td>\n",
              "      <td>...</td>\n",
              "      <td>...</td>\n",
              "      <td>...</td>\n",
              "      <td>...</td>\n",
              "    </tr>\n",
              "    <tr>\n",
              "      <th>37950</th>\n",
              "      <td>77.200000</td>\n",
              "      <td>480.000000</td>\n",
              "      <td>360.000000</td>\n",
              "      <td>0.0</td>\n",
              "      <td>3.824610e+05</td>\n",
              "      <td>53.000000</td>\n",
              "      <td>2265.000000</td>\n",
              "      <td>2318.000000</td>\n",
              "      <td>1.822970e+05</td>\n",
              "      <td>3.510033e+06</td>\n",
              "      <td>3.692330e+06</td>\n",
              "      <td>0.0</td>\n",
              "      <td>176.000000</td>\n",
              "      <td>144.000000</td>\n",
              "      <td>0.0</td>\n",
              "      <td>539000.0</td>\n",
              "    </tr>\n",
              "    <tr>\n",
              "      <th>37951</th>\n",
              "      <td>384.500000</td>\n",
              "      <td>746.104755</td>\n",
              "      <td>480.000000</td>\n",
              "      <td>0.0</td>\n",
              "      <td>6.464320e+05</td>\n",
              "      <td>205.000000</td>\n",
              "      <td>11318.000000</td>\n",
              "      <td>11523.000000</td>\n",
              "      <td>2.839955e+06</td>\n",
              "      <td>2.822192e+07</td>\n",
              "      <td>3.106520e+07</td>\n",
              "      <td>0.0</td>\n",
              "      <td>110.710454</td>\n",
              "      <td>144.000000</td>\n",
              "      <td>1.0</td>\n",
              "      <td>5000000.0</td>\n",
              "    </tr>\n",
              "    <tr>\n",
              "      <th>37952</th>\n",
              "      <td>1321.485538</td>\n",
              "      <td>1280.000000</td>\n",
              "      <td>720.000000</td>\n",
              "      <td>0.0</td>\n",
              "      <td>2.394626e+06</td>\n",
              "      <td>328.000000</td>\n",
              "      <td>33880.000000</td>\n",
              "      <td>34208.000000</td>\n",
              "      <td>2.047893e+07</td>\n",
              "      <td>3.208599e+08</td>\n",
              "      <td>3.413388e+08</td>\n",
              "      <td>1.0</td>\n",
              "      <td>320.000000</td>\n",
              "      <td>240.000000</td>\n",
              "      <td>1.0</td>\n",
              "      <td>56000.0</td>\n",
              "    </tr>\n",
              "    <tr>\n",
              "      <th>37953</th>\n",
              "      <td>473.000000</td>\n",
              "      <td>625.350523</td>\n",
              "      <td>413.148173</td>\n",
              "      <td>0.0</td>\n",
              "      <td>6.933816e+05</td>\n",
              "      <td>100.649325</td>\n",
              "      <td>11730.988873</td>\n",
              "      <td>11826.000000</td>\n",
              "      <td>1.419320e+06</td>\n",
              "      <td>8.047423e+06</td>\n",
              "      <td>9.697521e+06</td>\n",
              "      <td>0.0</td>\n",
              "      <td>1280.000000</td>\n",
              "      <td>720.000000</td>\n",
              "      <td>0.0</td>\n",
              "      <td>5000000.0</td>\n",
              "    </tr>\n",
              "    <tr>\n",
              "      <th>37954</th>\n",
              "      <td>77.200000</td>\n",
              "      <td>480.000000</td>\n",
              "      <td>360.000000</td>\n",
              "      <td>0.0</td>\n",
              "      <td>3.824610e+05</td>\n",
              "      <td>50.768860</td>\n",
              "      <td>2265.000000</td>\n",
              "      <td>2318.000000</td>\n",
              "      <td>1.822970e+05</td>\n",
              "      <td>3.510033e+06</td>\n",
              "      <td>3.696326e+06</td>\n",
              "      <td>0.0</td>\n",
              "      <td>1920.000000</td>\n",
              "      <td>1080.000000</td>\n",
              "      <td>0.0</td>\n",
              "      <td>820000.0</td>\n",
              "    </tr>\n",
              "  </tbody>\n",
              "</table>\n",
              "<p>37955 rows × 16 columns</p>\n",
              "</div>\n",
              "      <button class=\"colab-df-convert\" onclick=\"convertToInteractive('df-a7505a3a-3c8f-4846-9ee2-2fbc0bd9e771')\"\n",
              "              title=\"Convert this dataframe to an interactive table.\"\n",
              "              style=\"display:none;\">\n",
              "        \n",
              "  <svg xmlns=\"http://www.w3.org/2000/svg\" height=\"24px\"viewBox=\"0 0 24 24\"\n",
              "       width=\"24px\">\n",
              "    <path d=\"M0 0h24v24H0V0z\" fill=\"none\"/>\n",
              "    <path d=\"M18.56 5.44l.94 2.06.94-2.06 2.06-.94-2.06-.94-.94-2.06-.94 2.06-2.06.94zm-11 1L8.5 8.5l.94-2.06 2.06-.94-2.06-.94L8.5 2.5l-.94 2.06-2.06.94zm10 10l.94 2.06.94-2.06 2.06-.94-2.06-.94-.94-2.06-.94 2.06-2.06.94z\"/><path d=\"M17.41 7.96l-1.37-1.37c-.4-.4-.92-.59-1.43-.59-.52 0-1.04.2-1.43.59L10.3 9.45l-7.72 7.72c-.78.78-.78 2.05 0 2.83L4 21.41c.39.39.9.59 1.41.59.51 0 1.02-.2 1.41-.59l7.78-7.78 2.81-2.81c.8-.78.8-2.07 0-2.86zM5.41 20L4 18.59l7.72-7.72 1.47 1.35L5.41 20z\"/>\n",
              "  </svg>\n",
              "      </button>\n",
              "      \n",
              "  <style>\n",
              "    .colab-df-container {\n",
              "      display:flex;\n",
              "      flex-wrap:wrap;\n",
              "      gap: 12px;\n",
              "    }\n",
              "\n",
              "    .colab-df-convert {\n",
              "      background-color: #E8F0FE;\n",
              "      border: none;\n",
              "      border-radius: 50%;\n",
              "      cursor: pointer;\n",
              "      display: none;\n",
              "      fill: #1967D2;\n",
              "      height: 32px;\n",
              "      padding: 0 0 0 0;\n",
              "      width: 32px;\n",
              "    }\n",
              "\n",
              "    .colab-df-convert:hover {\n",
              "      background-color: #E2EBFA;\n",
              "      box-shadow: 0px 1px 2px rgba(60, 64, 67, 0.3), 0px 1px 3px 1px rgba(60, 64, 67, 0.15);\n",
              "      fill: #174EA6;\n",
              "    }\n",
              "\n",
              "    [theme=dark] .colab-df-convert {\n",
              "      background-color: #3B4455;\n",
              "      fill: #D2E3FC;\n",
              "    }\n",
              "\n",
              "    [theme=dark] .colab-df-convert:hover {\n",
              "      background-color: #434B5C;\n",
              "      box-shadow: 0px 1px 3px 1px rgba(0, 0, 0, 0.15);\n",
              "      filter: drop-shadow(0px 1px 2px rgba(0, 0, 0, 0.3));\n",
              "      fill: #FFFFFF;\n",
              "    }\n",
              "  </style>\n",
              "\n",
              "      <script>\n",
              "        const buttonEl =\n",
              "          document.querySelector('#df-a7505a3a-3c8f-4846-9ee2-2fbc0bd9e771 button.colab-df-convert');\n",
              "        buttonEl.style.display =\n",
              "          google.colab.kernel.accessAllowed ? 'block' : 'none';\n",
              "\n",
              "        async function convertToInteractive(key) {\n",
              "          const element = document.querySelector('#df-a7505a3a-3c8f-4846-9ee2-2fbc0bd9e771');\n",
              "          const dataTable =\n",
              "            await google.colab.kernel.invokeFunction('convertToInteractive',\n",
              "                                                     [key], {});\n",
              "          if (!dataTable) return;\n",
              "\n",
              "          const docLinkHtml = 'Like what you see? Visit the ' +\n",
              "            '<a target=\"_blank\" href=https://colab.research.google.com/notebooks/data_table.ipynb>data table notebook</a>'\n",
              "            + ' to learn more about interactive tables.';\n",
              "          element.innerHTML = '';\n",
              "          dataTable['output_type'] = 'display_data';\n",
              "          await google.colab.output.renderOutput(dataTable, element);\n",
              "          const docLink = document.createElement('div');\n",
              "          docLink.innerHTML = docLinkHtml;\n",
              "          element.appendChild(docLink);\n",
              "        }\n",
              "      </script>\n",
              "    </div>\n",
              "  </div>\n",
              "  "
            ]
          },
          "metadata": {},
          "execution_count": 57
        }
      ]
    },
    {
      "cell_type": "code",
      "source": [
        "df_test"
      ],
      "metadata": {
        "id": "bu9TJx294ncE",
        "colab": {
          "base_uri": "https://localhost:8080/",
          "height": 424
        },
        "outputId": "2a3a79a8-9e06-4ac9-fe9e-fa86e48e83d5"
      },
      "execution_count": 58,
      "outputs": [
        {
          "output_type": "execute_result",
          "data": {
            "text/plain": [
              "         duration        width      height  frame_class       bitrate  \\\n",
              "0      256.200000   176.000000  178.835130          1.0  5.756500e+04   \n",
              "1       74.500000   176.000000  144.000000          1.0 -4.297976e+03   \n",
              "2      111.859249   122.888894  144.000000          1.0  5.370700e+04   \n",
              "3      282.600000   640.000000  421.688920          0.0  5.598340e+05   \n",
              "4       72.870627   320.000000  240.000000          0.0  2.722730e+05   \n",
              "...           ...          ...         ...          ...           ...   \n",
              "20631  860.100000  1280.000000  745.832811          0.0  2.688309e+06   \n",
              "20632  106.800000  1280.000000  720.000000          0.0  2.087216e+06   \n",
              "20633  157.900000   480.000000  360.000000          0.0  4.069080e+05   \n",
              "20634  311.100000   176.000000  144.000000          1.0  5.641600e+04   \n",
              "20635  216.600000   320.000000  240.000000          0.0  2.911500e+05   \n",
              "\n",
              "       intracoded_frame  predicted_frame   total_frame  intracoded_size  \\\n",
              "0                  56.0           3018.0   3079.455472     3.029000e+05   \n",
              "1                  15.0            879.0    891.028412     2.087387e+04   \n",
              "2                  37.0           2091.0   2128.000000     1.009690e+05   \n",
              "3                 145.0           6920.0   7092.397212     4.966509e+06   \n",
              "4                  23.0           1081.0   1104.000000     2.854889e+06   \n",
              "...                 ...              ...           ...              ...   \n",
              "20631             277.0          25496.0  25773.000000     1.298983e+07   \n",
              "20632              66.0           2603.0   2669.000000     4.427240e+06   \n",
              "20633              87.0           4646.0   4733.000000     1.776729e+06   \n",
              "20634             113.0           3620.0   3733.000000     1.275520e+05   \n",
              "20635             112.0           6379.0   6505.802272     1.789334e+06   \n",
              "\n",
              "       predicted_size    total_size  codec     tc_width    tc_height  \\\n",
              "0        1.540700e+06  1.843600e+06    2.0  1920.000000  1079.458161   \n",
              "1        4.912760e+05  5.152720e+05    2.0   176.000000   144.000000   \n",
              "2        1.089548e+06  1.190517e+06    2.0   480.000000   360.000000   \n",
              "3        2.279646e+07  2.776532e+07    0.0  1920.000000  1079.454221   \n",
              "4        1.354404e+06  4.212063e+06    1.0   480.000000   360.000000   \n",
              "...               ...           ...    ...          ...          ...   \n",
              "20631    2.760223e+08  2.890121e+08    1.0   320.000000   240.000000   \n",
              "20632    6.911026e+06  1.133827e+07    0.0   176.000000   144.000000   \n",
              "20633    6.254165e+06  8.030894e+06    0.0   524.746764   360.000000   \n",
              "20634    2.066350e+06  2.197078e+06    2.0   108.755419   144.000000   \n",
              "20635    6.091735e+06  7.881069e+06    0.0   524.731824   360.000000   \n",
              "\n",
              "       tc_frame_class  tc_bitrate  \n",
              "0                 0.0    539000.0  \n",
              "1                 0.0    820000.0  \n",
              "2                 1.0   3000000.0  \n",
              "3                 0.0    820000.0  \n",
              "4                 0.0    539000.0  \n",
              "...               ...         ...  \n",
              "20631             1.0    539000.0  \n",
              "20632             0.0   5000000.0  \n",
              "20633             0.0         NaN  \n",
              "20634             0.0    539000.0  \n",
              "20635             1.0    820000.0  \n",
              "\n",
              "[20636 rows x 16 columns]"
            ],
            "text/html": [
              "\n",
              "  <div id=\"df-523ecb65-e047-48d3-b070-c99b61bc5cf5\">\n",
              "    <div class=\"colab-df-container\">\n",
              "      <div>\n",
              "<style scoped>\n",
              "    .dataframe tbody tr th:only-of-type {\n",
              "        vertical-align: middle;\n",
              "    }\n",
              "\n",
              "    .dataframe tbody tr th {\n",
              "        vertical-align: top;\n",
              "    }\n",
              "\n",
              "    .dataframe thead th {\n",
              "        text-align: right;\n",
              "    }\n",
              "</style>\n",
              "<table border=\"1\" class=\"dataframe\">\n",
              "  <thead>\n",
              "    <tr style=\"text-align: right;\">\n",
              "      <th></th>\n",
              "      <th>duration</th>\n",
              "      <th>width</th>\n",
              "      <th>height</th>\n",
              "      <th>frame_class</th>\n",
              "      <th>bitrate</th>\n",
              "      <th>intracoded_frame</th>\n",
              "      <th>predicted_frame</th>\n",
              "      <th>total_frame</th>\n",
              "      <th>intracoded_size</th>\n",
              "      <th>predicted_size</th>\n",
              "      <th>total_size</th>\n",
              "      <th>codec</th>\n",
              "      <th>tc_width</th>\n",
              "      <th>tc_height</th>\n",
              "      <th>tc_frame_class</th>\n",
              "      <th>tc_bitrate</th>\n",
              "    </tr>\n",
              "  </thead>\n",
              "  <tbody>\n",
              "    <tr>\n",
              "      <th>0</th>\n",
              "      <td>256.200000</td>\n",
              "      <td>176.000000</td>\n",
              "      <td>178.835130</td>\n",
              "      <td>1.0</td>\n",
              "      <td>5.756500e+04</td>\n",
              "      <td>56.0</td>\n",
              "      <td>3018.0</td>\n",
              "      <td>3079.455472</td>\n",
              "      <td>3.029000e+05</td>\n",
              "      <td>1.540700e+06</td>\n",
              "      <td>1.843600e+06</td>\n",
              "      <td>2.0</td>\n",
              "      <td>1920.000000</td>\n",
              "      <td>1079.458161</td>\n",
              "      <td>0.0</td>\n",
              "      <td>539000.0</td>\n",
              "    </tr>\n",
              "    <tr>\n",
              "      <th>1</th>\n",
              "      <td>74.500000</td>\n",
              "      <td>176.000000</td>\n",
              "      <td>144.000000</td>\n",
              "      <td>1.0</td>\n",
              "      <td>-4.297976e+03</td>\n",
              "      <td>15.0</td>\n",
              "      <td>879.0</td>\n",
              "      <td>891.028412</td>\n",
              "      <td>2.087387e+04</td>\n",
              "      <td>4.912760e+05</td>\n",
              "      <td>5.152720e+05</td>\n",
              "      <td>2.0</td>\n",
              "      <td>176.000000</td>\n",
              "      <td>144.000000</td>\n",
              "      <td>0.0</td>\n",
              "      <td>820000.0</td>\n",
              "    </tr>\n",
              "    <tr>\n",
              "      <th>2</th>\n",
              "      <td>111.859249</td>\n",
              "      <td>122.888894</td>\n",
              "      <td>144.000000</td>\n",
              "      <td>1.0</td>\n",
              "      <td>5.370700e+04</td>\n",
              "      <td>37.0</td>\n",
              "      <td>2091.0</td>\n",
              "      <td>2128.000000</td>\n",
              "      <td>1.009690e+05</td>\n",
              "      <td>1.089548e+06</td>\n",
              "      <td>1.190517e+06</td>\n",
              "      <td>2.0</td>\n",
              "      <td>480.000000</td>\n",
              "      <td>360.000000</td>\n",
              "      <td>1.0</td>\n",
              "      <td>3000000.0</td>\n",
              "    </tr>\n",
              "    <tr>\n",
              "      <th>3</th>\n",
              "      <td>282.600000</td>\n",
              "      <td>640.000000</td>\n",
              "      <td>421.688920</td>\n",
              "      <td>0.0</td>\n",
              "      <td>5.598340e+05</td>\n",
              "      <td>145.0</td>\n",
              "      <td>6920.0</td>\n",
              "      <td>7092.397212</td>\n",
              "      <td>4.966509e+06</td>\n",
              "      <td>2.279646e+07</td>\n",
              "      <td>2.776532e+07</td>\n",
              "      <td>0.0</td>\n",
              "      <td>1920.000000</td>\n",
              "      <td>1079.454221</td>\n",
              "      <td>0.0</td>\n",
              "      <td>820000.0</td>\n",
              "    </tr>\n",
              "    <tr>\n",
              "      <th>4</th>\n",
              "      <td>72.870627</td>\n",
              "      <td>320.000000</td>\n",
              "      <td>240.000000</td>\n",
              "      <td>0.0</td>\n",
              "      <td>2.722730e+05</td>\n",
              "      <td>23.0</td>\n",
              "      <td>1081.0</td>\n",
              "      <td>1104.000000</td>\n",
              "      <td>2.854889e+06</td>\n",
              "      <td>1.354404e+06</td>\n",
              "      <td>4.212063e+06</td>\n",
              "      <td>1.0</td>\n",
              "      <td>480.000000</td>\n",
              "      <td>360.000000</td>\n",
              "      <td>0.0</td>\n",
              "      <td>539000.0</td>\n",
              "    </tr>\n",
              "    <tr>\n",
              "      <th>...</th>\n",
              "      <td>...</td>\n",
              "      <td>...</td>\n",
              "      <td>...</td>\n",
              "      <td>...</td>\n",
              "      <td>...</td>\n",
              "      <td>...</td>\n",
              "      <td>...</td>\n",
              "      <td>...</td>\n",
              "      <td>...</td>\n",
              "      <td>...</td>\n",
              "      <td>...</td>\n",
              "      <td>...</td>\n",
              "      <td>...</td>\n",
              "      <td>...</td>\n",
              "      <td>...</td>\n",
              "      <td>...</td>\n",
              "    </tr>\n",
              "    <tr>\n",
              "      <th>20631</th>\n",
              "      <td>860.100000</td>\n",
              "      <td>1280.000000</td>\n",
              "      <td>745.832811</td>\n",
              "      <td>0.0</td>\n",
              "      <td>2.688309e+06</td>\n",
              "      <td>277.0</td>\n",
              "      <td>25496.0</td>\n",
              "      <td>25773.000000</td>\n",
              "      <td>1.298983e+07</td>\n",
              "      <td>2.760223e+08</td>\n",
              "      <td>2.890121e+08</td>\n",
              "      <td>1.0</td>\n",
              "      <td>320.000000</td>\n",
              "      <td>240.000000</td>\n",
              "      <td>1.0</td>\n",
              "      <td>539000.0</td>\n",
              "    </tr>\n",
              "    <tr>\n",
              "      <th>20632</th>\n",
              "      <td>106.800000</td>\n",
              "      <td>1280.000000</td>\n",
              "      <td>720.000000</td>\n",
              "      <td>0.0</td>\n",
              "      <td>2.087216e+06</td>\n",
              "      <td>66.0</td>\n",
              "      <td>2603.0</td>\n",
              "      <td>2669.000000</td>\n",
              "      <td>4.427240e+06</td>\n",
              "      <td>6.911026e+06</td>\n",
              "      <td>1.133827e+07</td>\n",
              "      <td>0.0</td>\n",
              "      <td>176.000000</td>\n",
              "      <td>144.000000</td>\n",
              "      <td>0.0</td>\n",
              "      <td>5000000.0</td>\n",
              "    </tr>\n",
              "    <tr>\n",
              "      <th>20633</th>\n",
              "      <td>157.900000</td>\n",
              "      <td>480.000000</td>\n",
              "      <td>360.000000</td>\n",
              "      <td>0.0</td>\n",
              "      <td>4.069080e+05</td>\n",
              "      <td>87.0</td>\n",
              "      <td>4646.0</td>\n",
              "      <td>4733.000000</td>\n",
              "      <td>1.776729e+06</td>\n",
              "      <td>6.254165e+06</td>\n",
              "      <td>8.030894e+06</td>\n",
              "      <td>0.0</td>\n",
              "      <td>524.746764</td>\n",
              "      <td>360.000000</td>\n",
              "      <td>0.0</td>\n",
              "      <td>NaN</td>\n",
              "    </tr>\n",
              "    <tr>\n",
              "      <th>20634</th>\n",
              "      <td>311.100000</td>\n",
              "      <td>176.000000</td>\n",
              "      <td>144.000000</td>\n",
              "      <td>1.0</td>\n",
              "      <td>5.641600e+04</td>\n",
              "      <td>113.0</td>\n",
              "      <td>3620.0</td>\n",
              "      <td>3733.000000</td>\n",
              "      <td>1.275520e+05</td>\n",
              "      <td>2.066350e+06</td>\n",
              "      <td>2.197078e+06</td>\n",
              "      <td>2.0</td>\n",
              "      <td>108.755419</td>\n",
              "      <td>144.000000</td>\n",
              "      <td>0.0</td>\n",
              "      <td>539000.0</td>\n",
              "    </tr>\n",
              "    <tr>\n",
              "      <th>20635</th>\n",
              "      <td>216.600000</td>\n",
              "      <td>320.000000</td>\n",
              "      <td>240.000000</td>\n",
              "      <td>0.0</td>\n",
              "      <td>2.911500e+05</td>\n",
              "      <td>112.0</td>\n",
              "      <td>6379.0</td>\n",
              "      <td>6505.802272</td>\n",
              "      <td>1.789334e+06</td>\n",
              "      <td>6.091735e+06</td>\n",
              "      <td>7.881069e+06</td>\n",
              "      <td>0.0</td>\n",
              "      <td>524.731824</td>\n",
              "      <td>360.000000</td>\n",
              "      <td>1.0</td>\n",
              "      <td>820000.0</td>\n",
              "    </tr>\n",
              "  </tbody>\n",
              "</table>\n",
              "<p>20636 rows × 16 columns</p>\n",
              "</div>\n",
              "      <button class=\"colab-df-convert\" onclick=\"convertToInteractive('df-523ecb65-e047-48d3-b070-c99b61bc5cf5')\"\n",
              "              title=\"Convert this dataframe to an interactive table.\"\n",
              "              style=\"display:none;\">\n",
              "        \n",
              "  <svg xmlns=\"http://www.w3.org/2000/svg\" height=\"24px\"viewBox=\"0 0 24 24\"\n",
              "       width=\"24px\">\n",
              "    <path d=\"M0 0h24v24H0V0z\" fill=\"none\"/>\n",
              "    <path d=\"M18.56 5.44l.94 2.06.94-2.06 2.06-.94-2.06-.94-.94-2.06-.94 2.06-2.06.94zm-11 1L8.5 8.5l.94-2.06 2.06-.94-2.06-.94L8.5 2.5l-.94 2.06-2.06.94zm10 10l.94 2.06.94-2.06 2.06-.94-2.06-.94-.94-2.06-.94 2.06-2.06.94z\"/><path d=\"M17.41 7.96l-1.37-1.37c-.4-.4-.92-.59-1.43-.59-.52 0-1.04.2-1.43.59L10.3 9.45l-7.72 7.72c-.78.78-.78 2.05 0 2.83L4 21.41c.39.39.9.59 1.41.59.51 0 1.02-.2 1.41-.59l7.78-7.78 2.81-2.81c.8-.78.8-2.07 0-2.86zM5.41 20L4 18.59l7.72-7.72 1.47 1.35L5.41 20z\"/>\n",
              "  </svg>\n",
              "      </button>\n",
              "      \n",
              "  <style>\n",
              "    .colab-df-container {\n",
              "      display:flex;\n",
              "      flex-wrap:wrap;\n",
              "      gap: 12px;\n",
              "    }\n",
              "\n",
              "    .colab-df-convert {\n",
              "      background-color: #E8F0FE;\n",
              "      border: none;\n",
              "      border-radius: 50%;\n",
              "      cursor: pointer;\n",
              "      display: none;\n",
              "      fill: #1967D2;\n",
              "      height: 32px;\n",
              "      padding: 0 0 0 0;\n",
              "      width: 32px;\n",
              "    }\n",
              "\n",
              "    .colab-df-convert:hover {\n",
              "      background-color: #E2EBFA;\n",
              "      box-shadow: 0px 1px 2px rgba(60, 64, 67, 0.3), 0px 1px 3px 1px rgba(60, 64, 67, 0.15);\n",
              "      fill: #174EA6;\n",
              "    }\n",
              "\n",
              "    [theme=dark] .colab-df-convert {\n",
              "      background-color: #3B4455;\n",
              "      fill: #D2E3FC;\n",
              "    }\n",
              "\n",
              "    [theme=dark] .colab-df-convert:hover {\n",
              "      background-color: #434B5C;\n",
              "      box-shadow: 0px 1px 3px 1px rgba(0, 0, 0, 0.15);\n",
              "      filter: drop-shadow(0px 1px 2px rgba(0, 0, 0, 0.3));\n",
              "      fill: #FFFFFF;\n",
              "    }\n",
              "  </style>\n",
              "\n",
              "      <script>\n",
              "        const buttonEl =\n",
              "          document.querySelector('#df-523ecb65-e047-48d3-b070-c99b61bc5cf5 button.colab-df-convert');\n",
              "        buttonEl.style.display =\n",
              "          google.colab.kernel.accessAllowed ? 'block' : 'none';\n",
              "\n",
              "        async function convertToInteractive(key) {\n",
              "          const element = document.querySelector('#df-523ecb65-e047-48d3-b070-c99b61bc5cf5');\n",
              "          const dataTable =\n",
              "            await google.colab.kernel.invokeFunction('convertToInteractive',\n",
              "                                                     [key], {});\n",
              "          if (!dataTable) return;\n",
              "\n",
              "          const docLinkHtml = 'Like what you see? Visit the ' +\n",
              "            '<a target=\"_blank\" href=https://colab.research.google.com/notebooks/data_table.ipynb>data table notebook</a>'\n",
              "            + ' to learn more about interactive tables.';\n",
              "          element.innerHTML = '';\n",
              "          dataTable['output_type'] = 'display_data';\n",
              "          await google.colab.output.renderOutput(dataTable, element);\n",
              "          const docLink = document.createElement('div');\n",
              "          docLink.innerHTML = docLinkHtml;\n",
              "          element.appendChild(docLink);\n",
              "        }\n",
              "      </script>\n",
              "    </div>\n",
              "  </div>\n",
              "  "
            ]
          },
          "metadata": {},
          "execution_count": 58
        }
      ]
    },
    {
      "cell_type": "code",
      "source": [
        "df_test = scaler.transform(df_test)\n",
        "\n",
        "temp = pd.DataFrame(df_test,columns=nominal+numerik)\n",
        "temp = temp.reset_index()\n",
        "temp = temp.drop(columns=['index'])\n",
        "\n",
        "temp.to_csv('/content/drive/MyDrive/dana_assignment/test.csv',index=False)"
      ],
      "metadata": {
        "id": "TQppu9SO5n-T"
      },
      "execution_count": 59,
      "outputs": []
    },
    {
      "cell_type": "code",
      "source": [],
      "metadata": {
        "id": "bGj9YP_f6_IO"
      },
      "execution_count": 59,
      "outputs": []
    }
  ]
}